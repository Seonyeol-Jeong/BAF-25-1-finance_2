{
 "cells": [
  {
   "cell_type": "code",
   "execution_count": 1,
   "metadata": {},
   "outputs": [
    {
     "name": "stdout",
     "output_type": "stream",
     "text": [
      "Requirement already satisfied: selenium in c:\\users\\chica\\appdata\\local\\programs\\python\\python312\\lib\\site-packages (4.29.0)\n",
      "Requirement already satisfied: urllib3<3,>=1.26 in c:\\users\\chica\\appdata\\local\\programs\\python\\python312\\lib\\site-packages (from urllib3[socks]<3,>=1.26->selenium) (2.2.2)\n",
      "Requirement already satisfied: trio~=0.17 in c:\\users\\chica\\appdata\\local\\programs\\python\\python312\\lib\\site-packages (from selenium) (0.26.2)\n",
      "Requirement already satisfied: trio-websocket~=0.9 in c:\\users\\chica\\appdata\\local\\programs\\python\\python312\\lib\\site-packages (from selenium) (0.11.1)\n",
      "Requirement already satisfied: certifi>=2021.10.8 in c:\\users\\chica\\appdata\\local\\programs\\python\\python312\\lib\\site-packages (from selenium) (2024.7.4)\n",
      "Requirement already satisfied: typing_extensions~=4.9 in c:\\users\\chica\\appdata\\local\\programs\\python\\python312\\lib\\site-packages (from selenium) (4.12.2)\n",
      "Requirement already satisfied: websocket-client~=1.8 in c:\\users\\chica\\appdata\\local\\programs\\python\\python312\\lib\\site-packages (from selenium) (1.8.0)\n",
      "Requirement already satisfied: attrs>=23.2.0 in c:\\users\\chica\\appdata\\local\\programs\\python\\python312\\lib\\site-packages (from trio~=0.17->selenium) (23.2.0)\n",
      "Requirement already satisfied: sortedcontainers in c:\\users\\chica\\appdata\\local\\programs\\python\\python312\\lib\\site-packages (from trio~=0.17->selenium) (2.4.0)\n",
      "Requirement already satisfied: idna in c:\\users\\chica\\appdata\\local\\programs\\python\\python312\\lib\\site-packages (from trio~=0.17->selenium) (3.7)\n",
      "Requirement already satisfied: outcome in c:\\users\\chica\\appdata\\local\\programs\\python\\python312\\lib\\site-packages (from trio~=0.17->selenium) (1.3.0.post0)\n",
      "Requirement already satisfied: sniffio>=1.3.0 in c:\\users\\chica\\appdata\\local\\programs\\python\\python312\\lib\\site-packages (from trio~=0.17->selenium) (1.3.1)\n",
      "Requirement already satisfied: cffi>=1.14 in c:\\users\\chica\\appdata\\local\\programs\\python\\python312\\lib\\site-packages (from trio~=0.17->selenium) (1.16.0)\n",
      "Requirement already satisfied: wsproto>=0.14 in c:\\users\\chica\\appdata\\local\\programs\\python\\python312\\lib\\site-packages (from trio-websocket~=0.9->selenium) (1.2.0)\n",
      "Requirement already satisfied: pysocks!=1.5.7,<2.0,>=1.5.6 in c:\\users\\chica\\appdata\\local\\programs\\python\\python312\\lib\\site-packages (from urllib3[socks]<3,>=1.26->selenium) (1.7.1)\n",
      "Requirement already satisfied: pycparser in c:\\users\\chica\\appdata\\local\\programs\\python\\python312\\lib\\site-packages (from cffi>=1.14->trio~=0.17->selenium) (2.22)\n",
      "Requirement already satisfied: h11<1,>=0.9.0 in c:\\users\\chica\\appdata\\local\\programs\\python\\python312\\lib\\site-packages (from wsproto>=0.14->trio-websocket~=0.9->selenium) (0.14.0)\n",
      "Note: you may need to restart the kernel to use updated packages.\n"
     ]
    },
    {
     "name": "stderr",
     "output_type": "stream",
     "text": [
      "\n",
      "[notice] A new release of pip is available: 24.2 -> 25.1\n",
      "[notice] To update, run: python.exe -m pip install --upgrade pip\n"
     ]
    }
   ],
   "source": [
    "pip install selenium"
   ]
  },
  {
   "cell_type": "markdown",
   "metadata": {},
   "source": [
    "### 연예인(나무위키 사이트까지) 지정"
   ]
  },
  {
   "cell_type": "code",
   "execution_count": null,
   "metadata": {},
   "outputs": [],
   "source": []
  },
  {
   "cell_type": "markdown",
   "metadata": {},
   "source": [
    "### div 지정해서 텍스트 가져오기"
   ]
  },
  {
   "cell_type": "code",
   "execution_count": null,
   "metadata": {},
   "outputs": [
    {
     "name": "stdout",
     "output_type": "stream",
     "text": [
      "ℹ️ URL 없음 → 텍스트 없이 기록: 시우민\n",
      "ℹ️ URL 없음 → 텍스트 없이 기록: 수호\n",
      "ℹ️ URL 없음 → 텍스트 없이 기록: 세훈\n",
      "ℹ️ URL 없음 → 텍스트 없이 기록: 최강창민\n",
      "ℹ️ URL 없음 → 텍스트 없이 기록: 예성\n",
      "ℹ️ URL 없음 → 텍스트 없이 기록: 동해\n",
      "ℹ️ URL 없음 → 텍스트 없이 기록: 려욱\n",
      "ℹ️ URL 없음 → 텍스트 없이 기록: 규현\n",
      "ℹ️ URL 없음 → 텍스트 없이 기록: 종현\n",
      "ℹ️ URL 없음 → 텍스트 없이 기록: 키\n",
      "ℹ️ URL 없음 → 텍스트 없이 기록: 민호\n",
      "ℹ️ URL 없음 → 텍스트 없이 기록: 태민\n",
      "ℹ️ URL 없음 → 텍스트 없이 기록: 유타\n",
      "ℹ️ URL 없음 → 텍스트 없이 기록: 쿤\n",
      "ℹ️ URL 없음 → 텍스트 없이 기록: 도영\n",
      "ℹ️ URL 없음 → 텍스트 없이 기록: 텐\n",
      "ℹ️ URL 없음 → 텍스트 없이 기록: 마크\n",
      "ℹ️ URL 없음 → 텍스트 없이 기록: 샤오쥔\n",
      "ℹ️ URL 없음 → 텍스트 없이 기록: 헨드리\n",
      "ℹ️ URL 없음 → 텍스트 없이 기록: 제노\n",
      "ℹ️ URL 없음 → 텍스트 없이 기록: 재민\n",
      "ℹ️ URL 없음 → 텍스트 없이 기록: 양양\n",
      "ℹ️ URL 없음 → 텍스트 없이 기록: 천러\n",
      "ℹ️ URL 없음 → 텍스트 없이 기록: 지성\n",
      "ℹ️ URL 없음 → 텍스트 없이 기록: 쇼타로\n",
      "ℹ️ URL 없음 → 텍스트 없이 기록: 은석\n",
      "ℹ️ URL 없음 → 텍스트 없이 기록: 성찬\n",
      "ℹ️ URL 없음 → 텍스트 없이 기록: 원빈\n",
      "ℹ️ URL 없음 → 텍스트 없이 기록: 승한\n",
      "ℹ️ URL 없음 → 텍스트 없이 기록: 앤톤\n"
     ]
    }
   ],
   "source": [
    "import pandas as pd\n",
    "from selenium import webdriver\n",
    "from selenium.webdriver.chrome.service import Service\n",
    "from selenium.webdriver.chrome.options import Options\n",
    "from webdriver_manager.chrome import ChromeDriverManager\n",
    "from bs4 import BeautifulSoup\n",
    "import time\n",
    "import csv\n",
    "\n",
    "# 크롬 드라이버 설정\n",
    "options = Options()\n",
    "options.add_argument(\"--headless=new\") # 돌아가는 거거 안보이게 하는 옵션\n",
    "options.add_argument(\"--disable-gpu\")\n",
    "options.add_argument(\"--no-sandbox\")\n",
    "options.add_argument(\"user-agent=Mozilla/5.0 (Windows NT 10.0; Win64; x64)\")\n",
    "options.add_argument(\"--lang=ko_KR\")\n",
    "options.add_argument(\"--window-size=1920x1080\")\n",
    "\n",
    "driver = webdriver.Chrome(service=Service(ChromeDriverManager().install()), options=options)\n",
    "driver.implicitly_wait(5)\n",
    "\n",
    "# 연예인 목록 CSV 불러오기\n",
    "artist_df = pd.read_csv(\"JYP_연예인목록.csv\")\n",
    "\n",
    "# 결과 저장 CSV\n",
    "with open(\"JYP논란_크롤링.csv\", \"w\", newline='', encoding=\"utf-8-sig\") as f:\n",
    "    writer = csv.writer(f)\n",
    "    writer.writerow(['소속사', '그룹', '연예인 이름', '텍스트'])\n",
    "\n",
    "    for _, artist in artist_df.iterrows():\n",
    "        url = str(artist['url']).strip()\n",
    "        \n",
    "        if not url.startswith(\"http\"):\n",
    "            # URL이 없으면 텍스트 없이 기본 정보만 기록\n",
    "            writer.writerow([\n",
    "                artist['소속사'],\n",
    "                artist['그룹'],\n",
    "                artist['연예인 이름'],\n",
    "                ''\n",
    "            ])\n",
    "            print(f\"ℹ️ URL 없음 → 텍스트 없이 기록: {artist['연예인 이름']}\")\n",
    "            continue\n",
    "\n",
    "        try:\n",
    "            driver.get(url)\n",
    "            time.sleep(3)\n",
    "\n",
    "            html = driver.page_source\n",
    "            soup = BeautifulSoup(html, 'html.parser')\n",
    "            # BEFORE: 페이지 전체 텍스트\n",
    "            # text = soup.get_text(separator=\"\\n\", strip=True)\n",
    "\n",
    "            # AFTER: 특정 div 텍스트만\n",
    "            target_div = soup.find(\"div\", class_=\"EyS5B+jf upriic4n\")\n",
    "            text = target_div.get_text(separator=\"\\n\", strip=True) if target_div else \"\"\n",
    "\n",
    "            writer.writerow([\n",
    "                artist['소속사'],\n",
    "                artist['그룹'],\n",
    "                artist['연예인 이름'],\n",
    "                text\n",
    "            ])\n",
    "        except Exception as e:\n",
    "            print(f\"❌ 크롤링 오류: {artist['연예인 이름']} → {e}\")\n",
    "            writer.writerow([\n",
    "                artist['소속사'],\n",
    "                artist['그룹'],\n",
    "                artist['연예인 이름'],\n",
    "                ''\n",
    "            ])\n",
    "\n",
    "driver.quit()"
   ]
  },
  {
   "cell_type": "markdown",
   "metadata": {},
   "source": [
    "### 그룹끼리 같은 논란/사건사고 페이지를 가지는 경우\n",
    "\n",
    "시작: 해당 행 연예인 이름\n",
    "\n",
    "끝: 같은 그룹의 다른 연예인 이름 가장 먼저 나오는 곳 이전까지\n",
    "\n",
    "시작~끝 이전까지 슬라이싱"
   ]
  },
  {
   "cell_type": "code",
   "execution_count": null,
   "metadata": {},
   "outputs": [
    {
     "name": "stdout",
     "output_type": "stream",
     "text": [
      "🎯 그룹 기준 목차-이름 매칭 텍스트 잘라내기 완료 및 저장\n"
     ]
    }
   ],
   "source": [
    "import pandas as pd\n",
    "import re\n",
    "\n",
    "# 새 텍스트 자르기 함수\n",
    "def trim_text_by_group_using_headers(text, current_name, group_names):\n",
    "    if pd.isna(text):\n",
    "        return text\n",
    "\n",
    "    header_pattern_current = rf'\\d+(?:\\.\\d+)*\\.\\s*{re.escape(current_name)}'\n",
    "    current_match = re.search(header_pattern_current, text)\n",
    "\n",
    "    if not current_match:\n",
    "        return text\n",
    "\n",
    "    start = current_match.start()\n",
    "\n",
    "    other_names = [name for name in group_names if name != current_name]\n",
    "    other_positions = []\n",
    "    for other in other_names:\n",
    "        pattern_other = rf'\\d+(?:\\.\\d+)*\\.\\s*{re.escape(other)}'\n",
    "        match_other = re.search(pattern_other, text[start+1:])\n",
    "        if match_other:\n",
    "            other_positions.append(start + 1 + match_other.start())\n",
    "\n",
    "    end = min(other_positions) if other_positions else len(text)\n",
    "\n",
    "    return text[start:end].strip()\n",
    "\n",
    "# 크롤링된 데이터 불러오기\n",
    "df = pd.read_csv(\"JYP논란_크롤링.csv\")\n",
    "artist_df = pd.read_csv(\"JYP_연예인목록.csv\")\n",
    "\n",
    "# 각 행마다 적용\n",
    "for idx, row in df.iterrows():\n",
    "    group = row['그룹']\n",
    "    name = row['연예인 이름']\n",
    "    full_text = row['텍스트']\n",
    "\n",
    "    group_names = artist_df[artist_df['그룹'] == group]['연예인 이름'].tolist()\n",
    "    trimmed = trim_text_by_group_using_headers(full_text, name, group_names)\n",
    "\n",
    "    df.at[idx, '텍스트'] = trimmed\n",
    "\n",
    "# 다시 저장\n",
    "df.to_csv(\"JYP논란_크롤링.csv\", index=False, encoding='utf-8-sig')\n",
    "print(\"🎯 그룹 기준 목차-이름 매칭 텍스트 잘라내기 완료 및 저장\")"
   ]
  },
  {
   "cell_type": "code",
   "execution_count": null,
   "metadata": {},
   "outputs": [
    {
     "name": "stdout",
     "output_type": "stream",
     "text": [
      "3.1.\n",
      "카리나\n",
      "[편집]\n",
      "3.1.1.\n",
      "데뷔 전 악성 루머 피해\n",
      "[편집]\n",
      "aespa의 데뷔 직전에 온라인 커뮤니티 사이트를 통해 SM 연습생\n",
      "유지민\n",
      "(카리나의 본명)의 지인이라고 주장하는 누리꾼이 유지민과 나눈 문자 메시지 등을 공개해 논란이 일어났다. 해당 메시지에는 선배 가수 및 회사와 관련한 내용이 담겨 있었다.\n",
      "메시지 조작 증거\n",
      "이에 소속사 SM엔터테인먼트는 \"유지민 양에 대한 악성 루머가 무분별하게 유포되고 있다\"라며 해당 글이\n",
      "허위 및 조작된 내용\n",
      "임에도 불구하고, 끊임없이 확대 및 재생산되고 있다고 밝혔다. 또한 \"온라인 상에서 벌어지는 인격 모독, 악성 루머 유포 행위 등 불법 행위에 대해 무관용 원칙하에 민·형사상 법적 조치를 취하여 대응할 것\"이라고 밝히며 지난 10월 강남경찰서를 통해 유지민과 관련한\n",
      "악의적 게시글을 작성하는 이들을 고소했다\n",
      "고 전했다.\n",
      "한국경제 기사\n",
      "또한 카리나의 중고등학교 동창 등이 카리나를 둘러싼 악성 루머에 대해 부정하는 글을 올렸다.\n",
      "#1\n",
      "#2\n",
      "#3\n",
      "이 문단의 내용 중 전체 또는 일부는\n",
      "카리나\n",
      "문서의\n",
      "uuid not found\n",
      "판,\n",
      "6번 문단\n",
      "에서 가져왔습니다.\n",
      "이전 역사 보러 가기\n"
     ]
    }
   ],
   "source": [
    "df = pd.read_csv(\"JYP논란_크롤링.csv\")\n",
    "artist_text = df[df['연예인 이름'] == '카리나']['텍스트'].values\n",
    "\n",
    "print(artist_text[0])"
   ]
  },
  {
   "cell_type": "markdown",
   "metadata": {},
   "source": [
    "### 텍스트 정리\n",
    "\n",
    "`소속사`, `연예인`, `사건 날짜`, `사건 내용`\n",
    "\n",
    "`사건 내용`: 제목을 포함한 모든 텍스트"
   ]
  },
  {
   "cell_type": "code",
   "execution_count": null,
   "metadata": {},
   "outputs": [],
   "source": [
    "import re\n",
    "import pandas as pd\n",
    "\n",
    "# 날짜 정규표현식 (예: 2020년 1월 2일 또는 2020년 01월 02일 등)\n",
    "date_pattern = re.compile(r'\\d{4}년\\s?\\d{1,2}월\\s?\\d{1,2}일')\n",
    "\n",
    "# 결과 리스트 초기화\n",
    "date_separated_data = []\n",
    "\n",
    "# 각 연예인 텍스트에 대해 처리\n",
    "for _, row in df.iterrows():\n",
    "    full_text = str(row['텍스트'])  # ✅ 문자열로 변환 (NaN 방지)\n",
    "    matches = list(date_pattern.finditer(full_text))\n",
    "\n",
    "    if not matches:\n",
    "        date_separated_data.append({\n",
    "            '소속사': row['소속사'],\n",
    "            '그룹': row['그룹'],\n",
    "            '연예인 이름': row['연예인 이름'],\n",
    "            '사건 날짜': '',\n",
    "            '사건 내용': full_text.strip()\n",
    "        })\n",
    "    else:\n",
    "        for i, match in enumerate(matches):\n",
    "            start = match.start()\n",
    "            end = matches[i + 1].start() if i + 1 < len(matches) else len(full_text)\n",
    "            date = match.group()\n",
    "            content = full_text[start:end].strip()\n",
    "            date_separated_data.append({\n",
    "                '소속사': row['소속사'],\n",
    "                '그룹': row['그룹'],\n",
    "                '연예인 이름': row['연예인 이름'],\n",
    "                '사건 날짜': date,\n",
    "                '사건 내용': content\n",
    "            })\n",
    "\n",
    "# 결과 DataFrame 생성 및 저장\n",
    "date_df = pd.DataFrame(date_separated_data)\n",
    "date_df.to_csv(\"JYP논란_크롤링.csv\", index=False, encoding='utf-8-sig')"
   ]
  },
  {
   "cell_type": "markdown",
   "metadata": {},
   "source": [
    "`사건 내용`: 마지막 문장이 끝나면(마지막 '~다.'이 나타나면) 그 다음 나머지 텍스트는 전부 삭제"
   ]
  },
  {
   "cell_type": "code",
   "execution_count": null,
   "metadata": {},
   "outputs": [],
   "source": [
    "import pandas as pd\n",
    "import re\n",
    "\n",
    "# 파일 읽기\n",
    "df = pd.read_csv('JYP논란_크롤링.csv')\n",
    "\n",
    "# 텍스트 정제 함수\n",
    "def keep_until_last_da(text):\n",
    "    if pd.isna(text):\n",
    "        return text\n",
    "\n",
    "    # 줄바꿈 제거\n",
    "    text = text.replace('\\n', ' ').replace('\\r', ' ').strip()\n",
    "\n",
    "    # 마지막 '~다.' 위치 찾기\n",
    "    match = list(re.finditer(r'다\\.', text))\n",
    "    if match:\n",
    "        last_match = match[-1]\n",
    "        cut_idx = last_match.end()\n",
    "        return text[:cut_idx]\n",
    "    else:\n",
    "        # '~다.'가 없는 경우는 그대로 반환\n",
    "        return text\n",
    "\n",
    "# 적용\n",
    "df['사건 내용'] = df['사건 내용'].apply(keep_until_last_da)\n",
    "\n",
    "# 결과 저장\n",
    "df.to_csv('JYP논란_크롤링.csv', index=False, encoding='utf-8-sig')"
   ]
  },
  {
   "cell_type": "markdown",
   "metadata": {},
   "source": [
    "### 각 인물의 마지막 행에 주석 몰아서 들어간거 다 삭제"
   ]
  },
  {
   "cell_type": "code",
   "execution_count": null,
   "metadata": {},
   "outputs": [],
   "source": [
    "import pandas as pd\n",
    "\n",
    "# 파일 불러오기\n",
    "df = pd.read_csv('JYP논란_크롤링.csv')\n",
    "\n",
    "# 각 인물의 마지막 사건 행만 복사\n",
    "last_rows = df.groupby('연예인 이름').tail(1).copy()\n",
    "\n",
    "# 인덱스 기준으로 전체 데이터 복사 (수정 반영용)\n",
    "df_copy = df.copy()\n",
    "\n",
    "# 각 인물 마지막 사건 텍스트에서 '[1]' 이후 삭제\n",
    "for idx in last_rows.index:\n",
    "    content = df_copy.at[idx, '사건 내용']\n",
    "    if pd.notna(content):\n",
    "        if '[1]' in content:\n",
    "            df_copy.at[idx, '사건 내용'] = content.split('[1]')[0].strip()\n",
    "\n",
    "# 저장\n",
    "df_copy.to_csv('JYP논란_크롤링.csv', index=False, encoding='utf-8-sig')"
   ]
  },
  {
   "cell_type": "markdown",
   "metadata": {},
   "source": [
    "### 불필요한 텍스트 다 삭제\n",
    "\n",
    "(1) '[편집]' 이후 등장하는 문단 번호부터 삭제\n",
    "\n",
    "(2) \"자세한 내용은 ~ 문서를 참고하십시오\" 문장 제거\n",
    "\n",
    "(3) [숫자] 각주 제거\n",
    "\n",
    "(4) '[편집]' 단어 자체 제거\n",
    "\n",
    "(5) \"이 문서의 내용 중 전체 또는 일부는\" 이 포함된 문장 전체 제거"
   ]
  },
  {
   "cell_type": "code",
   "execution_count": null,
   "metadata": {},
   "outputs": [
    {
     "name": "stdout",
     "output_type": "stream",
     "text": [
      "정제가 완료되었습니다. 저장 파일: SM논란_크롤링.csv\n"
     ]
    }
   ],
   "source": [
    "import pandas as pd\n",
    "import re\n",
    "\n",
    "def remove_wiki_garbage(text):\n",
    "    if pd.isna(text):\n",
    "        return text\n",
    "\n",
    "    # 줄바꿈 제거\n",
    "    text = text.replace('\\n', ' ').replace('\\r', ' ')\n",
    "\n",
    "    # 1. '[편집]' 앞 목차 패턴이 나타나면 → 거기서 자르기\n",
    "    match = re.search(r'\\d+\\.\\d+\\..+?\\[편집\\]', text)\n",
    "    if not match:\n",
    "        match = re.search(r'\\d+\\..+?\\[편집\\]', text)\n",
    "    if match:\n",
    "        text = text[:match.start()]\n",
    "\n",
    "    # 2. \"자세한 내용은 ~ 문서를 참고하십시오\" 제거\n",
    "    text = re.sub(r'자세한 내용은 .*?문서를 참고하십시오\\.?', '', text)\n",
    "\n",
    "    # 3. [숫자] 각주 제거\n",
    "    text = re.sub(r'\\[\\d+\\]', '', text)\n",
    "\n",
    "    # 4. '[편집]' 단어 제거\n",
    "    text = text.replace('[편집]', '')\n",
    "\n",
    "    # 5. \"이 문서의 내용 중 전체 또는 일부는\" 이 포함된 문장 전체 제거\n",
    "    sentences = re.split(r'(?<=[.!?])\\s+', text)\n",
    "    filtered_sentences = [\n",
    "        s for s in sentences if '이 문서의 내용 중 전체 또는 일부는' not in s\n",
    "    ]\n",
    "    text = ' '.join(filtered_sentences)\n",
    "\n",
    "    # # 6. 'YYYY년 MM월 DD일' 형식 삭제\n",
    "    # text = re.sub(r'[\\s,\\.]*\\d{4}년\\s*\\d{1,2}월\\s*\\d{1,2}일[\\s,\\.]*', ' ', text)\n",
    "\n",
    "    # 8. '파워링크 광고' 문구 포함 이후 텍스트 전체 제거 \n",
    "    ad_idx = text.find('파워링크 광고')\n",
    "    if ad_idx != -1:\n",
    "        text = text[:ad_idx]\n",
    "\n",
    "    # 7. 공백 정리\n",
    "    return re.sub(r'\\s+', ' ', text).strip()\n",
    "\n",
    "# ▶ 2. CSV 파일 불러오기\n",
    "input_path = 'JYP논란_크롤링.csv'\n",
    "output_path = 'JYP논란_크롤링.csv'\n",
    "\n",
    "df = pd.read_csv(input_path)\n",
    "\n",
    "# ▶ 3. 정제 함수 적용\n",
    "df['사건 내용'] = df['사건 내용'].apply(remove_wiki_garbage)\n",
    "\n",
    "# ▶ 5. 결과 저장\n",
    "df.to_csv(output_path, index=False, encoding='utf-8-sig')\n",
    "\n",
    "print(\"정제가 완료되었습니다. 저장 파일:\", output_path)\n"
   ]
  },
  {
   "cell_type": "code",
   "execution_count": null,
   "metadata": {},
   "outputs": [
    {
     "name": "stdout",
     "output_type": "stream",
     "text": [
      "✅ '~다.' 형태 포함된 행만 남기고 저장 완료\n"
     ]
    }
   ],
   "source": [
    "import pandas as pd\n",
    "import re\n",
    "\n",
    "# 파일 불러오기\n",
    "df = pd.read_csv('JYP논란_크롤링.csv')\n",
    "\n",
    "# '~다.' 형태가 포함된 행만 남기기\n",
    "pattern = r'\\b[가-힣]*다\\.'\n",
    "df = df[df['사건 내용'].str.contains(pattern, regex=True, na=False)]\n",
    "\n",
    "# 결과 저장\n",
    "df.to_csv('JYP논란_크롤링.csv', index=False, encoding='utf-8-sig')\n",
    "\n",
    "print(\"✅ '~다.' 형태 포함된 행만 남기고 저장 완료\")"
   ]
  }
 ],
 "metadata": {
  "kernelspec": {
   "display_name": "Python 3",
   "language": "python",
   "name": "python3"
  },
  "language_info": {
   "codemirror_mode": {
    "name": "ipython",
    "version": 3
   },
   "file_extension": ".py",
   "mimetype": "text/x-python",
   "name": "python",
   "nbconvert_exporter": "python",
   "pygments_lexer": "ipython3",
   "version": "3.12.2"
  }
 },
 "nbformat": 4,
 "nbformat_minor": 2
}
