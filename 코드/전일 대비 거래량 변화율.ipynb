{
 "cells": [
  {
   "cell_type": "markdown",
   "id": "a99e2064",
   "metadata": {},
   "source": [
    "### 전일대비 거래량 변화율"
   ]
  },
  {
   "cell_type": "code",
   "execution_count": 1,
   "id": "b9e32ff4",
   "metadata": {},
   "outputs": [
    {
     "name": "stdout",
     "output_type": "stream",
     "text": [
      "HYBE.csv 처리 완료\n",
      "HYBE_시가총액.csv 처리 완료\n",
      "JYP.csv 처리 완료\n",
      "JYP_시가총액.csv 처리 완료\n",
      "KOSDAQ Entertainment & Culture.csv 처리 완료\n",
      "RBW.csv 처리 완료\n",
      "RBW_시가총액.csv 처리 완료\n",
      "SM C&C.csv 처리 완료\n",
      "SM C&C_시가총액.csv 처리 완료\n",
      "SM.csv 처리 완료\n",
      "SM_시가총액.csv 처리 완료\n",
      "YG.csv 처리 완료\n",
      "YG_시가총액.csv 처리 완료\n",
      "아티스트컴퍼니.csv 처리 완료\n",
      "아티스트컴퍼니_시가총액.csv 처리 완료\n",
      "코스닥.csv 처리 완료\n",
      "큐브.csv 처리 완료\n",
      "큐브_시가총액.csv 처리 완료\n",
      "키이스트.csv 처리 완료\n",
      "키이스트_시가총액.csv 처리 완료\n"
     ]
    }
   ],
   "source": [
    "import pandas as pd\n",
    "import os\n",
    "\n",
    "# CSV 파일들이 있는 폴더 경로를 지정하세요\n",
    "folder_path = 'C:/Users/chica/OneDrive/바탕 화면/BAF-25-1-finance_2/데이터/주가'  # 예: 'C:/Users/username/Documents/stock_data'\n",
    "\n",
    "# 폴더 내 모든 .csv 파일 순회\n",
    "for filename in os.listdir(folder_path):\n",
    "    if filename.endswith('.csv'):\n",
    "        file_path = os.path.join(folder_path, filename)\n",
    "        \n",
    "        try:\n",
    "            # CSV 파일 읽기\n",
    "            df = pd.read_csv(file_path)\n",
    "\n",
    "            # '거래량' 열이 있는 경우에만 처리\n",
    "            if '거래량' in df.columns:\n",
    "                # 거래량 변화율 (전일 대비 변화 비율) 추가 — 백분율 변환 없음\n",
    "                df['거래량 변화율'] = df['거래량'].pct_change()\n",
    "\n",
    "                # 덮어쓰기 저장\n",
    "                df.to_csv(file_path, index=False)\n",
    "                print(f\"{filename} 처리 완료\")\n",
    "            else:\n",
    "                print(f\"{filename}에는 '거래량' 열이 없음 - 건너뜀\")\n",
    "\n",
    "        except Exception as e:\n",
    "            print(f\"{filename} 처리 중 오류 발생: {e}\")\n"
   ]
  },
  {
   "cell_type": "code",
   "execution_count": 7,
   "id": "8b3ecada",
   "metadata": {},
   "outputs": [
    {
     "name": "stdout",
     "output_type": "stream",
     "text": [
      "✅ 저장 완료: ALL논란_Final_시가총액_거래량변화율.csv\n"
     ]
    }
   ],
   "source": [
    "import pandas as pd\n",
    "import numpy as np\n",
    "import os\n",
    "\n",
    "# 1. 사건 데이터 불러오기\n",
    "scandal = pd.read_csv(\"C:/Users/chica/OneDrive/바탕 화면/BAF-25-1-finance_2/데이터/스캔들/ALL논란_Final_시가총액.csv\", encoding='utf-8', parse_dates=['사건 날짜'])\n",
    "\n",
    "# 2. 날짜 매핑 함수: 사건 이후 가장 가까운 날짜\n",
    "def map_closest_date(scandal_date, stock_dates):\n",
    "    return stock_dates[stock_dates >= scandal_date].min()\n",
    "\n",
    "# 3. 결과 저장 리스트\n",
    "mapped_dates = []\n",
    "volume_changes = []\n",
    "\n",
    "# 4. 절대 경로 설정\n",
    "stock_data_dir = r\"C:/Users/chica/OneDrive/바탕 화면/BAF-25-1-finance_2/데이터/주가\"\n",
    "\n",
    "# 5. 각 사건 행에 대해 처리\n",
    "for idx, row in scandal.iterrows():\n",
    "    firm = row['소속사']\n",
    "    scandal_date = row['사건 날짜']\n",
    "    \n",
    "    stock_file = os.path.join(stock_data_dir, f\"{firm}.csv\")\n",
    "    \n",
    "    mapped_date = pd.NaT\n",
    "    volume_change = np.nan\n",
    "\n",
    "    if not os.path.exists(stock_file):\n",
    "        print(f\"❗ 주가 파일 없음: {stock_file}\")\n",
    "        mapped_dates.append(mapped_date)\n",
    "        volume_changes.append(volume_change)\n",
    "        continue\n",
    "\n",
    "    try:\n",
    "        # 주가 데이터 불러오기 및 정렬\n",
    "        stock = pd.read_csv(stock_file, parse_dates=['날짜'])\n",
    "        stock = stock.sort_values('날짜').reset_index(drop=True)\n",
    "\n",
    "        # 거래량 변화율 계산 (비율 형태)\n",
    "        stock['거래량_변화율'] = stock['거래량'].pct_change()\n",
    "\n",
    "        # 사건 이후 가장 가까운 날짜 매핑\n",
    "        mapped_date = map_closest_date(scandal_date, stock['날짜'])\n",
    "        mapped_dates.append(mapped_date)\n",
    "\n",
    "        if pd.isna(mapped_date):\n",
    "            volume_changes.append(np.nan)\n",
    "            continue\n",
    "\n",
    "        # 매핑된 날짜의 거래량 변화율 추출\n",
    "        match_row = stock[stock['날짜'] == mapped_date]\n",
    "        if not match_row.empty:\n",
    "            volume_change = match_row.iloc[0]['거래량_변화율']\n",
    "        \n",
    "        volume_changes.append(volume_change)\n",
    "\n",
    "    except Exception as e:\n",
    "        print(f\"❌ {firm} 처리 중 오류: {e}\")\n",
    "        mapped_dates.append(mapped_date)\n",
    "        volume_changes.append(np.nan)\n",
    "\n",
    "# 6. 결과 열 추가\n",
    "scandal['전일 대비 거래량 변화율'] = volume_changes\n",
    "\n",
    "# 7. 저장\n",
    "output_path = \"ALL논란_Final_시가총액_거래량변화율.csv\"\n",
    "scandal.to_csv(output_path, index=False, encoding='utf-8-sig')\n",
    "print(f\"✅ 저장 완료: {output_path}\")"
   ]
  },
  {
   "cell_type": "code",
   "execution_count": 8,
   "id": "d8abf847",
   "metadata": {},
   "outputs": [
    {
     "data": {
      "text/plain": [
       "0"
      ]
     },
     "execution_count": 8,
     "metadata": {},
     "output_type": "execute_result"
    }
   ],
   "source": [
    "sum(scandal['전일 대비 거래량 변화율'].isna())"
   ]
  },
  {
   "cell_type": "markdown",
   "id": "46fa1533",
   "metadata": {},
   "source": [
    "심호오빠 데이터에 거래량 열 추가"
   ]
  },
  {
   "cell_type": "code",
   "execution_count": null,
   "id": "e0d71383",
   "metadata": {},
   "outputs": [
    {
     "name": "stdout",
     "output_type": "stream",
     "text": [
      "✅ 저장 완료: 사건별_정당성_검정결과_tmp_거래량변화율.csv\n"
     ]
    }
   ],
   "source": [
    "import pandas as pd\n",
    "import numpy as np\n",
    "import os\n",
    "\n",
    "# 1. 사건 데이터 불러오기\n",
    "scandal = pd.read_csv(\"C:/Users/chica/OneDrive/바탕 화면/BAF-25-1-finance_2/데이터/이벤트 스터디 결과/Final_라벨결측제거_원핫인코딩_직업.csv\", encoding='utf-8', parse_dates=['사건 날짜'])\n",
    "\n",
    "# 2. 날짜 매핑 함수: 사건 이후 가장 가까운 날짜\n",
    "def map_closest_date(scandal_date, stock_dates):\n",
    "    return stock_dates[stock_dates >= scandal_date].min()\n",
    "\n",
    "# 3. 결과 저장 리스트\n",
    "mapped_dates = []\n",
    "volume_changes = []\n",
    "\n",
    "# 4. 절대 경로 설정\n",
    "stock_data_dir = r\"C:/Users/chica/OneDrive/바탕 화면/BAF-25-1-finance_2/데이터/주가\"\n",
    "\n",
    "# 5. 각 사건 행에 대해 처리\n",
    "for idx, row in scandal.iterrows():\n",
    "    firm = row['소속사']\n",
    "    scandal_date = row['사건 날짜']\n",
    "    \n",
    "    stock_file = os.path.join(stock_data_dir, f\"{firm}.csv\")\n",
    "    \n",
    "    mapped_date = pd.NaT\n",
    "    volume_change = np.nan\n",
    "\n",
    "    if not os.path.exists(stock_file):\n",
    "        print(f\"❗ 주가 파일 없음: {stock_file}\")\n",
    "        mapped_dates.append(mapped_date)\n",
    "        volume_changes.append(volume_change)\n",
    "        continue\n",
    "\n",
    "    try:\n",
    "        # 주가 데이터 불러오기 및 정렬\n",
    "        stock = pd.read_csv(stock_file, parse_dates=['날짜'])\n",
    "        stock = stock.sort_values('날짜').reset_index(drop=True)\n",
    "\n",
    "        # 거래량 변화율 계산 (비율 형태)\n",
    "        stock['거래량_변화율'] = stock['거래량'].pct_change()\n",
    "\n",
    "        # 사건 이후 가장 가까운 날짜 매핑\n",
    "        mapped_date = map_closest_date(scandal_date, stock['날짜'])\n",
    "        mapped_dates.append(mapped_date)\n",
    "\n",
    "        if pd.isna(mapped_date):\n",
    "            volume_changes.append(np.nan)\n",
    "            continue\n",
    "\n",
    "        # 매핑된 날짜의 거래량 변화율 추출\n",
    "        match_row = stock[stock['날짜'] == mapped_date]\n",
    "        if not match_row.empty:\n",
    "            volume_change = match_row.iloc[0]['거래량_변화율']\n",
    "        \n",
    "        volume_changes.append(volume_change)\n",
    "\n",
    "    except Exception as e:\n",
    "        print(f\"❌ {firm} 처리 중 오류: {e}\")\n",
    "        mapped_dates.append(mapped_date)\n",
    "        volume_changes.append(np.nan)\n",
    "\n",
    "# 6. 결과 열 추가\n",
    "scandal['전일 대비 거래량 변화율'] = volume_changes\n",
    "\n",
    "# 7. 저장\n",
    "output_path = \"Final_라벨결측제거_원핫인코딩_직업.csv\"\n",
    "scandal.to_csv(output_path, index=False, encoding='utf-8-sig')\n",
    "print(f\"✅ 저장 완료: {output_path}\")"
   ]
  },
  {
   "cell_type": "code",
   "execution_count": 2,
   "id": "7bfb01c6",
   "metadata": {},
   "outputs": [
    {
     "data": {
      "text/plain": [
       "0"
      ]
     },
     "execution_count": 2,
     "metadata": {},
     "output_type": "execute_result"
    }
   ],
   "source": [
    "sum(scandal['전일 대비 거래량 변화율'].isna())"
   ]
  },
  {
   "cell_type": "code",
   "execution_count": 1,
   "id": "9f9f3f75",
   "metadata": {},
   "outputs": [
    {
     "name": "stderr",
     "output_type": "stream",
     "text": [
      "100%|██████████| 253/253 [00:01<00:00, 146.56it/s]\n"
     ]
    }
   ],
   "source": [
    "import pandas as pd\n",
    "from tqdm import tqdm\n",
    "\n",
    "# 데이터 불러오기\n",
    "df = pd.read_csv(\"Final_라벨결측제거_원핫인코딩_직업.csv\", parse_dates=['사건 날짜(매핑된 주가 날짜)'])\n",
    "\n",
    "# 시가총액을 저장할 리스트\n",
    "market_caps = []\n",
    "\n",
    "# 각 행마다 소속사와 날짜 기준으로 시가총액 매핑\n",
    "for i in tqdm(range(len(df))):\n",
    "    firm = df.loc[i, '소속사']\n",
    "    date = df.loc[i, '사건 날짜(매핑된 주가 날짜)']\n",
    "    \n",
    "    try:\n",
    "        # 시가총액 파일 경로 (파일명은 소속사명 기반)\n",
    "        file_path = f\"C:/Users/chica/OneDrive/바탕 화면/BAF-25-1-finance_2/데이터/주가/{firm}.csv\"  # 실제 경로로 수정 필요\n",
    "        cap_df = pd.read_csv(file_path, parse_dates=['날짜'])\n",
    "\n",
    "        # 해당 날짜 행 찾기\n",
    "        row = cap_df.loc[cap_df['날짜'] == date]\n",
    "\n",
    "        if not row.empty:\n",
    "            market_caps.append(row.iloc[0]['거래량 변화율'])\n",
    "        else:\n",
    "            market_caps.append(None)\n",
    "\n",
    "    except FileNotFoundError:\n",
    "        print(f\"{file_path} 파일이 존재하지 않습니다.\")\n",
    "        market_caps.append(None)\n",
    "\n",
    "# 결과 컬럼 추가\n",
    "df['거래량 변화율'] = market_caps"
   ]
  },
  {
   "cell_type": "code",
   "execution_count": 3,
   "id": "4cc44d89",
   "metadata": {},
   "outputs": [
    {
     "data": {
      "text/plain": [
       "0"
      ]
     },
     "execution_count": 3,
     "metadata": {},
     "output_type": "execute_result"
    }
   ],
   "source": [
    "sum(df['거래량 변화율'].isna())"
   ]
  },
  {
   "cell_type": "code",
   "execution_count": 4,
   "id": "5a181457",
   "metadata": {},
   "outputs": [
    {
     "data": {
      "text/plain": [
       "Index(['Unnamed: 0.1', 'Unnamed: 0', '소속사', '연예인 이름', '사건 날짜', 'AR1', 'AR2',\n",
       "       '그룹', '사건 내용', '라벨 1', '라벨 2', '라벨 3', '사건 날짜(매핑된 주가 날짜)', 'CAR(1,2)',\n",
       "       '시가총액', '년월', '관심도', 'log_시가총액', '시가총액_랭크', 'stock_trend_n10', '사생활',\n",
       "       '사회적 감수성', '종교/이념', '범죄 혐의', '발언 문제', '혐의정보 유포', '세금 문제', '무혐의', '팬 대응',\n",
       "       '무의식적 태도', '병역 문제', '기타', '성 관련', '직업', '직업_배우', '직업_아이돌', '거래량 변화율'],\n",
       "      dtype='object')"
      ]
     },
     "execution_count": 4,
     "metadata": {},
     "output_type": "execute_result"
    }
   ],
   "source": [
    "df.columns"
   ]
  },
  {
   "cell_type": "code",
   "execution_count": 5,
   "id": "55e203d5",
   "metadata": {},
   "outputs": [],
   "source": [
    "df.to_csv('Final_라벨결측제거_원핫인코딩_직업.csv', encoding='utf-8-sig')"
   ]
  },
  {
   "cell_type": "code",
   "execution_count": null,
   "id": "96181a2a",
   "metadata": {},
   "outputs": [],
   "source": []
  }
 ],
 "metadata": {
  "kernelspec": {
   "display_name": "Python 3",
   "language": "python",
   "name": "python3"
  },
  "language_info": {
   "codemirror_mode": {
    "name": "ipython",
    "version": 3
   },
   "file_extension": ".py",
   "mimetype": "text/x-python",
   "name": "python",
   "nbconvert_exporter": "python",
   "pygments_lexer": "ipython3",
   "version": "3.12.2"
  }
 },
 "nbformat": 4,
 "nbformat_minor": 5
}
