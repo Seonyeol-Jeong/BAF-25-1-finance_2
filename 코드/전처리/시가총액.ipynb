{
 "cells": [
  {
   "cell_type": "markdown",
   "id": "84dc5ab4",
   "metadata": {},
   "source": [
    "### 날짜별, 기업별 기업 규모 열"
   ]
  },
  {
   "cell_type": "code",
   "execution_count": 1,
   "id": "8e768cac",
   "metadata": {},
   "outputs": [],
   "source": [
    "import pandas as pd"
   ]
  },
  {
   "cell_type": "code",
   "execution_count": 5,
   "id": "cf483bec",
   "metadata": {},
   "outputs": [
    {
     "data": {
      "text/html": [
       "<div>\n",
       "<style scoped>\n",
       "    .dataframe tbody tr th:only-of-type {\n",
       "        vertical-align: middle;\n",
       "    }\n",
       "\n",
       "    .dataframe tbody tr th {\n",
       "        vertical-align: top;\n",
       "    }\n",
       "\n",
       "    .dataframe thead th {\n",
       "        text-align: right;\n",
       "    }\n",
       "</style>\n",
       "<table border=\"1\" class=\"dataframe\">\n",
       "  <thead>\n",
       "    <tr style=\"text-align: right;\">\n",
       "      <th></th>\n",
       "      <th>소속사</th>\n",
       "      <th>min</th>\n",
       "      <th>max</th>\n",
       "    </tr>\n",
       "  </thead>\n",
       "  <tbody>\n",
       "    <tr>\n",
       "      <th>0</th>\n",
       "      <td>HYBE</td>\n",
       "      <td>2021-02-22</td>\n",
       "      <td>2024-09-07</td>\n",
       "    </tr>\n",
       "    <tr>\n",
       "      <th>1</th>\n",
       "      <td>JYP</td>\n",
       "      <td>2016-02-21</td>\n",
       "      <td>2025-03-02</td>\n",
       "    </tr>\n",
       "    <tr>\n",
       "      <th>2</th>\n",
       "      <td>RBW</td>\n",
       "      <td>2023-05-12</td>\n",
       "      <td>2023-10-31</td>\n",
       "    </tr>\n",
       "    <tr>\n",
       "      <th>3</th>\n",
       "      <td>SM</td>\n",
       "      <td>2014-12-09</td>\n",
       "      <td>2025-04-16</td>\n",
       "    </tr>\n",
       "    <tr>\n",
       "      <th>4</th>\n",
       "      <td>SM C&amp;C</td>\n",
       "      <td>2016-05-23</td>\n",
       "      <td>2023-08-15</td>\n",
       "    </tr>\n",
       "    <tr>\n",
       "      <th>5</th>\n",
       "      <td>YG</td>\n",
       "      <td>2014-08-22</td>\n",
       "      <td>2025-01-16</td>\n",
       "    </tr>\n",
       "    <tr>\n",
       "      <th>6</th>\n",
       "      <td>아티스트컴퍼니</td>\n",
       "      <td>2023-11-27</td>\n",
       "      <td>2024-11-24</td>\n",
       "    </tr>\n",
       "    <tr>\n",
       "      <th>7</th>\n",
       "      <td>큐브</td>\n",
       "      <td>2014-07-28</td>\n",
       "      <td>2023-12-15</td>\n",
       "    </tr>\n",
       "    <tr>\n",
       "      <th>8</th>\n",
       "      <td>키이스트</td>\n",
       "      <td>2014-05-30</td>\n",
       "      <td>2025-03-28</td>\n",
       "    </tr>\n",
       "  </tbody>\n",
       "</table>\n",
       "</div>"
      ],
      "text/plain": [
       "       소속사        min        max\n",
       "0     HYBE 2021-02-22 2024-09-07\n",
       "1      JYP 2016-02-21 2025-03-02\n",
       "2      RBW 2023-05-12 2023-10-31\n",
       "3       SM 2014-12-09 2025-04-16\n",
       "4   SM C&C 2016-05-23 2023-08-15\n",
       "5       YG 2014-08-22 2025-01-16\n",
       "6  아티스트컴퍼니 2023-11-27 2024-11-24\n",
       "7       큐브 2014-07-28 2023-12-15\n",
       "8     키이스트 2014-05-30 2025-03-28"
      ]
     },
     "execution_count": 5,
     "metadata": {},
     "output_type": "execute_result"
    }
   ],
   "source": [
    "import pandas as pd\n",
    "\n",
    "# 파일 읽기\n",
    "df = pd.read_csv('C:/Users/chica/OneDrive/바탕 화면/BAF-25-1-finance_2/데이터/스캔들/ALL논란_Final.csv', parse_dates=['사건 날짜'])\n",
    "\n",
    "# 소속사(기업명)별 날짜 범위 확인\n",
    "result = df.groupby('소속사')['사건 날짜'].agg(['min', 'max']).reset_index()\n",
    "\n",
    "# 결과 출력\n",
    "result"
   ]
  },
  {
   "cell_type": "markdown",
   "id": "7c6789f4",
   "metadata": {},
   "source": [
    "시총 데이터 하나로 묶기"
   ]
  },
  {
   "cell_type": "code",
   "execution_count": 18,
   "id": "e02bf2a9",
   "metadata": {},
   "outputs": [
    {
     "name": "stdout",
     "output_type": "stream",
     "text": [
      "HYBE_시가총액.csv 저장 완료\n",
      "JYP_시가총액.csv 저장 완료\n",
      "RBW_시가총액.csv 저장 완료\n",
      "SM C&C_시가총액.csv 저장 완료\n",
      "SM_시가총액.csv 저장 완료\n",
      "YG_시가총액.csv 저장 완료\n",
      "아티스트컴퍼니_시가총액.csv 저장 완료\n",
      "큐브_시가총액.csv 저장 완료\n",
      "키이스트_시가총액.csv 저장 완료\n"
     ]
    }
   ],
   "source": [
    "import pandas as pd\n",
    "import glob\n",
    "import os\n",
    "\n",
    "# 1. CSV 파일들이 있는 폴더 경로\n",
    "folder_path = 'C:/Users/chica/Downloads'  # 실제 경로로 변경하세요\n",
    "file_list = glob.glob(os.path.join(folder_path, '*.csv'))\n",
    "\n",
    "# 2. 회사명별 DataFrame 저장용 딕셔너리\n",
    "company_data = {}\n",
    "\n",
    "# 3. 파일 하나씩 처리\n",
    "for file in file_list:\n",
    "    filename = os.path.basename(file)\n",
    "    company_name = filename.split('_')[0]  # 언더바 이전 텍스트 추출\n",
    "\n",
    "    # CSV 읽기 (인코딩 처리)\n",
    "    try:\n",
    "        df = pd.read_csv(file, encoding='utf-8')\n",
    "    except UnicodeDecodeError:\n",
    "        df = pd.read_csv(file, encoding='cp949')\n",
    "\n",
    "    # 딕셔너리에 누적\n",
    "    if company_name in company_data:\n",
    "        company_data[company_name].append(df)\n",
    "    else:\n",
    "        company_data[company_name] = [df]\n",
    "\n",
    "# 4. 회사별로 병합해서 저장\n",
    "for name, df_list in company_data.items():\n",
    "    merged_df = pd.concat(df_list, ignore_index=True)\n",
    "    merged_df.to_csv(f'{name}_시가총액.csv', index=False, encoding='utf-8-sig')\n",
    "    print(f'{name}_시가총액.csv 저장 완료')\n"
   ]
  },
  {
   "cell_type": "code",
   "execution_count": 22,
   "id": "ff9cef5a",
   "metadata": {},
   "outputs": [
    {
     "name": "stdout",
     "output_type": "stream",
     "text": [
      "<class 'pandas.core.frame.DataFrame'>\n",
      "RangeIndex: 876 entries, 0 to 875\n",
      "Data columns (total 11 columns):\n",
      " #   Column  Non-Null Count  Dtype         \n",
      "---  ------  --------------  -----         \n",
      " 0   일자      876 non-null    datetime64[ns]\n",
      " 1   종가      876 non-null    int64         \n",
      " 2   대비      876 non-null    int64         \n",
      " 3   등락률     876 non-null    float64       \n",
      " 4   시가      876 non-null    int64         \n",
      " 5   고가      876 non-null    int64         \n",
      " 6   저가      876 non-null    int64         \n",
      " 7   거래량     876 non-null    int64         \n",
      " 8   거래대금    876 non-null    int64         \n",
      " 9   시가총액    876 non-null    int64         \n",
      " 10  상장주식수   876 non-null    int64         \n",
      "dtypes: datetime64[ns](1), float64(1), int64(9)\n",
      "memory usage: 75.4 KB\n"
     ]
    }
   ],
   "source": [
    "hybe = pd.read_csv(\"HYBE_시가총액.csv\", parse_dates=['일자'])\n",
    "hybe.info()"
   ]
  },
  {
   "cell_type": "code",
   "execution_count": 23,
   "id": "36e569c8",
   "metadata": {},
   "outputs": [
    {
     "name": "stdout",
     "output_type": "stream",
     "text": [
      "HYBE_시가총액.csv 처리 완료\n",
      "JYP_시가총액.csv 처리 완료\n",
      "RBW_시가총액.csv 처리 완료\n",
      "SM C&C_시가총액.csv 처리 완료\n",
      "SM_시가총액.csv 처리 완료\n",
      "YG_시가총액.csv 처리 완료\n",
      "아티스트컴퍼니_시가총액.csv 처리 완료\n",
      "큐브_시가총액.csv 처리 완료\n",
      "키이스트_시가총액.csv 처리 완료\n"
     ]
    }
   ],
   "source": [
    "import pandas as pd\n",
    "import glob\n",
    "import os\n",
    "\n",
    "# 현재 디렉토리에서 *_시가총액.csv 파일 모두 찾기\n",
    "file_list = glob.glob('*_시가총액.csv')\n",
    "\n",
    "for file in file_list:\n",
    "    try:\n",
    "        # CSV 파일 읽기 (인코딩 자동 처리)\n",
    "        try:\n",
    "            df = pd.read_csv(file, encoding='utf-8')\n",
    "        except UnicodeDecodeError:\n",
    "            df = pd.read_csv(file, encoding='cp949')\n",
    "\n",
    "        # 중복 행 제거\n",
    "        df = df.drop_duplicates()\n",
    "\n",
    "        # '일자' 열이 존재할 경우에만 정렬\n",
    "        if '일자' in df.columns:\n",
    "            # 일자 열이 문자열이면 datetime으로 변환\n",
    "            df['일자'] = pd.to_datetime(df['일자'], errors='coerce')\n",
    "            df = df.sort_values('일자')\n",
    "\n",
    "        # 다시 같은 파일 이름으로 저장\n",
    "        df.to_csv(file, index=False, encoding='utf-8-sig')\n",
    "        print(f'{file} 처리 완료')\n",
    "\n",
    "    except Exception as e:\n",
    "        print(f'{file} 처리 중 오류 발생: {e}')"
   ]
  },
  {
   "cell_type": "code",
   "execution_count": 33,
   "id": "ee4d91e3",
   "metadata": {},
   "outputs": [],
   "source": [
    "def map_closet_date(scandal_date, stock_date):\n",
    "    return stock_date[stock_date>=scandal_date].min()\n"
   ]
  },
  {
   "cell_type": "code",
   "execution_count": null,
   "id": "bf401b14",
   "metadata": {},
   "outputs": [],
   "source": [
    "scandal = pd.read_csv(\"C:/Users/chica/OneDrive/바탕 화면/BAF-25-1-finance_2/데이터/스캔들/ALL논란_Final.csv\", encoding='utf-8', parse_dates=['사건 날짜'])"
   ]
  },
  {
   "cell_type": "code",
   "execution_count": 39,
   "id": "31acaa3e",
   "metadata": {},
   "outputs": [
    {
     "name": "stdout",
     "output_type": "stream",
     "text": [
      "✅ 저장 완료: ALL논란_Final_시가총액매핑완료.csv\n"
     ]
    }
   ],
   "source": [
    "import pandas as pd\n",
    "import numpy as np\n",
    "import os\n",
    "\n",
    "# 1. 사건 데이터 불러오기\n",
    "scandal = pd.read_csv(\"C:/Users/chica/OneDrive/바탕 화면/BAF-25-1-finance_2/데이터/스캔들/ALL논란_Final.csv\", encoding='utf-8', parse_dates=['사건 날짜'])\n",
    "\n",
    "# 2. 날짜 매핑 함수: 사건 이후 가장 가까운 날짜\n",
    "def map_closest_date(scandal_date, stock_dates):\n",
    "    return stock_dates[stock_dates >= scandal_date].min()\n",
    "\n",
    "# 3. 결과 저장 리스트\n",
    "mapped_dates = []\n",
    "mapped_caps = []\n",
    "\n",
    "# 4. 절대 경로 설정\n",
    "stock_data_dir = r\"C:/Users/chica/OneDrive/바탕 화면/BAF-25-1-finance_2/데이터/주가\"\n",
    "marketcap_data_dir = r\"C:/Users/chica/OneDrive/바탕 화면/BAF-25-1-finance_2/코드/전처리\"\n",
    "\n",
    "# 5. 각 사건 행에 대해 처리\n",
    "for idx, row in scandal.iterrows():\n",
    "    firm = row['소속사']\n",
    "    scandal_date = row['사건 날짜']\n",
    "\n",
    "    # 주가 데이터 및 시가총액 데이터 파일 경로\n",
    "    stock_file = os.path.join(stock_data_dir, f\"{firm}.csv\")\n",
    "    cap_file = os.path.join(marketcap_data_dir, f\"{firm}_시가총액.csv\")\n",
    "\n",
    "    # 기본값 설정\n",
    "    mapped_date = pd.NaT\n",
    "    mapped_cap = np.nan\n",
    "\n",
    "    if not os.path.exists(stock_file):\n",
    "        print(f\"❗ 주가 파일 없음: {stock_file}\")\n",
    "        mapped_dates.append(mapped_date)\n",
    "        mapped_caps.append(mapped_cap)\n",
    "        continue\n",
    "\n",
    "    if not os.path.exists(cap_file):\n",
    "        print(f\"❗ 시가총액 파일 없음: {cap_file}\")\n",
    "        mapped_dates.append(mapped_date)\n",
    "        mapped_caps.append(mapped_cap)\n",
    "        continue\n",
    "\n",
    "    try:\n",
    "        # 1) 주가 데이터 불러오기\n",
    "        stock = pd.read_csv(stock_file, parse_dates=['날짜'])\n",
    "        stock = stock.sort_values('날짜')\n",
    "\n",
    "        # 2) 날짜 매핑\n",
    "        mapped_date = map_closest_date(scandal_date, stock['날짜'])\n",
    "        mapped_dates.append(mapped_date)\n",
    "\n",
    "        if pd.isna(mapped_date):\n",
    "            mapped_caps.append(np.nan)\n",
    "            continue\n",
    "\n",
    "        # 3) 시가총액 데이터 불러오기\n",
    "        cap_data = pd.read_csv(cap_file, parse_dates=['일자'])\n",
    "\n",
    "        # 4) 매핑된 날짜로 시가총액 찾기\n",
    "        row_match = cap_data[cap_data['일자'] == mapped_date]\n",
    "\n",
    "        if not row_match.empty:\n",
    "            mapped_cap = row_match.iloc[0]['시가총액']\n",
    "        else:\n",
    "            mapped_cap = np.nan\n",
    "\n",
    "        mapped_caps.append(mapped_cap)\n",
    "\n",
    "    except Exception as e:\n",
    "        print(f\"❌ {firm} 처리 중 오류: {e}\")\n",
    "        mapped_dates.append(mapped_date)\n",
    "        mapped_caps.append(mapped_cap)\n",
    "\n",
    "# 6. 결과 열 추가\n",
    "scandal['매핑된 주가 날짜'] = mapped_dates\n",
    "scandal['시가총액'] = mapped_caps\n",
    "\n",
    "# 7. 저장\n",
    "scandal.to_csv(\"ALL논란_Final_시가총액매핑완료.csv\", index=False, encoding='utf-8-sig')\n",
    "print(\"✅ 저장 완료: ALL논란_Final_시가총액매핑완료.csv\")\n"
   ]
  },
  {
   "cell_type": "code",
   "execution_count": 41,
   "id": "62e357ab",
   "metadata": {},
   "outputs": [
    {
     "data": {
      "text/plain": [
       "4"
      ]
     },
     "execution_count": 41,
     "metadata": {},
     "output_type": "execute_result"
    }
   ],
   "source": [
    "sum(scandal['시가총액'].isna())"
   ]
  },
  {
   "cell_type": "markdown",
   "id": "2376b8c3",
   "metadata": {},
   "source": [
    "결측치 채운 후"
   ]
  },
  {
   "cell_type": "code",
   "execution_count": 3,
   "id": "d5c12ee5",
   "metadata": {},
   "outputs": [
    {
     "data": {
      "text/plain": [
       "0"
      ]
     },
     "execution_count": 3,
     "metadata": {},
     "output_type": "execute_result"
    }
   ],
   "source": [
    "import pandas as pd\n",
    "df = pd.read_csv(\"ALL논란_Final_시가총액매핑완료.csv\")\n",
    "sum(df['시가총액'].isna())"
   ]
  },
  {
   "cell_type": "markdown",
   "id": "83b166b1",
   "metadata": {},
   "source": [
    "파일에 시가총액 열 붙이기"
   ]
  },
  {
   "cell_type": "code",
   "execution_count": 2,
   "id": "e3db9bcc",
   "metadata": {},
   "outputs": [],
   "source": [
    "import pandas as pd\n",
    "\n",
    "# 파일 경로\n",
    "all_path = \"C:/Users/chica/OneDrive/바탕 화면/BAF-25-1-finance_2/데이터/스캔들/ALL논란_Final_시가총액.csv\"\n",
    "test_path = \"C:/Users/chica/OneDrive/바탕 화면/BAF-25-1-finance_2/데이터/이벤트 스터디 결과/사건별_정당성_검정결과_tmp (1).csv\"\n",
    "\n",
    "# CSV 파일 불러오기\n",
    "df_all = pd.read_csv(all_path)\n",
    "df_test = pd.read_csv(test_path)\n",
    "\n",
    "# 열 이름 통일\n",
    "df_test = df_test.rename(columns={\n",
    "    '사건날짜': '사건 날짜',\n",
    "    '사건내용': '사건 내용'\n",
    "})\n",
    "\n",
    "# 시가총액 값을 담을 열 추가\n",
    "df_test['시가총액'] = None\n",
    "\n",
    "# 각 행별로 매칭해서 시가총액 가져오기\n",
    "for i in range(len(df_test)):\n",
    "    firm = df_test.loc[i, '소속사']\n",
    "    celeb = df_test.loc[i, '연예인 이름']\n",
    "    date = df_test.loc[i, '사건 날짜']\n",
    "\n",
    "    match = df_all[\n",
    "        (df_all['소속사'] == firm) &\n",
    "        (df_all['연예인 이름'] == celeb) &\n",
    "        (df_all['사건 날짜'] == date)\n",
    "    ]\n",
    "\n",
    "    if not match.empty:\n",
    "        df_test.at[i, '시가총액'] = match.iloc[0]['시가총액']\n",
    "\n",
    "# 저장\n",
    "df_test.to_csv(\"C:/Users/chica/OneDrive/바탕 화면/BAF-25-1-finance_2/데이터/이벤트 스터디 결과/사건별_정당성_검정결과_tmp.csv\", \n",
    "               encoding='utf-8-sig', index=False)"
   ]
  },
  {
   "cell_type": "code",
   "execution_count": 3,
   "id": "ebf9bef5",
   "metadata": {},
   "outputs": [
    {
     "data": {
      "text/plain": [
       "0"
      ]
     },
     "execution_count": 3,
     "metadata": {},
     "output_type": "execute_result"
    }
   ],
   "source": [
    "sum(df_test['시가총액'].isna())"
   ]
  }
 ],
 "metadata": {
  "kernelspec": {
   "display_name": "Python 3",
   "language": "python",
   "name": "python3"
  },
  "language_info": {
   "codemirror_mode": {
    "name": "ipython",
    "version": 3
   },
   "file_extension": ".py",
   "mimetype": "text/x-python",
   "name": "python",
   "nbconvert_exporter": "python",
   "pygments_lexer": "ipython3",
   "version": "3.12.2"
  }
 },
 "nbformat": 4,
 "nbformat_minor": 5
}
