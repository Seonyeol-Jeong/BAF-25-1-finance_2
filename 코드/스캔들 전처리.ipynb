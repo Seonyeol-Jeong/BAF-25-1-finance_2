{
 "cells": [
  {
   "cell_type": "markdown",
   "id": "927ebff1",
   "metadata": {},
   "source": [
    "## 모든 사건 파일 병합"
   ]
  },
  {
   "cell_type": "code",
   "execution_count": 1,
   "id": "6d008f7e",
   "metadata": {},
   "outputs": [],
   "source": [
    "import pandas as pd"
   ]
  },
  {
   "cell_type": "code",
   "execution_count": 20,
   "id": "e4d72f5d",
   "metadata": {},
   "outputs": [],
   "source": [
    "import pandas as pd\n",
    "\n",
    "df_list = [\n",
    "    pd.read_csv(\"../데이터/스캔들/HYBE논란_크롤링.csv\"),\n",
    "    pd.read_csv(\"../데이터/스캔들/JYP논란_크롤링.csv\"),\n",
    "    pd.read_csv(\"../데이터/스캔들/SM논란_크롤링.csv\"),\n",
    "    pd.read_csv(\"../데이터/스캔들/YG논란_크롤링.csv\"),\n",
    "    pd.read_csv(\"../데이터/스캔들/배우논란_크롤링.csv\"),\n",
    "    pd.read_csv(\"../데이터/스캔들/중소논란_크롤링.csv\")\n",
    "]\n",
    "merged_df = pd.concat(df_list, ignore_index=True)\n",
    "merged_df.to_csv(\"../데이터/스캔들/all_scandal.csv\", index=False, encoding=\"utf-8-sig\")\n"
   ]
  },
  {
   "cell_type": "code",
   "execution_count": 9,
   "id": "477ca9c0",
   "metadata": {},
   "outputs": [
    {
     "data": {
      "text/plain": [
       "0        2020년 5월 17일\n",
       "1        2020년 5월 29일\n",
       "2      2016년\\r\\n7월 6일\n",
       "3        2022년 4월 25일\n",
       "4        2019년 9월 16일\n",
       "            ...      \n",
       "448     2018년 12월 12일\n",
       "449       2019년 7월 7일\n",
       "450     2023년\\n5월 12일\n",
       "451      2023년 9월 26일\n",
       "452     2023년 10월 31일\n",
       "Name: 사건 날짜, Length: 453, dtype: object"
      ]
     },
     "execution_count": 9,
     "metadata": {},
     "output_type": "execute_result"
    }
   ],
   "source": [
    "df = pd.read_csv(\"../데이터/스캔들/all_scandal.csv\")\n",
    "df['사건 날짜']"
   ]
  },
  {
   "cell_type": "markdown",
   "id": "963c4aa8",
   "metadata": {},
   "source": [
    "날짜 처리"
   ]
  },
  {
   "cell_type": "code",
   "execution_count": 21,
   "id": "37053759",
   "metadata": {},
   "outputs": [],
   "source": [
    "df['사건 날짜'] = df['사건 날짜'].astype(str).str.replace(r'\\s+','',regex=True)\n",
    "df['사건 날짜'] = df['사건 날짜'].str.replace('년','-',regex=False)\n",
    "df['사건 날짜'] = df['사건 날짜'].str.replace('월','-',regex=False)\n",
    "df['사건 날짜'] = df['사건 날짜'].str.replace('일','',regex=False)\n",
    "\n",
    "df['사건 날짜'] = pd.to_datetime(df['사건 날짜'], format='%Y-%m-%d')"
   ]
  },
  {
   "cell_type": "code",
   "execution_count": 22,
   "id": "5c870ce9",
   "metadata": {},
   "outputs": [
    {
     "data": {
      "text/plain": [
       "0     2020-05-17\n",
       "1     2020-05-29\n",
       "2     2016-07-06\n",
       "3     2022-04-25\n",
       "4     2019-09-16\n",
       "         ...    \n",
       "448   2018-12-12\n",
       "449   2019-07-07\n",
       "450   2023-05-12\n",
       "451   2023-09-26\n",
       "452   2023-10-31\n",
       "Name: 사건 날짜, Length: 453, dtype: datetime64[ns]"
      ]
     },
     "execution_count": 22,
     "metadata": {},
     "output_type": "execute_result"
    }
   ],
   "source": [
    "df['사건 날짜']"
   ]
  },
  {
   "cell_type": "code",
   "execution_count": 23,
   "id": "ec3b11dd",
   "metadata": {},
   "outputs": [],
   "source": [
    "df.to_csv(\"../데이터/스캔들/scandal_all.csv\", index=False, encoding=\"utf-8-sig\")"
   ]
  }
 ],
 "metadata": {
  "kernelspec": {
   "display_name": "Python 3",
   "language": "python",
   "name": "python3"
  },
  "language_info": {
   "codemirror_mode": {
    "name": "ipython",
    "version": 3
   },
   "file_extension": ".py",
   "mimetype": "text/x-python",
   "name": "python",
   "nbconvert_exporter": "python",
   "pygments_lexer": "ipython3",
   "version": "3.12.2"
  }
 },
 "nbformat": 4,
 "nbformat_minor": 5
}
