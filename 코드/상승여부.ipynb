{
 "cells": [
  {
   "cell_type": "code",
   "execution_count": 10,
   "id": "6caa5541",
   "metadata": {},
   "outputs": [],
   "source": [
    "import pandas as pd\n",
    "\n",
    "# 파일 경로\n",
    "file1_path = \"AR_CAR+라벨+시가총액+관심도.csv\"\n",
    "file2_path = \"사건별_정당성_검정결과+상승여부.csv\"\n",
    "\n",
    "# 파일 읽기\n",
    "df1 = pd.read_csv(file1_path)\n",
    "df2 = pd.read_csv(file2_path)\n",
    "\n",
    "# '사건 내용' 기준으로 병합, stock_trend_n10 열만 사용\n",
    "df2_subset = df2[['사건 내용', 'stock_trend_n10']]\n",
    "merged_df = pd.merge(df1, df2_subset, on='사건 내용', how='left')"
   ]
  },
  {
   "cell_type": "code",
   "execution_count": 11,
   "id": "669975df",
   "metadata": {},
   "outputs": [
    {
     "data": {
      "text/plain": [
       "0"
      ]
     },
     "execution_count": 11,
     "metadata": {},
     "output_type": "execute_result"
    }
   ],
   "source": [
    "import numpy as np\n",
    "\n",
    "len(merged_df[merged_df['stock_trend_n10']==np.nan])"
   ]
  },
  {
   "cell_type": "code",
   "execution_count": 12,
   "id": "02e547fd",
   "metadata": {},
   "outputs": [],
   "source": [
    "merged_df.to_csv(\"AR_CAR+라벨+시가총액+관심도+상승여부.csv\",encoding='utf-8-sig')"
   ]
  },
  {
   "cell_type": "code",
   "execution_count": 13,
   "id": "6419b486",
   "metadata": {},
   "outputs": [
    {
     "data": {
      "text/plain": [
       "Index(['Unnamed: 0.1', 'Unnamed: 0', '소속사', '연예인 이름', '사건 날짜', 'AR1', 'AR2',\n",
       "       '그룹', '사건 내용', '라벨 1', '라벨 2', '라벨 3', '사건 날짜(매핑된 주가 날짜)', 'CAR(1,2)',\n",
       "       '시가총액', '년월', '관심도', 'log_시가총액', '시가총액_랭크', 'stock_trend_n10'],\n",
       "      dtype='object')"
      ]
     },
     "execution_count": 13,
     "metadata": {},
     "output_type": "execute_result"
    }
   ],
   "source": [
    "merged_df.columns"
   ]
  },
  {
   "cell_type": "code",
   "execution_count": 16,
   "id": "d0c35694",
   "metadata": {},
   "outputs": [],
   "source": [
    "# 맨 앞 열을 삭제\n",
    "df = merged_df.iloc[:, 2:]"
   ]
  },
  {
   "cell_type": "code",
   "execution_count": 17,
   "id": "a665fab7",
   "metadata": {},
   "outputs": [
    {
     "data": {
      "text/plain": [
       "Index(['소속사', '연예인 이름', '사건 날짜', 'AR1', 'AR2', '그룹', '사건 내용', '라벨 1', '라벨 2',\n",
       "       '라벨 3', '사건 날짜(매핑된 주가 날짜)', 'CAR(1,2)', '시가총액', '년월', '관심도', 'log_시가총액',\n",
       "       '시가총액_랭크', 'stock_trend_n10'],\n",
       "      dtype='object')"
      ]
     },
     "execution_count": 17,
     "metadata": {},
     "output_type": "execute_result"
    }
   ],
   "source": [
    "df.columns"
   ]
  },
  {
   "cell_type": "code",
   "execution_count": 18,
   "id": "4e64d99e",
   "metadata": {},
   "outputs": [],
   "source": [
    "df.to_csv(\"AR_CAR+라벨+시가총액+관심도+상승여부.csv\" ,encoding='utf-8-sig')"
   ]
  },
  {
   "cell_type": "code",
   "execution_count": null,
   "id": "092dc91e",
   "metadata": {},
   "outputs": [],
   "source": []
  }
 ],
 "metadata": {
  "kernelspec": {
   "display_name": "Python 3",
   "language": "python",
   "name": "python3"
  },
  "language_info": {
   "codemirror_mode": {
    "name": "ipython",
    "version": 3
   },
   "file_extension": ".py",
   "mimetype": "text/x-python",
   "name": "python",
   "nbconvert_exporter": "python",
   "pygments_lexer": "ipython3",
   "version": "3.12.2"
  }
 },
 "nbformat": 4,
 "nbformat_minor": 5
}
