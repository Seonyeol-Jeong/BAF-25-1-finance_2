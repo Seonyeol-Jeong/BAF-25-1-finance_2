{
 "cells": [
  {
   "cell_type": "markdown",
   "metadata": {},
   "source": [
    "# 각 사건별 유의미성 검정"
   ]
  },
  {
   "cell_type": "code",
   "execution_count": 14,
   "metadata": {},
   "outputs": [],
   "source": [
    "import pandas as pd\n",
    "import numpy as np\n",
    "from scipy import stats\n",
    "\n",
    "# 결과 저장용\n",
    "final_results = []\n",
    "final_skips = []\n",
    "\n",
    "# 사건 데이터 로드\n",
    "incidents_df = pd.read_csv(\"../데이터/스캔들/ALL논란_Final.csv\", parse_dates=['사건 날짜'])\n",
    "\n",
    "# 벤치마크 지수 로드 및 수익률 계산\n",
    "kosdaq_df = pd.read_csv(\"../데이터/주가/코스닥.csv\", parse_dates=['날짜'])\n",
    "kosdaq_df = kosdaq_df.sort_values('날짜').set_index('날짜')\n",
    "kosdaq_df['return'] = np.log(kosdaq_df['종가'] / kosdaq_df['종가'].shift(1))\n",
    "\n",
    "# 분석 시작\n",
    "for idx, row in incidents_df.iterrows():\n",
    "    agency = row[\"소속사\"]\n",
    "    incident_date = row[\"사건 날짜\"]\n",
    "    incident_name = row[\"사건 내용\"]\n",
    "    group = row[\"그룹\"]\n",
    "    celebrity = row[\"연예인 이름\"]\n",
    "\n",
    "    # 소속사 주가 데이터 로드\n",
    "    stock_df = pd.read_csv(f\"../데이터/주가/{agency}.csv\", parse_dates=['날짜'])\n",
    "\n",
    "    stock_df = stock_df.sort_values('날짜').set_index('날짜')\n",
    "    stock_df['종가'] = pd.to_numeric(stock_df['종가'].astype(str).str.replace(',', ''), errors='coerce')\n",
    "    stock_df['return'] = np.log(stock_df['종가'] / stock_df['종가'].shift(1))\n",
    "\n",
    "    # 사건일 보정: 소속사와 코스닥에 모두 존재하도록 가장 가까운 미래 영업일로 보정\n",
    "    future_stock_dates = stock_df.index[stock_df.index >= incident_date]\n",
    "    future_benchmark_dates = kosdaq_df.index[kosdaq_df.index >= incident_date]\n",
    "    possible_dates = future_stock_dates.intersection(future_benchmark_dates)\n",
    "    \n",
    "    if len(possible_dates) == 0:\n",
    "        final_skips.append({\n",
    "            \"사유\": \"사건일 보정 실패\",\n",
    "            \"소속사\": agency,\n",
    "            \"사건내용\": incident_name\n",
    "        })\n",
    "        continue\n",
    "    incident_date_adj = possible_dates[0]\n",
    "\n",
    "    \n",
    "    # 공통 영업일 확보 (사건일 +1,+2일 후)\n",
    "    common_dates = stock_df.index.intersection(kosdaq_df.index).sort_values()\n",
    "    if incident_date_adj not in common_dates:\n",
    "        future_common = common_dates[common_dates > incident_date_adj]\n",
    "        if len(future_common) == 0:\n",
    "            final_skips.append({\n",
    "                \"사유\": \"공통일 보정 실패\",         #사건 발생 이후의 데이터 없는 경우.\n",
    "                \"소속사\": agency,\n",
    "                \"사건내용\": incident_name\n",
    "            })\n",
    "            continue\n",
    "        incident_date_adj = future_common[0]\n",
    "    \n",
    "    center_idx = list(common_dates).index(incident_date_adj)\n",
    "    if center_idx + 3 >= len(common_dates):\n",
    "        final_skips.append({\n",
    "            \"사유\": \"이벤트 윈도우 공통일 부족\",    #사건 발생 이후의 데이터 부족\n",
    "            \"소속사\": agency,\n",
    "            \"사건내용\": incident_name\n",
    "        })\n",
    "        continue\n",
    "    window_dates = common_dates[center_idx+1 : center_idx+3]\n",
    "    \n",
    "    # 이벤트 AR 및 CAR\n",
    "    event_returns = stock_df.loc[window_dates][\"return\"]\n",
    "    event_benchmark = kosdaq_df.loc[window_dates][\"return\"]\n",
    "    event_ar = event_returns.values - event_benchmark.values\n",
    "    event_car = np.sum(event_ar)\n",
    "\n",
    "    # 정상 구간 설정   \n",
    "    prev_dates = stock_df.index[stock_df.index < incident_date_adj]\n",
    "    if len(prev_dates) == 0:\n",
    "        final_skips.append({\n",
    "            \"사유\": \"정상 구간 없음\",\n",
    "            \"소속사\": agency,\n",
    "            \"사건내용\": incident_name\n",
    "        })\n",
    "        continue\n",
    "\n",
    "    incident_prev_day = prev_dates[-1]\n",
    "    normal_start_date = stock_df.index.min()  # 소속사별 주가 데이터 시작일\n",
    "    normal_returns = stock_df.loc[normal_start_date:incident_prev_day][\"return\"]\n",
    "    normal_benchmark = kosdaq_df[\"return\"].reindex(normal_returns.index)\n",
    "    valid_idx = normal_returns.notna() & normal_benchmark.notna()\n",
    "    normal_ar = normal_returns[valid_idx] - normal_benchmark[valid_idx]\n",
    "\n",
    "        \n",
    "    # 단일표본 t-검정\n",
    "    t_stat, p_value = stats.ttest_1samp(normal_ar, event_car)\n",
    "\n",
    "    final_results.append({\n",
    "        \"소속사\": agency,\n",
    "        \"그룹\": group,\n",
    "        \"연예인 이름\": celebrity,\n",
    "        \"사건 내용\": incident_name,\n",
    "        \"사건 날짜\" : incident_date,\n",
    "        \"매핑된 주가 날짜\": incident_date_adj,\n",
    "        \"CAR\": event_car,\n",
    "        \"t통계량\": t_stat,\n",
    "        \"p값\": p_value\n",
    "    })\n",
    "\n",
    "# 데이터 프레임으로 변환\n",
    "results_df = pd.DataFrame(final_results)\n",
    "skips_df = pd.DataFrame(final_skips)"
   ]
  },
  {
   "cell_type": "code",
   "execution_count": 15,
   "metadata": {},
   "outputs": [
    {
     "data": {
      "text/plain": [
       "363"
      ]
     },
     "execution_count": 15,
     "metadata": {},
     "output_type": "execute_result"
    }
   ],
   "source": [
    "len(results_df)"
   ]
  },
  {
   "cell_type": "code",
   "execution_count": 16,
   "metadata": {},
   "outputs": [
    {
     "data": {
      "text/plain": [
       "343"
      ]
     },
     "execution_count": 16,
     "metadata": {},
     "output_type": "execute_result"
    }
   ],
   "source": [
    "len(results_df[results_df['p값']<0.05])"
   ]
  },
  {
   "cell_type": "markdown",
   "metadata": {},
   "source": [
    "유의미한 사건들 저장"
   ]
  },
  {
   "cell_type": "code",
   "execution_count": 17,
   "metadata": {},
   "outputs": [],
   "source": [
    "last=results_df[results_df['p값']<0.05]\n",
    "last.to_csv('../데이터/사건별_정당성_검정결과_tmp.csv', index=False, encoding='utf-8-sig')"
   ]
  }
 ],
 "metadata": {
  "kernelspec": {
   "display_name": "finance_2",
   "language": "python",
   "name": "python3"
  },
  "language_info": {
   "codemirror_mode": {
    "name": "ipython",
    "version": 3
   },
   "file_extension": ".py",
   "mimetype": "text/x-python",
   "name": "python",
   "nbconvert_exporter": "python",
   "pygments_lexer": "ipython3",
   "version": "3.12.9"
  }
 },
 "nbformat": 4,
 "nbformat_minor": 2
}
