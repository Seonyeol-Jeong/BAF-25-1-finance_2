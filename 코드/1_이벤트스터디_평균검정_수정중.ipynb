{
 "cells": [
  {
   "cell_type": "markdown",
   "id": "909eb52a",
   "metadata": {},
   "source": [
    "### 1. 필요한 컬럼만 추출"
   ]
  },
  {
   "cell_type": "code",
   "execution_count": 7,
   "id": "50f7e3a9",
   "metadata": {},
   "outputs": [],
   "source": [
    "import pandas as pd"
   ]
  },
  {
   "cell_type": "markdown",
   "id": "4eb41ff3",
   "metadata": {},
   "source": [
    "`scandal`: ALL스캔들 csv\n",
    "\n",
    "(column: 소속사, 사건 날짜)"
   ]
  },
  {
   "cell_type": "code",
   "execution_count": 8,
   "id": "48da2a1d",
   "metadata": {},
   "outputs": [
    {
     "name": "stdout",
     "output_type": "stream",
     "text": [
      "<class 'pandas.core.frame.DataFrame'>\n",
      "RangeIndex: 363 entries, 0 to 362\n",
      "Data columns (total 8 columns):\n",
      " #   Column  Non-Null Count  Dtype         \n",
      "---  ------  --------------  -----         \n",
      " 0   소속사     363 non-null    object        \n",
      " 1   연예인 이름  363 non-null    object        \n",
      " 2   사건 날짜   363 non-null    datetime64[ns]\n",
      " 3   그룹      251 non-null    object        \n",
      " 4   사건 내용   363 non-null    object        \n",
      " 5   라벨 1    276 non-null    object        \n",
      " 6   라벨 2    146 non-null    object        \n",
      " 7   라벨 3    56 non-null     object        \n",
      "dtypes: datetime64[ns](1), object(7)\n",
      "memory usage: 22.8+ KB\n"
     ]
    }
   ],
   "source": [
    "df = pd.read_csv(\"../코드/전처리/ALL논란_Final+라벨링.csv\", parse_dates=['사건 날짜'])\n",
    "scandal = df[['소속사', '연예인 이름', '사건 날짜', '그룹', '사건 내용', '라벨 1', '라벨 2', '라벨 3']].copy()\n",
    "scandal.info()"
   ]
  },
  {
   "cell_type": "code",
   "execution_count": 9,
   "id": "c2a405ed",
   "metadata": {},
   "outputs": [
    {
     "data": {
      "text/plain": [
       "363"
      ]
     },
     "execution_count": 9,
     "metadata": {},
     "output_type": "execute_result"
    }
   ],
   "source": [
    "len(scandal)"
   ]
  },
  {
   "cell_type": "markdown",
   "id": "960c84e5",
   "metadata": {},
   "source": [
    "### 2. 정상 및 비정상 수익률 산출"
   ]
  },
  {
   "cell_type": "markdown",
   "id": "5fd905de",
   "metadata": {},
   "source": [
    "#### (0) 필요한 함수 정의"
   ]
  },
  {
   "cell_type": "markdown",
   "id": "90ae7acc",
   "metadata": {},
   "source": [
    "> 로그 수익률 계산 함수"
   ]
  },
  {
   "cell_type": "code",
   "execution_count": 10,
   "id": "6a59983f",
   "metadata": {},
   "outputs": [],
   "source": [
    "import numpy as np\n",
    "\n",
    "def log_return(df):\n",
    "    df = df.sort_values('날짜').reset_index(drop=True).copy()\n",
    "    df['로그 수익률'] = np.log(df['종가'] / df['종가'].shift(1)) # 로그 수익률: log(당일종가/전일종가) \n",
    "    return df.dropna().reset_index(drop=True)"
   ]
  },
  {
   "cell_type": "markdown",
   "id": "d80808c4",
   "metadata": {},
   "source": [
    "> 스캔들-주가 날짜 매핑 함수\n",
    "\n",
    "스캔들 날짜와 같거나 가장 가까이 있는 주가 날짜로 매핑"
   ]
  },
  {
   "cell_type": "code",
   "execution_count": 11,
   "id": "bc4d82f3",
   "metadata": {},
   "outputs": [],
   "source": [
    "def map_closet_date(scandal_date, stock_date):\n",
    "    return stock_date[stock_date>=scandal_date].min()\n"
   ]
  },
  {
   "cell_type": "markdown",
   "id": "c0db5b91",
   "metadata": {},
   "source": [
    "#### (1) 소속사/코스닥 주가에 로그 수익률 열 추가\n",
    "\n",
    "코드 실행 시 생략"
   ]
  },
  {
   "cell_type": "code",
   "execution_count": 27,
   "id": "f7125f5c",
   "metadata": {},
   "outputs": [
    {
     "name": "stdout",
     "output_type": "stream",
     "text": [
      "HYBE 로그 수익률 열 추가\n",
      "JYP 로그 수익률 열 추가\n",
      "RBW 로그 수익률 열 추가\n",
      "SM 로그 수익률 열 추가\n",
      "SM C&C 로그 수익률 열 추가\n",
      "YG 로그 수익률 열 추가\n",
      "아티스트컴퍼니 로그 수익률 열 추가\n",
      "큐브 로그 수익률 열 추가\n",
      "키이스트 로그 수익률 열 추가\n"
     ]
    }
   ],
   "source": [
    "import pandas as pd\n",
    "import numpy as np\n",
    "import os\n",
    "\n",
    "firms = scandal['소속사'].unique()\n",
    "\n",
    "for firm in firms:\n",
    "    file_path = f\"C:/Users/chica/OneDrive/바탕 화면/BAF-25-1-finance_2/데이터/주가/{firm}.csv\"\n",
    "    stock = pd.read_csv(file_path, parse_dates=['날짜'])\n",
    "    stock = log_return(stock)\n",
    "    stock.to_csv(file_path, index=False, encoding='utf-8-sig')\n",
    "    print(f'{firm} 로그 수익률 열 추가')"
   ]
  },
  {
   "cell_type": "code",
   "execution_count": 107,
   "id": "9fafa782",
   "metadata": {},
   "outputs": [
    {
     "name": "stdout",
     "output_type": "stream",
     "text": [
      "로그 수익률 열 추가\n"
     ]
    }
   ],
   "source": [
    "file_path = \"C:/Users/chica/OneDrive/바탕 화면/BAF-25-1-finance_2/데이터/주가/코스닥.csv\"\n",
    "stock = pd.read_csv(file_path, parse_dates=['날짜'])\n",
    "stock = log_return(stock)\n",
    "stock.to_csv(file_path, index=False, encoding='utf-8-sig')\n",
    "print('로그 수익률 열 추가')"
   ]
  },
  {
   "cell_type": "markdown",
   "id": "54f8722f",
   "metadata": {},
   "source": [
    "#### (2) 시장 지수 선택"
   ]
  },
  {
   "cell_type": "markdown",
   "id": "18e3e8e1",
   "metadata": {},
   "source": [
    "`market`: 시장 지수 csv"
   ]
  },
  {
   "cell_type": "code",
   "execution_count": 12,
   "id": "ccf3eea7",
   "metadata": {},
   "outputs": [],
   "source": [
    "market = pd.read_csv(\"C:/Users/chica/OneDrive/바탕 화면/BAF-25-1-finance_2/데이터/주가/코스닥.csv\", parse_dates=['날짜'])"
   ]
  },
  {
   "cell_type": "markdown",
   "id": "c511ead9",
   "metadata": {},
   "source": [
    "#### (3) 스캔들 날짜를 각각의 소속사 주가 날짜로 매핑\n",
    "\n",
    "`매핑된 주가 날짜` 열을 `scandal`에 추가"
   ]
  },
  {
   "cell_type": "code",
   "execution_count": 13,
   "id": "aeb72d33",
   "metadata": {},
   "outputs": [
    {
     "data": {
      "text/html": [
       "<div>\n",
       "<style scoped>\n",
       "    .dataframe tbody tr th:only-of-type {\n",
       "        vertical-align: middle;\n",
       "    }\n",
       "\n",
       "    .dataframe tbody tr th {\n",
       "        vertical-align: top;\n",
       "    }\n",
       "\n",
       "    .dataframe thead th {\n",
       "        text-align: right;\n",
       "    }\n",
       "</style>\n",
       "<table border=\"1\" class=\"dataframe\">\n",
       "  <thead>\n",
       "    <tr style=\"text-align: right;\">\n",
       "      <th></th>\n",
       "      <th>소속사</th>\n",
       "      <th>사건 날짜</th>\n",
       "      <th>매핑된 주가 날짜</th>\n",
       "      <th>사건 내용</th>\n",
       "      <th>그룹</th>\n",
       "      <th>라벨 1</th>\n",
       "      <th>라벨 2</th>\n",
       "      <th>라벨 3</th>\n",
       "    </tr>\n",
       "  </thead>\n",
       "  <tbody>\n",
       "    <tr>\n",
       "      <th>0</th>\n",
       "      <td>HYBE</td>\n",
       "      <td>2022-04-25</td>\n",
       "      <td>2022-04-25</td>\n",
       "      <td>2022년 4월 25일, 언론사 비즈한국의 취재결과 건강보험료 체납으로 보유하고 있...</td>\n",
       "      <td>방탄소년단</td>\n",
       "      <td>세금 문제</td>\n",
       "      <td>팬 대응</td>\n",
       "      <td>NaN</td>\n",
       "    </tr>\n",
       "    <tr>\n",
       "      <th>1</th>\n",
       "      <td>HYBE</td>\n",
       "      <td>2024-01-06</td>\n",
       "      <td>2024-01-08</td>\n",
       "      <td>2024년 1월 6일, 정국이 입대 후 신병 교육을 받는 동안 발생했다. 탈취범은 ...</td>\n",
       "      <td>방탄소년단</td>\n",
       "      <td>범죄 혐의</td>\n",
       "      <td>기타</td>\n",
       "      <td>NaN</td>\n",
       "    </tr>\n",
       "    <tr>\n",
       "      <th>2</th>\n",
       "      <td>HYBE</td>\n",
       "      <td>2021-11-18</td>\n",
       "      <td>2021-11-18</td>\n",
       "      <td>2021년 11월 18일 오후 5시 , ENHYPEN 은 D-1 이라는 제목으로 V...</td>\n",
       "      <td>엔하이픈</td>\n",
       "      <td>발언 문제</td>\n",
       "      <td>무의식적 태도</td>\n",
       "      <td>NaN</td>\n",
       "    </tr>\n",
       "    <tr>\n",
       "      <th>3</th>\n",
       "      <td>HYBE</td>\n",
       "      <td>2021-11-19</td>\n",
       "      <td>2021-11-19</td>\n",
       "      <td>2021년 11월 19일 사과문을 게시했다. [ 펼치기 · 접기 ] 엔진 여러분 안...</td>\n",
       "      <td>엔하이픈</td>\n",
       "      <td>발언 문제</td>\n",
       "      <td>무의식적 태도</td>\n",
       "      <td>NaN</td>\n",
       "    </tr>\n",
       "    <tr>\n",
       "      <th>4</th>\n",
       "      <td>HYBE</td>\n",
       "      <td>2023-01-10</td>\n",
       "      <td>2023-01-10</td>\n",
       "      <td>2023년 1월 10일, 멤버 성훈과 함께 진행한 위버스 라이브 도중 요즘 한국사 ...</td>\n",
       "      <td>엔하이픈</td>\n",
       "      <td>발언 문제</td>\n",
       "      <td>사회적 감수성</td>\n",
       "      <td>무의식적 태도</td>\n",
       "    </tr>\n",
       "    <tr>\n",
       "      <th>...</th>\n",
       "      <td>...</td>\n",
       "      <td>...</td>\n",
       "      <td>...</td>\n",
       "      <td>...</td>\n",
       "      <td>...</td>\n",
       "      <td>...</td>\n",
       "      <td>...</td>\n",
       "      <td>...</td>\n",
       "    </tr>\n",
       "    <tr>\n",
       "      <th>358</th>\n",
       "      <td>키이스트</td>\n",
       "      <td>2024-05-07</td>\n",
       "      <td>2024-05-07</td>\n",
       "      <td>2024년 5월 7일 구하라법이 국회 법제사법위원회 법안심사소위원회를 통과했다.(의...</td>\n",
       "      <td>NaN</td>\n",
       "      <td>NaN</td>\n",
       "      <td>NaN</td>\n",
       "      <td>NaN</td>\n",
       "    </tr>\n",
       "    <tr>\n",
       "      <th>359</th>\n",
       "      <td>키이스트</td>\n",
       "      <td>2024-08-28</td>\n",
       "      <td>2024-08-28</td>\n",
       "      <td>2024년 8월 28일, 만 5년의 세월과 두 차례의 폐기 끝에 마침내 제22대 국...</td>\n",
       "      <td>NaN</td>\n",
       "      <td>NaN</td>\n",
       "      <td>NaN</td>\n",
       "      <td>NaN</td>\n",
       "    </tr>\n",
       "    <tr>\n",
       "      <th>360</th>\n",
       "      <td>키이스트</td>\n",
       "      <td>2024-04-25</td>\n",
       "      <td>2024-04-25</td>\n",
       "      <td>2024년 4월 25일 이후 상속이 개시된 경우에도 소급 적용될 수 있도록 했다. ...</td>\n",
       "      <td>NaN</td>\n",
       "      <td>NaN</td>\n",
       "      <td>NaN</td>\n",
       "      <td>NaN</td>\n",
       "    </tr>\n",
       "    <tr>\n",
       "      <th>361</th>\n",
       "      <td>키이스트</td>\n",
       "      <td>2024-07-16</td>\n",
       "      <td>2024-07-16</td>\n",
       "      <td>2024년 7월 16일 에 I Do I Do 의 선공개 곡인 Hello 가 발표되었...</td>\n",
       "      <td>NaN</td>\n",
       "      <td>NaN</td>\n",
       "      <td>NaN</td>\n",
       "      <td>NaN</td>\n",
       "    </tr>\n",
       "    <tr>\n",
       "      <th>362</th>\n",
       "      <td>키이스트</td>\n",
       "      <td>2024-04-25</td>\n",
       "      <td>2024-04-25</td>\n",
       "      <td>2024년 4월 25일 위헌법률심판에 따른 위헌결정으로 효력이 \"결정이 있는 날\"부...</td>\n",
       "      <td>NaN</td>\n",
       "      <td>NaN</td>\n",
       "      <td>NaN</td>\n",
       "      <td>NaN</td>\n",
       "    </tr>\n",
       "  </tbody>\n",
       "</table>\n",
       "<p>363 rows × 8 columns</p>\n",
       "</div>"
      ],
      "text/plain": [
       "      소속사      사건 날짜  매핑된 주가 날짜  \\\n",
       "0    HYBE 2022-04-25 2022-04-25   \n",
       "1    HYBE 2024-01-06 2024-01-08   \n",
       "2    HYBE 2021-11-18 2021-11-18   \n",
       "3    HYBE 2021-11-19 2021-11-19   \n",
       "4    HYBE 2023-01-10 2023-01-10   \n",
       "..    ...        ...        ...   \n",
       "358  키이스트 2024-05-07 2024-05-07   \n",
       "359  키이스트 2024-08-28 2024-08-28   \n",
       "360  키이스트 2024-04-25 2024-04-25   \n",
       "361  키이스트 2024-07-16 2024-07-16   \n",
       "362  키이스트 2024-04-25 2024-04-25   \n",
       "\n",
       "                                                 사건 내용     그룹   라벨 1     라벨 2  \\\n",
       "0    2022년 4월 25일, 언론사 비즈한국의 취재결과 건강보험료 체납으로 보유하고 있...  방탄소년단  세금 문제     팬 대응   \n",
       "1    2024년 1월 6일, 정국이 입대 후 신병 교육을 받는 동안 발생했다. 탈취범은 ...  방탄소년단  범죄 혐의       기타   \n",
       "2    2021년 11월 18일 오후 5시 , ENHYPEN 은 D-1 이라는 제목으로 V...   엔하이픈  발언 문제  무의식적 태도   \n",
       "3    2021년 11월 19일 사과문을 게시했다. [ 펼치기 · 접기 ] 엔진 여러분 안...   엔하이픈  발언 문제  무의식적 태도   \n",
       "4    2023년 1월 10일, 멤버 성훈과 함께 진행한 위버스 라이브 도중 요즘 한국사 ...   엔하이픈  발언 문제  사회적 감수성   \n",
       "..                                                 ...    ...    ...      ...   \n",
       "358  2024년 5월 7일 구하라법이 국회 법제사법위원회 법안심사소위원회를 통과했다.(의...    NaN    NaN      NaN   \n",
       "359  2024년 8월 28일, 만 5년의 세월과 두 차례의 폐기 끝에 마침내 제22대 국...    NaN    NaN      NaN   \n",
       "360  2024년 4월 25일 이후 상속이 개시된 경우에도 소급 적용될 수 있도록 했다. ...    NaN    NaN      NaN   \n",
       "361  2024년 7월 16일 에 I Do I Do 의 선공개 곡인 Hello 가 발표되었...    NaN    NaN      NaN   \n",
       "362  2024년 4월 25일 위헌법률심판에 따른 위헌결정으로 효력이 \"결정이 있는 날\"부...    NaN    NaN      NaN   \n",
       "\n",
       "        라벨 3  \n",
       "0        NaN  \n",
       "1        NaN  \n",
       "2        NaN  \n",
       "3        NaN  \n",
       "4    무의식적 태도  \n",
       "..       ...  \n",
       "358      NaN  \n",
       "359      NaN  \n",
       "360      NaN  \n",
       "361      NaN  \n",
       "362      NaN  \n",
       "\n",
       "[363 rows x 8 columns]"
      ]
     },
     "execution_count": 13,
     "metadata": {},
     "output_type": "execute_result"
    }
   ],
   "source": [
    "import pandas as pd\n",
    "import numpy as np\n",
    "import os\n",
    "\n",
    "mapped_dates =[]\n",
    "\n",
    "for idx, row in scandal.iterrows():\n",
    "    firm = row['소속사']\n",
    "    scandal_date = row['사건 날짜']\n",
    "    text = row['사건 내용']\n",
    "    group = row['그룹']\n",
    "    label1= row['라벨 1']\n",
    "    label2= row['라벨 2']\n",
    "    label3=row['라벨 3']\n",
    "\n",
    "    # 소속사 주가 파일 경로\n",
    "    file_path = f\"C:/Users/chica/OneDrive/바탕 화면/BAF-25-1-finance_2/데이터/주가/{firm}.csv\"\n",
    "\n",
    "    stock = pd.read_csv(file_path, parse_dates=['날짜'])\n",
    "    stock_dates = stock['날짜']\n",
    "    mapped_date = map_closet_date(scandal_date, stock_dates)\n",
    "    mapped_dates.append(mapped_date)\n",
    "\n",
    "scandal['매핑된 주가 날짜'] = mapped_dates\n",
    "\n",
    "scandal[['소속사', '사건 날짜', '매핑된 주가 날짜', '사건 내용', '그룹',  '라벨 1', '라벨 2', '라벨 3']]"
   ]
  },
  {
   "cell_type": "code",
   "execution_count": 14,
   "id": "9a4a452c",
   "metadata": {},
   "outputs": [
    {
     "data": {
      "text/plain": [
       "<TimedeltaArray>\n",
       "['0 days', '2 days', '1 days', '3 days']\n",
       "Length: 4, dtype: timedelta64[ns]"
      ]
     },
     "execution_count": 14,
     "metadata": {},
     "output_type": "execute_result"
    }
   ],
   "source": [
    "abs(scandal['사건 날짜'] - scandal['매핑된 주가 날짜']).unique()"
   ]
  },
  {
   "cell_type": "code",
   "execution_count": 15,
   "id": "38300807",
   "metadata": {},
   "outputs": [
    {
     "name": "stdout",
     "output_type": "stream",
     "text": [
      "<class 'pandas.core.frame.DataFrame'>\n",
      "RangeIndex: 363 entries, 0 to 362\n",
      "Data columns (total 9 columns):\n",
      " #   Column     Non-Null Count  Dtype         \n",
      "---  ------     --------------  -----         \n",
      " 0   소속사        363 non-null    object        \n",
      " 1   연예인 이름     363 non-null    object        \n",
      " 2   사건 날짜      363 non-null    datetime64[ns]\n",
      " 3   그룹         251 non-null    object        \n",
      " 4   사건 내용      363 non-null    object        \n",
      " 5   라벨 1       276 non-null    object        \n",
      " 6   라벨 2       146 non-null    object        \n",
      " 7   라벨 3       56 non-null     object        \n",
      " 8   매핑된 주가 날짜  363 non-null    datetime64[ns]\n",
      "dtypes: datetime64[ns](2), object(7)\n",
      "memory usage: 25.7+ KB\n"
     ]
    }
   ],
   "source": [
    "scandal.info()"
   ]
  },
  {
   "cell_type": "markdown",
   "id": "82ea58a1",
   "metadata": {},
   "source": [
    "#### (3) 각 사건에 대해 소속사 주가 데이터에서 행 번호 추출"
   ]
  },
  {
   "cell_type": "code",
   "execution_count": 16,
   "id": "eccb45a3",
   "metadata": {},
   "outputs": [
    {
     "data": {
      "text/html": [
       "<div>\n",
       "<style scoped>\n",
       "    .dataframe tbody tr th:only-of-type {\n",
       "        vertical-align: middle;\n",
       "    }\n",
       "\n",
       "    .dataframe tbody tr th {\n",
       "        vertical-align: top;\n",
       "    }\n",
       "\n",
       "    .dataframe thead th {\n",
       "        text-align: right;\n",
       "    }\n",
       "</style>\n",
       "<table border=\"1\" class=\"dataframe\">\n",
       "  <thead>\n",
       "    <tr style=\"text-align: right;\">\n",
       "      <th></th>\n",
       "      <th>소속사</th>\n",
       "      <th>연예인 이름</th>\n",
       "      <th>사건 날짜</th>\n",
       "      <th>매핑된 주가 날짜</th>\n",
       "      <th>주가 행 인덱스</th>\n",
       "      <th>그룹</th>\n",
       "      <th>사건 내용</th>\n",
       "    </tr>\n",
       "  </thead>\n",
       "  <tbody>\n",
       "    <tr>\n",
       "      <th>0</th>\n",
       "      <td>HYBE</td>\n",
       "      <td>지민</td>\n",
       "      <td>2022-04-25</td>\n",
       "      <td>2022-04-25</td>\n",
       "      <td>375</td>\n",
       "      <td>방탄소년단</td>\n",
       "      <td>2022년 4월 25일, 언론사 비즈한국의 취재결과 건강보험료 체납으로 보유하고 있...</td>\n",
       "    </tr>\n",
       "    <tr>\n",
       "      <th>1</th>\n",
       "      <td>HYBE</td>\n",
       "      <td>정국</td>\n",
       "      <td>2024-01-06</td>\n",
       "      <td>2024-01-08</td>\n",
       "      <td>795</td>\n",
       "      <td>방탄소년단</td>\n",
       "      <td>2024년 1월 6일, 정국이 입대 후 신병 교육을 받는 동안 발생했다. 탈취범은 ...</td>\n",
       "    </tr>\n",
       "    <tr>\n",
       "      <th>2</th>\n",
       "      <td>HYBE</td>\n",
       "      <td>정원</td>\n",
       "      <td>2021-11-18</td>\n",
       "      <td>2021-11-18</td>\n",
       "      <td>269</td>\n",
       "      <td>엔하이픈</td>\n",
       "      <td>2021년 11월 18일 오후 5시 , ENHYPEN 은 D-1 이라는 제목으로 V...</td>\n",
       "    </tr>\n",
       "    <tr>\n",
       "      <th>3</th>\n",
       "      <td>HYBE</td>\n",
       "      <td>정원</td>\n",
       "      <td>2021-11-19</td>\n",
       "      <td>2021-11-19</td>\n",
       "      <td>270</td>\n",
       "      <td>엔하이픈</td>\n",
       "      <td>2021년 11월 19일 사과문을 게시했다. [ 펼치기 · 접기 ] 엔진 여러분 안...</td>\n",
       "    </tr>\n",
       "    <tr>\n",
       "      <th>4</th>\n",
       "      <td>HYBE</td>\n",
       "      <td>제이</td>\n",
       "      <td>2023-01-10</td>\n",
       "      <td>2023-01-10</td>\n",
       "      <td>552</td>\n",
       "      <td>엔하이픈</td>\n",
       "      <td>2023년 1월 10일, 멤버 성훈과 함께 진행한 위버스 라이브 도중 요즘 한국사 ...</td>\n",
       "    </tr>\n",
       "    <tr>\n",
       "      <th>...</th>\n",
       "      <td>...</td>\n",
       "      <td>...</td>\n",
       "      <td>...</td>\n",
       "      <td>...</td>\n",
       "      <td>...</td>\n",
       "      <td>...</td>\n",
       "      <td>...</td>\n",
       "    </tr>\n",
       "    <tr>\n",
       "      <th>358</th>\n",
       "      <td>키이스트</td>\n",
       "      <td>구하라</td>\n",
       "      <td>2024-05-07</td>\n",
       "      <td>2024-05-07</td>\n",
       "      <td>2493</td>\n",
       "      <td>NaN</td>\n",
       "      <td>2024년 5월 7일 구하라법이 국회 법제사법위원회 법안심사소위원회를 통과했다.(의...</td>\n",
       "    </tr>\n",
       "    <tr>\n",
       "      <th>359</th>\n",
       "      <td>키이스트</td>\n",
       "      <td>구하라</td>\n",
       "      <td>2024-08-28</td>\n",
       "      <td>2024-08-28</td>\n",
       "      <td>2571</td>\n",
       "      <td>NaN</td>\n",
       "      <td>2024년 8월 28일, 만 5년의 세월과 두 차례의 폐기 끝에 마침내 제22대 국...</td>\n",
       "    </tr>\n",
       "    <tr>\n",
       "      <th>360</th>\n",
       "      <td>키이스트</td>\n",
       "      <td>구하라</td>\n",
       "      <td>2024-04-25</td>\n",
       "      <td>2024-04-25</td>\n",
       "      <td>2487</td>\n",
       "      <td>NaN</td>\n",
       "      <td>2024년 4월 25일 이후 상속이 개시된 경우에도 소급 적용될 수 있도록 했다. ...</td>\n",
       "    </tr>\n",
       "    <tr>\n",
       "      <th>361</th>\n",
       "      <td>키이스트</td>\n",
       "      <td>구하라</td>\n",
       "      <td>2024-07-16</td>\n",
       "      <td>2024-07-16</td>\n",
       "      <td>2541</td>\n",
       "      <td>NaN</td>\n",
       "      <td>2024년 7월 16일 에 I Do I Do 의 선공개 곡인 Hello 가 발표되었...</td>\n",
       "    </tr>\n",
       "    <tr>\n",
       "      <th>362</th>\n",
       "      <td>키이스트</td>\n",
       "      <td>구하라</td>\n",
       "      <td>2024-04-25</td>\n",
       "      <td>2024-04-25</td>\n",
       "      <td>2487</td>\n",
       "      <td>NaN</td>\n",
       "      <td>2024년 4월 25일 위헌법률심판에 따른 위헌결정으로 효력이 \"결정이 있는 날\"부...</td>\n",
       "    </tr>\n",
       "  </tbody>\n",
       "</table>\n",
       "<p>363 rows × 7 columns</p>\n",
       "</div>"
      ],
      "text/plain": [
       "      소속사 연예인 이름      사건 날짜  매핑된 주가 날짜  주가 행 인덱스     그룹  \\\n",
       "0    HYBE     지민 2022-04-25 2022-04-25       375  방탄소년단   \n",
       "1    HYBE     정국 2024-01-06 2024-01-08       795  방탄소년단   \n",
       "2    HYBE     정원 2021-11-18 2021-11-18       269   엔하이픈   \n",
       "3    HYBE     정원 2021-11-19 2021-11-19       270   엔하이픈   \n",
       "4    HYBE     제이 2023-01-10 2023-01-10       552   엔하이픈   \n",
       "..    ...    ...        ...        ...       ...    ...   \n",
       "358  키이스트    구하라 2024-05-07 2024-05-07      2493    NaN   \n",
       "359  키이스트    구하라 2024-08-28 2024-08-28      2571    NaN   \n",
       "360  키이스트    구하라 2024-04-25 2024-04-25      2487    NaN   \n",
       "361  키이스트    구하라 2024-07-16 2024-07-16      2541    NaN   \n",
       "362  키이스트    구하라 2024-04-25 2024-04-25      2487    NaN   \n",
       "\n",
       "                                                 사건 내용  \n",
       "0    2022년 4월 25일, 언론사 비즈한국의 취재결과 건강보험료 체납으로 보유하고 있...  \n",
       "1    2024년 1월 6일, 정국이 입대 후 신병 교육을 받는 동안 발생했다. 탈취범은 ...  \n",
       "2    2021년 11월 18일 오후 5시 , ENHYPEN 은 D-1 이라는 제목으로 V...  \n",
       "3    2021년 11월 19일 사과문을 게시했다. [ 펼치기 · 접기 ] 엔진 여러분 안...  \n",
       "4    2023년 1월 10일, 멤버 성훈과 함께 진행한 위버스 라이브 도중 요즘 한국사 ...  \n",
       "..                                                 ...  \n",
       "358  2024년 5월 7일 구하라법이 국회 법제사법위원회 법안심사소위원회를 통과했다.(의...  \n",
       "359  2024년 8월 28일, 만 5년의 세월과 두 차례의 폐기 끝에 마침내 제22대 국...  \n",
       "360  2024년 4월 25일 이후 상속이 개시된 경우에도 소급 적용될 수 있도록 했다. ...  \n",
       "361  2024년 7월 16일 에 I Do I Do 의 선공개 곡인 Hello 가 발표되었...  \n",
       "362  2024년 4월 25일 위헌법률심판에 따른 위헌결정으로 효력이 \"결정이 있는 날\"부...  \n",
       "\n",
       "[363 rows x 7 columns]"
      ]
     },
     "execution_count": 16,
     "metadata": {},
     "output_type": "execute_result"
    }
   ],
   "source": [
    "stock_rows = []\n",
    "\n",
    "for idx, row in scandal.iterrows():\n",
    "    firm = row['소속사']\n",
    "    mapped_date = row['매핑된 주가 날짜']\n",
    "\n",
    "    file_path = f\"C:/Users/chica/OneDrive/바탕 화면/BAF-25-1-finance_2/데이터/주가/{firm}.csv\"\n",
    "    stock = pd.read_csv(file_path, parse_dates=['날짜'])\n",
    "\n",
    "    row_index = stock[stock['날짜'].dt.date == mapped_date.date()].index[0]\n",
    "\n",
    "    stock_rows.append(row_index)\n",
    "\n",
    "scandal['주가 행 인덱스']=stock_rows\n",
    "scandal[['소속사', '연예인 이름', '사건 날짜', '매핑된 주가 날짜','주가 행 인덱스', '그룹', '사건 내용']]"
   ]
  },
  {
   "cell_type": "code",
   "execution_count": 17,
   "id": "3aa025b9",
   "metadata": {},
   "outputs": [
    {
     "data": {
      "text/plain": [
       "0"
      ]
     },
     "execution_count": 17,
     "metadata": {},
     "output_type": "execute_result"
    }
   ],
   "source": [
    "sum(scandal['주가 행 인덱스'].isna())"
   ]
  },
  {
   "cell_type": "markdown",
   "id": "f24c011a",
   "metadata": {},
   "source": [
    "#### (4) 비정상수익률 계산\n",
    "\n",
    "- 이벤트 윈도우: -3 ~ +3\n",
    "\n",
    "- 추정 윈도우: -90 ~ -4"
   ]
  },
  {
   "cell_type": "markdown",
   "id": "13dbcf71",
   "metadata": {},
   "source": [
    "> 윈도우 합집합인 -90 ~ +3 개 있는 스캔들만 필터링\n",
    "\n",
    "목적: 시장모형추정 윈도우와 이벤트 윈도우 일치 행 필터링"
   ]
  },
  {
   "cell_type": "code",
   "execution_count": 18,
   "id": "4feb4fb5",
   "metadata": {},
   "outputs": [
    {
     "name": "stdout",
     "output_type": "stream",
     "text": [
      "윈도우 통과 사건 수: 356 / 363\n"
     ]
    }
   ],
   "source": [
    "윈도우_통과 = []\n",
    "\n",
    "for i in range(len(scandal)):\n",
    "    firm = scandal.loc[i, '소속사']\n",
    "    stock_row = scandal.loc[i, '주가 행 인덱스']\n",
    "\n",
    "    file_path = f\"C:/Users/chica/OneDrive/바탕 화면/BAF-25-1-finance_2/데이터/주가/{firm}.csv\"\n",
    "    stock = pd.read_csv(file_path, parse_dates=['날짜'])\n",
    "\n",
    "    est_start = stock_row - 90\n",
    "    event_end = stock_row + 3\n",
    "\n",
    "    if est_start >= 0 and event_end < len(stock):\n",
    "        윈도우_통과.append(True)\n",
    "    else:\n",
    "        윈도우_통과.append(False)\n",
    "\n",
    "scandal['윈도우 통과'] = 윈도우_통과\n",
    "print(\"윈도우 통과 사건 수:\", scandal['윈도우 통과'].sum(), \"/\", len(scandal))"
   ]
  },
  {
   "cell_type": "code",
   "execution_count": 20,
   "id": "4a23ffc2",
   "metadata": {},
   "outputs": [
    {
     "data": {
      "text/plain": [
       "356"
      ]
     },
     "execution_count": 20,
     "metadata": {},
     "output_type": "execute_result"
    }
   ],
   "source": [
    "scandal_final = scandal[(scandal['윈도우 통과'])].reset_index(drop=True)\n",
    "len(scandal_final)"
   ]
  },
  {
   "cell_type": "code",
   "execution_count": 21,
   "id": "2bec9437",
   "metadata": {},
   "outputs": [
    {
     "data": {
      "text/plain": [
       "Index(['소속사', '연예인 이름', '사건 날짜', '그룹', '사건 내용', '라벨 1', '라벨 2', '라벨 3',\n",
       "       '매핑된 주가 날짜', '주가 행 인덱스', '윈도우 통과'],\n",
       "      dtype='object')"
      ]
     },
     "execution_count": 21,
     "metadata": {},
     "output_type": "execute_result"
    }
   ],
   "source": [
    "scandal_final.columns"
   ]
  },
  {
   "cell_type": "markdown",
   "id": "b1a334bc",
   "metadata": {},
   "source": [
    "> 각 사건의 주가 윈도우의 날짜가 벤치마크의 날짜 리스트에 있는 행만 필터링\n",
    "\n",
    "목적: 기대 수익률 계산시 주가 날짜와 같은 날짜의 벤치마크 데이터 사용 가능 행 필터링"
   ]
  },
  {
   "cell_type": "code",
   "execution_count": 22,
   "id": "bc195ff0",
   "metadata": {},
   "outputs": [
    {
     "data": {
      "text/plain": [
       "345"
      ]
     },
     "execution_count": 22,
     "metadata": {},
     "output_type": "execute_result"
    }
   ],
   "source": [
    "market_dates = set(market['날짜']) \n",
    "\n",
    "행_완전한_사건 = []\n",
    "\n",
    "for i in range(len(scandal_final)):\n",
    "    firm = scandal_final.loc[i, '소속사']\n",
    "    stock_row = scandal_final.loc[i, '주가 행 인덱스']\n",
    "\n",
    "    file_path = f\"C:/Users/chica/OneDrive/바탕 화면/BAF-25-1-finance_2/데이터/주가/{firm}.csv\"\n",
    "    stock = pd.read_csv(file_path, parse_dates=['날짜'])\n",
    "    # 위로 3개, 아래로 5개\n",
    "    event_window = stock.iloc[stock_row - 3 : stock_row + 4].copy()\n",
    "\n",
    "    if all(date in market_dates for date in event_window['날짜']):\n",
    "        행_완전한_사건.append(i)\n",
    "\n",
    "scandal_final = scandal_final.loc[행_완전한_사건].reset_index(drop=True)\n",
    "len(scandal_final)"
   ]
  },
  {
   "cell_type": "markdown",
   "id": "3962bd27",
   "metadata": {},
   "source": [
    "> 비정상 수익률 계산"
   ]
  },
  {
   "cell_type": "markdown",
   "id": "e8e0297e",
   "metadata": {},
   "source": [
    "`기대 수익률`: 사건이 없었다면 정상적으로 기대되는 수익률"
   ]
  },
  {
   "cell_type": "code",
   "execution_count": 23,
   "id": "02c0a92d",
   "metadata": {},
   "outputs": [
    {
     "data": {
      "text/html": [
       "<div>\n",
       "<style scoped>\n",
       "    .dataframe tbody tr th:only-of-type {\n",
       "        vertical-align: middle;\n",
       "    }\n",
       "\n",
       "    .dataframe tbody tr th {\n",
       "        vertical-align: top;\n",
       "    }\n",
       "\n",
       "    .dataframe thead th {\n",
       "        text-align: right;\n",
       "    }\n",
       "</style>\n",
       "<table border=\"1\" class=\"dataframe\">\n",
       "  <thead>\n",
       "    <tr style=\"text-align: right;\">\n",
       "      <th></th>\n",
       "      <th>날짜</th>\n",
       "      <th>종가</th>\n",
       "      <th>시가</th>\n",
       "      <th>고가</th>\n",
       "      <th>저가</th>\n",
       "      <th>거래량</th>\n",
       "      <th>변동 %</th>\n",
       "      <th>로그 수익률</th>\n",
       "      <th>거래량 변화율</th>\n",
       "      <th>시장 수익률</th>\n",
       "      <th>...</th>\n",
       "      <th>차이</th>\n",
       "      <th>소속사</th>\n",
       "      <th>연예인 이름</th>\n",
       "      <th>사건 날짜</th>\n",
       "      <th>사건 내용</th>\n",
       "      <th>그룹</th>\n",
       "      <th>사건 날짜(매핑된 주가 날짜)</th>\n",
       "      <th>라벨 1</th>\n",
       "      <th>라벨 2</th>\n",
       "      <th>라벨 3</th>\n",
       "    </tr>\n",
       "  </thead>\n",
       "  <tbody>\n",
       "    <tr>\n",
       "      <th>0</th>\n",
       "      <td>2022-04-20</td>\n",
       "      <td>264000</td>\n",
       "      <td>281500</td>\n",
       "      <td>281500</td>\n",
       "      <td>263500</td>\n",
       "      <td>46509000.0</td>\n",
       "      <td>-5.71</td>\n",
       "      <td>-0.058841</td>\n",
       "      <td>2.864158</td>\n",
       "      <td>-0.003228</td>\n",
       "      <td>...</td>\n",
       "      <td>2</td>\n",
       "      <td>HYBE</td>\n",
       "      <td>지민</td>\n",
       "      <td>2022-04-25</td>\n",
       "      <td>2022년 4월 25일, 언론사 비즈한국의 취재결과 건강보험료 체납으로 보유하고 있...</td>\n",
       "      <td>방탄소년단</td>\n",
       "      <td>2022-04-25</td>\n",
       "      <td>세금 문제</td>\n",
       "      <td>팬 대응</td>\n",
       "      <td>NaN</td>\n",
       "    </tr>\n",
       "    <tr>\n",
       "      <th>1</th>\n",
       "      <td>2022-04-21</td>\n",
       "      <td>261000</td>\n",
       "      <td>263000</td>\n",
       "      <td>267000</td>\n",
       "      <td>257500</td>\n",
       "      <td>23326000.0</td>\n",
       "      <td>-1.14</td>\n",
       "      <td>-0.011429</td>\n",
       "      <td>-0.498463</td>\n",
       "      <td>0.001077</td>\n",
       "      <td>...</td>\n",
       "      <td>2</td>\n",
       "      <td>HYBE</td>\n",
       "      <td>지민</td>\n",
       "      <td>2022-04-25</td>\n",
       "      <td>2022년 4월 25일, 언론사 비즈한국의 취재결과 건강보험료 체납으로 보유하고 있...</td>\n",
       "      <td>방탄소년단</td>\n",
       "      <td>2022-04-25</td>\n",
       "      <td>세금 문제</td>\n",
       "      <td>팬 대응</td>\n",
       "      <td>NaN</td>\n",
       "    </tr>\n",
       "    <tr>\n",
       "      <th>2</th>\n",
       "      <td>2022-04-22</td>\n",
       "      <td>254500</td>\n",
       "      <td>260000</td>\n",
       "      <td>260000</td>\n",
       "      <td>253500</td>\n",
       "      <td>21876000.0</td>\n",
       "      <td>-2.49</td>\n",
       "      <td>-0.025220</td>\n",
       "      <td>-0.062162</td>\n",
       "      <td>-0.007564</td>\n",
       "      <td>...</td>\n",
       "      <td>2</td>\n",
       "      <td>HYBE</td>\n",
       "      <td>지민</td>\n",
       "      <td>2022-04-25</td>\n",
       "      <td>2022년 4월 25일, 언론사 비즈한국의 취재결과 건강보험료 체납으로 보유하고 있...</td>\n",
       "      <td>방탄소년단</td>\n",
       "      <td>2022-04-25</td>\n",
       "      <td>세금 문제</td>\n",
       "      <td>팬 대응</td>\n",
       "      <td>NaN</td>\n",
       "    </tr>\n",
       "    <tr>\n",
       "      <th>3</th>\n",
       "      <td>2022-04-25</td>\n",
       "      <td>250500</td>\n",
       "      <td>248500</td>\n",
       "      <td>257000</td>\n",
       "      <td>246500</td>\n",
       "      <td>16526000.0</td>\n",
       "      <td>-1.57</td>\n",
       "      <td>-0.015842</td>\n",
       "      <td>-0.244560</td>\n",
       "      <td>-0.025262</td>\n",
       "      <td>...</td>\n",
       "      <td>0</td>\n",
       "      <td>HYBE</td>\n",
       "      <td>지민</td>\n",
       "      <td>2022-04-25</td>\n",
       "      <td>2022년 4월 25일, 언론사 비즈한국의 취재결과 건강보험료 체납으로 보유하고 있...</td>\n",
       "      <td>방탄소년단</td>\n",
       "      <td>2022-04-25</td>\n",
       "      <td>세금 문제</td>\n",
       "      <td>팬 대응</td>\n",
       "      <td>NaN</td>\n",
       "    </tr>\n",
       "    <tr>\n",
       "      <th>4</th>\n",
       "      <td>2022-04-26</td>\n",
       "      <td>260500</td>\n",
       "      <td>253000</td>\n",
       "      <td>264000</td>\n",
       "      <td>253000</td>\n",
       "      <td>25146000.0</td>\n",
       "      <td>3.99</td>\n",
       "      <td>0.039144</td>\n",
       "      <td>0.521602</td>\n",
       "      <td>0.013260</td>\n",
       "      <td>...</td>\n",
       "      <td>0</td>\n",
       "      <td>HYBE</td>\n",
       "      <td>지민</td>\n",
       "      <td>2022-04-25</td>\n",
       "      <td>2022년 4월 25일, 언론사 비즈한국의 취재결과 건강보험료 체납으로 보유하고 있...</td>\n",
       "      <td>방탄소년단</td>\n",
       "      <td>2022-04-25</td>\n",
       "      <td>세금 문제</td>\n",
       "      <td>팬 대응</td>\n",
       "      <td>NaN</td>\n",
       "    </tr>\n",
       "    <tr>\n",
       "      <th>...</th>\n",
       "      <td>...</td>\n",
       "      <td>...</td>\n",
       "      <td>...</td>\n",
       "      <td>...</td>\n",
       "      <td>...</td>\n",
       "      <td>...</td>\n",
       "      <td>...</td>\n",
       "      <td>...</td>\n",
       "      <td>...</td>\n",
       "      <td>...</td>\n",
       "      <td>...</td>\n",
       "      <td>...</td>\n",
       "      <td>...</td>\n",
       "      <td>...</td>\n",
       "      <td>...</td>\n",
       "      <td>...</td>\n",
       "      <td>...</td>\n",
       "      <td>...</td>\n",
       "      <td>...</td>\n",
       "      <td>...</td>\n",
       "      <td>...</td>\n",
       "    </tr>\n",
       "    <tr>\n",
       "      <th>2410</th>\n",
       "      <td>2024-04-24</td>\n",
       "      <td>5780</td>\n",
       "      <td>5800</td>\n",
       "      <td>5850</td>\n",
       "      <td>5770</td>\n",
       "      <td>2278000.0</td>\n",
       "      <td>-0.17</td>\n",
       "      <td>-0.001729</td>\n",
       "      <td>-0.345402</td>\n",
       "      <td>0.019919</td>\n",
       "      <td>...</td>\n",
       "      <td>0</td>\n",
       "      <td>키이스트</td>\n",
       "      <td>구하라</td>\n",
       "      <td>2024-04-25</td>\n",
       "      <td>2024년 4월 25일 위헌법률심판에 따른 위헌결정으로 효력이 \"결정이 있는 날\"부...</td>\n",
       "      <td>NaN</td>\n",
       "      <td>2024-04-25</td>\n",
       "      <td>NaN</td>\n",
       "      <td>NaN</td>\n",
       "      <td>NaN</td>\n",
       "    </tr>\n",
       "    <tr>\n",
       "      <th>2411</th>\n",
       "      <td>2024-04-25</td>\n",
       "      <td>5650</td>\n",
       "      <td>5750</td>\n",
       "      <td>5820</td>\n",
       "      <td>5650</td>\n",
       "      <td>4598000.0</td>\n",
       "      <td>-2.25</td>\n",
       "      <td>-0.022748</td>\n",
       "      <td>1.018437</td>\n",
       "      <td>-0.010496</td>\n",
       "      <td>...</td>\n",
       "      <td>0</td>\n",
       "      <td>키이스트</td>\n",
       "      <td>구하라</td>\n",
       "      <td>2024-04-25</td>\n",
       "      <td>2024년 4월 25일 위헌법률심판에 따른 위헌결정으로 효력이 \"결정이 있는 날\"부...</td>\n",
       "      <td>NaN</td>\n",
       "      <td>2024-04-25</td>\n",
       "      <td>NaN</td>\n",
       "      <td>NaN</td>\n",
       "      <td>NaN</td>\n",
       "    </tr>\n",
       "    <tr>\n",
       "      <th>2412</th>\n",
       "      <td>2024-04-26</td>\n",
       "      <td>5740</td>\n",
       "      <td>5690</td>\n",
       "      <td>5740</td>\n",
       "      <td>5670</td>\n",
       "      <td>1296000.0</td>\n",
       "      <td>1.59</td>\n",
       "      <td>0.015804</td>\n",
       "      <td>-0.718138</td>\n",
       "      <td>0.003511</td>\n",
       "      <td>...</td>\n",
       "      <td>0</td>\n",
       "      <td>키이스트</td>\n",
       "      <td>구하라</td>\n",
       "      <td>2024-04-25</td>\n",
       "      <td>2024년 4월 25일 위헌법률심판에 따른 위헌결정으로 효력이 \"결정이 있는 날\"부...</td>\n",
       "      <td>NaN</td>\n",
       "      <td>2024-04-25</td>\n",
       "      <td>NaN</td>\n",
       "      <td>NaN</td>\n",
       "      <td>NaN</td>\n",
       "    </tr>\n",
       "    <tr>\n",
       "      <th>2413</th>\n",
       "      <td>2024-04-29</td>\n",
       "      <td>5780</td>\n",
       "      <td>5740</td>\n",
       "      <td>5820</td>\n",
       "      <td>5710</td>\n",
       "      <td>1793000.0</td>\n",
       "      <td>0.70</td>\n",
       "      <td>0.006944</td>\n",
       "      <td>0.383488</td>\n",
       "      <td>0.015073</td>\n",
       "      <td>...</td>\n",
       "      <td>2</td>\n",
       "      <td>키이스트</td>\n",
       "      <td>구하라</td>\n",
       "      <td>2024-04-25</td>\n",
       "      <td>2024년 4월 25일 위헌법률심판에 따른 위헌결정으로 효력이 \"결정이 있는 날\"부...</td>\n",
       "      <td>NaN</td>\n",
       "      <td>2024-04-25</td>\n",
       "      <td>NaN</td>\n",
       "      <td>NaN</td>\n",
       "      <td>NaN</td>\n",
       "    </tr>\n",
       "    <tr>\n",
       "      <th>2414</th>\n",
       "      <td>2024-04-30</td>\n",
       "      <td>5770</td>\n",
       "      <td>5730</td>\n",
       "      <td>5820</td>\n",
       "      <td>5730</td>\n",
       "      <td>2168000.0</td>\n",
       "      <td>-0.17</td>\n",
       "      <td>-0.001732</td>\n",
       "      <td>0.209147</td>\n",
       "      <td>-0.001151</td>\n",
       "      <td>...</td>\n",
       "      <td>2</td>\n",
       "      <td>키이스트</td>\n",
       "      <td>구하라</td>\n",
       "      <td>2024-04-25</td>\n",
       "      <td>2024년 4월 25일 위헌법률심판에 따른 위헌결정으로 효력이 \"결정이 있는 날\"부...</td>\n",
       "      <td>NaN</td>\n",
       "      <td>2024-04-25</td>\n",
       "      <td>NaN</td>\n",
       "      <td>NaN</td>\n",
       "      <td>NaN</td>\n",
       "    </tr>\n",
       "  </tbody>\n",
       "</table>\n",
       "<p>2415 rows × 24 columns</p>\n",
       "</div>"
      ],
      "text/plain": [
       "             날짜      종가      시가      고가      저가         거래량  변동 %    로그 수익률  \\\n",
       "0    2022-04-20  264000  281500  281500  263500  46509000.0 -5.71 -0.058841   \n",
       "1    2022-04-21  261000  263000  267000  257500  23326000.0 -1.14 -0.011429   \n",
       "2    2022-04-22  254500  260000  260000  253500  21876000.0 -2.49 -0.025220   \n",
       "3    2022-04-25  250500  248500  257000  246500  16526000.0 -1.57 -0.015842   \n",
       "4    2022-04-26  260500  253000  264000  253000  25146000.0  3.99  0.039144   \n",
       "...         ...     ...     ...     ...     ...         ...   ...       ...   \n",
       "2410 2024-04-24    5780    5800    5850    5770   2278000.0 -0.17 -0.001729   \n",
       "2411 2024-04-25    5650    5750    5820    5650   4598000.0 -2.25 -0.022748   \n",
       "2412 2024-04-26    5740    5690    5740    5670   1296000.0  1.59  0.015804   \n",
       "2413 2024-04-29    5780    5740    5820    5710   1793000.0  0.70  0.006944   \n",
       "2414 2024-04-30    5770    5730    5820    5730   2168000.0 -0.17 -0.001732   \n",
       "\n",
       "       거래량 변화율    시장 수익률  ...  차이   소속사  연예인 이름      사건 날짜  \\\n",
       "0     2.864158 -0.003228  ...   2  HYBE      지민 2022-04-25   \n",
       "1    -0.498463  0.001077  ...   2  HYBE      지민 2022-04-25   \n",
       "2    -0.062162 -0.007564  ...   2  HYBE      지민 2022-04-25   \n",
       "3    -0.244560 -0.025262  ...   0  HYBE      지민 2022-04-25   \n",
       "4     0.521602  0.013260  ...   0  HYBE      지민 2022-04-25   \n",
       "...        ...       ...  ...  ..   ...     ...        ...   \n",
       "2410 -0.345402  0.019919  ...   0  키이스트     구하라 2024-04-25   \n",
       "2411  1.018437 -0.010496  ...   0  키이스트     구하라 2024-04-25   \n",
       "2412 -0.718138  0.003511  ...   0  키이스트     구하라 2024-04-25   \n",
       "2413  0.383488  0.015073  ...   2  키이스트     구하라 2024-04-25   \n",
       "2414  0.209147 -0.001151  ...   2  키이스트     구하라 2024-04-25   \n",
       "\n",
       "                                                  사건 내용     그룹  \\\n",
       "0     2022년 4월 25일, 언론사 비즈한국의 취재결과 건강보험료 체납으로 보유하고 있...  방탄소년단   \n",
       "1     2022년 4월 25일, 언론사 비즈한국의 취재결과 건강보험료 체납으로 보유하고 있...  방탄소년단   \n",
       "2     2022년 4월 25일, 언론사 비즈한국의 취재결과 건강보험료 체납으로 보유하고 있...  방탄소년단   \n",
       "3     2022년 4월 25일, 언론사 비즈한국의 취재결과 건강보험료 체납으로 보유하고 있...  방탄소년단   \n",
       "4     2022년 4월 25일, 언론사 비즈한국의 취재결과 건강보험료 체납으로 보유하고 있...  방탄소년단   \n",
       "...                                                 ...    ...   \n",
       "2410  2024년 4월 25일 위헌법률심판에 따른 위헌결정으로 효력이 \"결정이 있는 날\"부...    NaN   \n",
       "2411  2024년 4월 25일 위헌법률심판에 따른 위헌결정으로 효력이 \"결정이 있는 날\"부...    NaN   \n",
       "2412  2024년 4월 25일 위헌법률심판에 따른 위헌결정으로 효력이 \"결정이 있는 날\"부...    NaN   \n",
       "2413  2024년 4월 25일 위헌법률심판에 따른 위헌결정으로 효력이 \"결정이 있는 날\"부...    NaN   \n",
       "2414  2024년 4월 25일 위헌법률심판에 따른 위헌결정으로 효력이 \"결정이 있는 날\"부...    NaN   \n",
       "\n",
       "     사건 날짜(매핑된 주가 날짜)   라벨 1  라벨 2 라벨 3  \n",
       "0          2022-04-25  세금 문제  팬 대응  NaN  \n",
       "1          2022-04-25  세금 문제  팬 대응  NaN  \n",
       "2          2022-04-25  세금 문제  팬 대응  NaN  \n",
       "3          2022-04-25  세금 문제  팬 대응  NaN  \n",
       "4          2022-04-25  세금 문제  팬 대응  NaN  \n",
       "...               ...    ...   ...  ...  \n",
       "2410       2024-04-25    NaN   NaN  NaN  \n",
       "2411       2024-04-25    NaN   NaN  NaN  \n",
       "2412       2024-04-25    NaN   NaN  NaN  \n",
       "2413       2024-04-25    NaN   NaN  NaN  \n",
       "2414       2024-04-25    NaN   NaN  NaN  \n",
       "\n",
       "[2415 rows x 24 columns]"
      ]
     },
     "execution_count": 23,
     "metadata": {},
     "output_type": "execute_result"
    }
   ],
   "source": [
    "from sklearn.linear_model import LinearRegression\n",
    "import pandas as pd\n",
    "\n",
    "result = []\n",
    "\n",
    "for i in range(len(scandal_final)):\n",
    "    firm = scandal_final.loc[i, '소속사']\n",
    "    mapped_date = scandal_final.loc[i, '매핑된 주가 날짜']\n",
    "    stock_row = scandal_final.loc[i, '주가 행 인덱스']\n",
    "    scandal_date = scandal_final.loc[i, '사건 날짜']\n",
    "    celeb_name = scandal_final.loc[i, '연예인 이름']\n",
    "    text_all = scandal_final.loc[i, '사건 내용']\n",
    "    group_all = scandal_final.loc[i, '그룹']\n",
    "    label1= scandal_final.loc[i, '라벨 1']\n",
    "    label2= scandal_final.loc[i, '라벨 2']\n",
    "    label3=scandal_final.loc[i, '라벨 3']\n",
    "\n",
    "    stock_path = f\"C:/Users/chica/OneDrive/바탕 화면/BAF-25-1-finance_2/데이터/주가/{firm}.csv\"\n",
    "    stock = pd.read_csv(stock_path, parse_dates=['날짜'])\n",
    "    market_window = market[['날짜', '로그 수익률']].rename(columns={'로그 수익률': '시장 수익률'})\n",
    "\n",
    "    # 추정기간, 시장모형 회귀\n",
    "    # 위로 90행, 위로 4행\n",
    "    est_window = stock.iloc[stock_row - 90 : stock_row - 3].copy()\n",
    "    est_window = pd.merge(est_window, market_window, on='날짜', how='left')\n",
    "    est_window = est_window.dropna()\n",
    "\n",
    "    X = est_window[['시장 수익률']]\n",
    "    y = est_window['로그 수익률']\n",
    "    model = LinearRegression().fit(X, y)\n",
    "    alpha = model.intercept_\n",
    "    beta = model.coef_[0]\n",
    "\n",
    "    # 사건기간, 비정상 수익률 계산\n",
    "    # 위로 3행, 아래로 5행\n",
    "    event_window = stock.iloc[stock_row - 3 : stock_row + 4].copy()\n",
    "    event_window = pd.merge(event_window, market_window, on='날짜', how='left')\n",
    "    event_window = event_window.dropna()\n",
    "\n",
    "    event_window['기대 수익률'] = alpha + beta * event_window['시장 수익률']\n",
    "    event_window['비정상 수익률'] = event_window['로그 수익률'] - event_window['기대 수익률']\n",
    "    event_window['실제 range(이 행의 주가 날짜와 사건일간 차이)'] = (event_window['날짜'] - mapped_date).dt.days # 이 행이 사건일로부터 날짜 기준으로 며칠 떨어졌는지\n",
    "    event_window['range(행 개수 기준)'] = list(range(-3,4)) # 이 행이 사건일로부터 몇 행 떨어졌는지\n",
    "    event_window['차이'] = abs(event_window['range(행 개수 기준)']-event_window['실제 range(이 행의 주가 날짜와 사건일간 차이)']) # 위에 둘 사이의 불일치 정도(절댓값) 를 나타내는 지표\n",
    "    event_window['소속사'] = firm\n",
    "    event_window['연예인 이름'] = celeb_name\n",
    "    event_window['사건 날짜'] = scandal_date\n",
    "    event_window['사건 내용'] = text_all\n",
    "    event_window['그룹'] = group_all\n",
    "    event_window['사건 날짜(매핑된 주가 날짜)'] = mapped_date\n",
    "    event_window['라벨 1'] = label1\n",
    "    event_window['라벨 2'] = label2\n",
    "    event_window['라벨 3'] = label3\n",
    "    \n",
    "    result.append(event_window)\n",
    "\n",
    "abnormal = pd.concat(result, ignore_index=True)\n",
    "abnormal"
   ]
  },
  {
   "cell_type": "code",
   "execution_count": 24,
   "id": "e21c0192",
   "metadata": {},
   "outputs": [
    {
     "data": {
      "text/plain": [
       "Index(['날짜', '종가', '시가', '고가', '저가', '거래량', '변동 %', '로그 수익률', '거래량 변화율',\n",
       "       '시장 수익률', '기대 수익률', '비정상 수익률', '실제 range(이 행의 주가 날짜와 사건일간 차이)',\n",
       "       'range(행 개수 기준)', '차이', '소속사', '연예인 이름', '사건 날짜', '사건 내용', '그룹',\n",
       "       '사건 날짜(매핑된 주가 날짜)', '라벨 1', '라벨 2', '라벨 3'],\n",
       "      dtype='object')"
      ]
     },
     "execution_count": 24,
     "metadata": {},
     "output_type": "execute_result"
    }
   ],
   "source": [
    "abnormal.columns"
   ]
  },
  {
   "cell_type": "code",
   "execution_count": 25,
   "id": "3c94be3a",
   "metadata": {},
   "outputs": [
    {
     "name": "stdout",
     "output_type": "stream",
     "text": [
      "차이 = 0 : 행 개수: 1425, range(행 개수 기준)열의 유니크 값: [ 0  1  2  3 -3 -2 -1]\n",
      "차이 = 1 : 행 개수: 49, range(행 개수 기준)열의 유니크 값: [-2 -1 -3  2  3  1]\n",
      "차이 = 2 : 행 개수: 745, range(행 개수 기준)열의 유니크 값: [-3 -2 -1  2  3  1]\n",
      "차이 = 3 : 행 개수: 107, range(행 개수 기준)열의 유니크 값: [ 1  2  3 -3 -2 -1]\n",
      "차이 = 4 : 행 개수: 56, range(행 개수 기준)열의 유니크 값: [-3 -2 -1  2  3  1]\n",
      "차이 = 5 : 행 개수: 17, range(행 개수 기준)열의 유니크 값: [-3 -2 -1  2  3  1]\n",
      "차이 = 6 : 행 개수: 8, range(행 개수 기준)열의 유니크 값: [ 2  3 -3 -2 -1]\n",
      "차이 = 7 : 행 개수: 5, range(행 개수 기준)열의 유니크 값: [-3  3]\n",
      "차이 = 20 : 행 개수: 3, range(행 개수 기준)열의 유니크 값: [-3 -2 -1]\n"
     ]
    }
   ],
   "source": [
    "for val in sorted(abnormal['차이'].unique()):\n",
    "    subset = abnormal[abnormal['차이'] == val]\n",
    "    count = len(subset)\n",
    "    unique_ranges = subset['range(행 개수 기준)'].unique()\n",
    "    print(f\"차이 = {val} : 행 개수: {count}, range(행 개수 기준)열의 유니크 값: {unique_ranges}\")"
   ]
  },
  {
   "cell_type": "code",
   "execution_count": 26,
   "id": "6129da8f",
   "metadata": {},
   "outputs": [
    {
     "data": {
      "text/plain": [
       "345.0"
      ]
     },
     "execution_count": 26,
     "metadata": {},
     "output_type": "execute_result"
    }
   ],
   "source": [
    "len(abnormal)/7 # 0일 포함 7행씩 있는지"
   ]
  },
  {
   "cell_type": "markdown",
   "id": "7fb48960",
   "metadata": {},
   "source": [
    "#### (5) AAR, CAAR 계산\n",
    "\n",
    "- `AAR` (Average Abnormal Return): event_window_day별 비정상 수익률의 평균\n",
    "\n",
    "- `CAAR` (Cumulative AAR):\tAAR의 누적합\n"
   ]
  },
  {
   "cell_type": "code",
   "execution_count": 27,
   "id": "c57f99ad",
   "metadata": {},
   "outputs": [],
   "source": [
    "import numpy as np\n",
    "\n",
    "# AAR\n",
    "aar_df = abnormal.groupby('range(행 개수 기준)')['비정상 수익률'].agg(['mean', 'std', 'count']).reset_index()\n",
    "aar_df = aar_df.rename(columns={'mean': 'AAR', 'std': 'STD', 'count': 'N'})\n",
    "\n",
    "# CAAR\n",
    "aar_df['CAAR'] = aar_df['AAR'].cumsum()"
   ]
  },
  {
   "cell_type": "code",
   "execution_count": 28,
   "id": "89d365ee",
   "metadata": {},
   "outputs": [
    {
     "data": {
      "text/plain": [
       "Index(['날짜', '종가', '시가', '고가', '저가', '거래량', '변동 %', '로그 수익률', '거래량 변화율',\n",
       "       '시장 수익률', '기대 수익률', '비정상 수익률', '실제 range(이 행의 주가 날짜와 사건일간 차이)',\n",
       "       'range(행 개수 기준)', '차이', '소속사', '연예인 이름', '사건 날짜', '사건 내용', '그룹',\n",
       "       '사건 날짜(매핑된 주가 날짜)', '라벨 1', '라벨 2', '라벨 3'],\n",
       "      dtype='object')"
      ]
     },
     "execution_count": 28,
     "metadata": {},
     "output_type": "execute_result"
    }
   ],
   "source": [
    "abnormal.columns"
   ]
  },
  {
   "cell_type": "markdown",
   "id": "e1dbe5a0",
   "metadata": {},
   "source": [
    "#### (6) t검정 진행\n",
    "\n",
    "> 각 AAR 값이 0과 통계적으로 다른지 검정"
   ]
  },
  {
   "cell_type": "markdown",
   "id": "b3d547b3",
   "metadata": {},
   "source": [
    "`차이` 가 0 또는 1인 데이터만 사용"
   ]
  },
  {
   "cell_type": "code",
   "execution_count": 29,
   "id": "a7d525a5",
   "metadata": {},
   "outputs": [],
   "source": [
    "abnormal_10_10 = abnormal[abnormal['차이'].between(0, 1)].copy()"
   ]
  },
  {
   "cell_type": "code",
   "execution_count": 30,
   "id": "c3e79f78",
   "metadata": {},
   "outputs": [
    {
     "data": {
      "text/plain": [
       "2415"
      ]
     },
     "execution_count": 30,
     "metadata": {},
     "output_type": "execute_result"
    }
   ],
   "source": [
    "len(abnormal)"
   ]
  },
  {
   "cell_type": "code",
   "execution_count": 31,
   "id": "879689e0",
   "metadata": {},
   "outputs": [
    {
     "data": {
      "text/plain": [
       "1474"
      ]
     },
     "execution_count": 31,
     "metadata": {},
     "output_type": "execute_result"
    }
   ],
   "source": [
    "len(abnormal_10_10)"
   ]
  },
  {
   "cell_type": "code",
   "execution_count": 32,
   "id": "8e1a6a47",
   "metadata": {},
   "outputs": [
    {
     "name": "stdout",
     "output_type": "stream",
     "text": [
      "-3 번째 날 90\n",
      "-2 번째 날 151\n",
      "-1 번째 날 204\n",
      "0 번째 날 345\n",
      "1 번째 날 286\n",
      "2 번째 날 230\n",
      "3 번째 날 168\n"
     ]
    }
   ],
   "source": [
    "# 결과적으로 필터링 이후 각 range에 남은 행 개수\n",
    "\n",
    "for i in range(-3,4):\n",
    "    print(i,\"번째 날\", len(abnormal_10_10[abnormal_10_10['range(행 개수 기준)']==i]))\n"
   ]
  },
  {
   "cell_type": "markdown",
   "id": "f9d3a0bb",
   "metadata": {},
   "source": [
    "> 전체 표본의 평균 비정상 수익률(AAR)의 결과 값"
   ]
  },
  {
   "cell_type": "markdown",
   "id": "b4bbb3dd",
   "metadata": {},
   "source": [
    "| 열 이름                                      | 의미                            |\n",
    "| ----------------------------------------- | ----------------------------- |\n",
    "| **Event day**                             | 사건일 기준 상대 날짜 (AR(t))          |\n",
    "| **Average Abnormal Return(%)**            | 해당일의 AAR (평균 비정상 수익률), 퍼센트 단위 |\n",
    "| **T-Statistic**                           | AAR의 t-검정 통계량                 |\n",
    "| **P-value**                               | t-검정의 유의확률 (AAR이 0과 유의하게 다른지) |\n",
    "| **Cumulative Average Abnormal Return(%)** | 해당일까지 누적 AAR (CAAR), 퍼센트 단위   |\n",
    "| **% of -Abnormal Returns**                | 해당일의 비정상 수익률이 **음수인 사건 비율**   |\n"
   ]
  },
  {
   "cell_type": "code",
   "execution_count": 36,
   "id": "f49cf2fa",
   "metadata": {},
   "outputs": [
    {
     "data": {
      "text/html": [
       "<div>\n",
       "<style scoped>\n",
       "    .dataframe tbody tr th:only-of-type {\n",
       "        vertical-align: middle;\n",
       "    }\n",
       "\n",
       "    .dataframe tbody tr th {\n",
       "        vertical-align: top;\n",
       "    }\n",
       "\n",
       "    .dataframe thead th {\n",
       "        text-align: right;\n",
       "    }\n",
       "</style>\n",
       "<table border=\"1\" class=\"dataframe\">\n",
       "  <thead>\n",
       "    <tr style=\"text-align: right;\">\n",
       "      <th></th>\n",
       "      <th>Event day</th>\n",
       "      <th>Average Abnormal Return(%)</th>\n",
       "      <th>T-Statistic</th>\n",
       "      <th>P-value</th>\n",
       "      <th>Significant at 5%</th>\n",
       "      <th>Significant at 1%</th>\n",
       "      <th>Cumulative Average Abnormal Return(%)</th>\n",
       "      <th>% of -Abnormal Returns</th>\n",
       "    </tr>\n",
       "  </thead>\n",
       "  <tbody>\n",
       "    <tr>\n",
       "      <th>0</th>\n",
       "      <td>AR(-3)</td>\n",
       "      <td>8.51</td>\n",
       "      <td>2.51745</td>\n",
       "      <td>0.014</td>\n",
       "      <td>True</td>\n",
       "      <td>False</td>\n",
       "      <td>8.51</td>\n",
       "      <td>43.33</td>\n",
       "    </tr>\n",
       "    <tr>\n",
       "      <th>1</th>\n",
       "      <td>AR(-2)</td>\n",
       "      <td>0.96</td>\n",
       "      <td>0.49443</td>\n",
       "      <td>0.622</td>\n",
       "      <td>False</td>\n",
       "      <td>False</td>\n",
       "      <td>9.47</td>\n",
       "      <td>54.30</td>\n",
       "    </tr>\n",
       "    <tr>\n",
       "      <th>2</th>\n",
       "      <td>AR(-1)</td>\n",
       "      <td>-0.04</td>\n",
       "      <td>-0.03075</td>\n",
       "      <td>0.976</td>\n",
       "      <td>False</td>\n",
       "      <td>False</td>\n",
       "      <td>9.43</td>\n",
       "      <td>55.39</td>\n",
       "    </tr>\n",
       "    <tr>\n",
       "      <th>3</th>\n",
       "      <td>AR(0)</td>\n",
       "      <td>-1.35</td>\n",
       "      <td>-1.86057</td>\n",
       "      <td>0.064</td>\n",
       "      <td>False</td>\n",
       "      <td>False</td>\n",
       "      <td>8.08</td>\n",
       "      <td>56.23</td>\n",
       "    </tr>\n",
       "    <tr>\n",
       "      <th>4</th>\n",
       "      <td>AR(1)</td>\n",
       "      <td>-2.58</td>\n",
       "      <td>-4.12106</td>\n",
       "      <td>0.000</td>\n",
       "      <td>True</td>\n",
       "      <td>True</td>\n",
       "      <td>5.50</td>\n",
       "      <td>62.59</td>\n",
       "    </tr>\n",
       "    <tr>\n",
       "      <th>5</th>\n",
       "      <td>AR(2)</td>\n",
       "      <td>-2.42</td>\n",
       "      <td>-4.00733</td>\n",
       "      <td>0.000</td>\n",
       "      <td>True</td>\n",
       "      <td>True</td>\n",
       "      <td>3.08</td>\n",
       "      <td>56.96</td>\n",
       "    </tr>\n",
       "    <tr>\n",
       "      <th>6</th>\n",
       "      <td>AR(3)</td>\n",
       "      <td>-1.94</td>\n",
       "      <td>-2.95249</td>\n",
       "      <td>0.004</td>\n",
       "      <td>True</td>\n",
       "      <td>True</td>\n",
       "      <td>1.14</td>\n",
       "      <td>61.31</td>\n",
       "    </tr>\n",
       "  </tbody>\n",
       "</table>\n",
       "</div>"
      ],
      "text/plain": [
       "  Event day  Average Abnormal Return(%)  T-Statistic  P-value  \\\n",
       "0    AR(-3)                        8.51      2.51745    0.014   \n",
       "1    AR(-2)                        0.96      0.49443    0.622   \n",
       "2    AR(-1)                       -0.04     -0.03075    0.976   \n",
       "3     AR(0)                       -1.35     -1.86057    0.064   \n",
       "4     AR(1)                       -2.58     -4.12106    0.000   \n",
       "5     AR(2)                       -2.42     -4.00733    0.000   \n",
       "6     AR(3)                       -1.94     -2.95249    0.004   \n",
       "\n",
       "   Significant at 5%  Significant at 1%  \\\n",
       "0               True              False   \n",
       "1              False              False   \n",
       "2              False              False   \n",
       "3              False              False   \n",
       "4               True               True   \n",
       "5               True               True   \n",
       "6               True               True   \n",
       "\n",
       "   Cumulative Average Abnormal Return(%)  % of -Abnormal Returns  \n",
       "0                                   8.51                   43.33  \n",
       "1                                   9.47                   54.30  \n",
       "2                                   9.43                   55.39  \n",
       "3                                   8.08                   56.23  \n",
       "4                                   5.50                   62.59  \n",
       "5                                   3.08                   56.96  \n",
       "6                                   1.14                   61.31  "
      ]
     },
     "execution_count": 36,
     "metadata": {},
     "output_type": "execute_result"
    }
   ],
   "source": [
    "import pandas as pd\n",
    "import numpy as np\n",
    "from scipy.stats import ttest_1samp\n",
    "\n",
    "summary_rows = []\n",
    "\n",
    "for day in range(-3, 6):\n",
    "    day_df = abnormal_10_10[abnormal_10_10['range(행 개수 기준)'] == day]\n",
    "    ar_values = day_df['비정상 수익률']\n",
    "\n",
    "    if len(ar_values) == 0:\n",
    "        continue\n",
    "\n",
    "    aar = ar_values.mean()\n",
    "    std = ar_values.std(ddof=1)\n",
    "    n = len(ar_values)\n",
    "\n",
    "    # t검정\n",
    "    t_stat, p_val = ttest_1samp(ar_values, 0)\n",
    "\n",
    "    # 음의 수익률 비율\n",
    "    neg_ratio = (ar_values < 0).mean() * 100\n",
    "\n",
    "    summary_rows.append({\n",
    "        'Event day': f\"AR({day})\",\n",
    "        'Average Abnormal Return(%)': round(aar * 100, 2),\n",
    "        'T-Statistic': round(t_stat, 5),\n",
    "        'P-value': round(p_val, 3),\n",
    "        'Significant at 5%': p_val < 0.05,\n",
    "        'Significant at 1%': p_val < 0.01,\n",
    "        '% of -Abnormal Returns': round(neg_ratio, 2)\n",
    "    })\n",
    "\n",
    "# DataFrame 생성\n",
    "summary_df = pd.DataFrame(summary_rows)\n",
    "\n",
    "# CAAR 누적합 추가\n",
    "summary_df['Cumulative Average Abnormal Return(%)'] = summary_df['Average Abnormal Return(%)'].cumsum()\n",
    "\n",
    "# 열 순서 정리\n",
    "summary_df = summary_df[[\n",
    "    'Event day', 'Average Abnormal Return(%)', 'T-Statistic', 'P-value',\n",
    "    'Significant at 5%', 'Significant at 1%',\n",
    "    'Cumulative Average Abnormal Return(%)', \n",
    "    '% of -Abnormal Returns' # 수익률이 음수인 비율\n",
    "]]\n",
    "\n",
    "# 결과 확인\n",
    "summary_df"
   ]
  },
  {
   "cell_type": "code",
   "execution_count": 40,
   "id": "8268a59c",
   "metadata": {},
   "outputs": [
    {
     "data": {
      "image/png": "[encoded data removed]",
      "text/plain": [
       "<Figure size 1000x600 with 1 Axes>"
      ]
     },
     "metadata": {},
     "output_type": "display_data"
    }
   ],
   "source": [
    "import matplotlib.pyplot as plt\n",
    "import platform\n",
    "\n",
    "# 한글 폰트 설정 (OS에 따라 다르게)\n",
    "if platform.system() == 'Windows':\n",
    "    plt.rc('font', family='Malgun Gothic')  # Windows: 맑은 고딕\n",
    "    \n",
    "# 1. 유의한 날짜 구하기\n",
    "significant_days = summary_df[summary_df['P-value'] < 0.05]['Event day']\n",
    "significant_days = significant_days.str.extract(r'AR\\((-?\\d+)\\)')[0].astype(int).tolist()\n",
    "\n",
    "# 2. 해당 날짜 데이터 필터링\n",
    "sig_df = abnormal_10_10[abnormal_10_10['range(행 개수 기준)'].isin(significant_days)]\n",
    "\n",
    "# 3. 라벨 1~3을 하나로 합치기\n",
    "label_cols = ['라벨 1', '라벨 2', '라벨 3']\n",
    "all_labels = pd.concat([sig_df[col] for col in label_cols], ignore_index=True)\n",
    "\n",
    "# 4. 결측 제거하고 빈도 집계\n",
    "label_counts = all_labels.dropna().value_counts()\n",
    "\n",
    "# 5. barplot 시각화\n",
    "plt.figure(figsize=(10, 6))\n",
    "label_counts.plot(kind='bar')\n",
    "plt.title('유의한 사건 날짜에서 등장한 전체 라벨 빈도 (라벨 1+2+3 합산)')\n",
    "plt.xlabel('사건 유형')\n",
    "plt.ylabel('등장 횟수')\n",
    "plt.xticks(rotation=45, ha='right')\n",
    "plt.grid(axis='y', linestyle='--', alpha=0.7)\n",
    "plt.tight_layout()\n",
    "plt.show()"
   ]
  },
  {
   "cell_type": "code",
   "execution_count": null,
   "id": "dcd462f2",
   "metadata": {},
   "outputs": [],
   "source": [
    "import pandas as pd\n",
    "import matplotlib.pyplot as plt\n",
    "\n",
    "# 예시: summary_dfCAR에 '사건 유형'이라는 컬럼이 있다고 가정\n",
    "event_type_column = ['라벨 1', '라벨 2', '라벨 3']  # <- 실제 컬럼명으로 바꿔주세요\n",
    "\n",
    "# 유의한 사건 필터링 (5% 수준)\n",
    "significant_events = df[df['P-value'] < 0.05]\n",
    "\n",
    "# 사건 유형별 개수 집계\n",
    "event_counts = significant_events[event_type_column].value_counts()\n",
    "\n",
    "# 시각화\n",
    "plt.figure(figsize=(10, 6))\n",
    "event_counts.plot(kind='bar')\n",
    "plt.title('유의한 사건들의 사건 유형별 개수 (p < 0.05)')\n",
    "plt.xlabel('사건 유형')\n",
    "plt.ylabel('건수')\n",
    "plt.xticks(rotation=45, ha='right')\n",
    "plt.tight_layout()\n",
    "plt.grid(axis='y', linestyle='--', alpha=0.7)\n",
    "plt.show()\n"
   ]
  },
  {
   "cell_type": "markdown",
   "id": "d10d32a9",
   "metadata": {},
   "source": [
    "> 구간별 CAAR t검정"
   ]
  },
  {
   "cell_type": "markdown",
   "id": "b9f0c725",
   "metadata": {},
   "source": [
    "| 항목                | 설명                                  |\n",
    "| ----------------- | ----------------------------------- |\n",
    "| **구간 (interval)** | `range(실제 행 기준)` 열 기준 |\n",
    "| **CAARs(%)**      | 해당 구간에서 사건별 CAR 평균 (누적 비정상 수익률의 평균) |\n",
    "| **T-statistic**   | 사건별 CAR 리스트에 대한 단일표본 t검정 결과         |\n",
    "| **P-value**       | 해당 t값의 유의확률 (two-sided)             |\n"
   ]
  },
  {
   "cell_type": "code",
   "execution_count": 293,
   "id": "a1517354",
   "metadata": {},
   "outputs": [],
   "source": [
    "from scipy.stats import ttest_1samp\n",
    "intervals = [\n",
    "            (-1, 0), \n",
    "            (-1,+1),\n",
    "            (0,+1),\n",
    "            (+1,+2),\n",
    "            (+1,+3),\n",
    "            ]"
   ]
  },
  {
   "cell_type": "code",
   "execution_count": 294,
   "id": "e57dd48f",
   "metadata": {},
   "outputs": [],
   "source": [
    "caar_results = []\n",
    "\n",
    "for start, end in intervals:\n",
    "    interval_df = abnormal_10_10[abnormal_10_10['range(행 개수 기준)'].between(start, end)]\n",
    "\n",
    "    car_by_event = (\n",
    "        interval_df.groupby(['소속사', '연예인 이름', '사건 날짜'])['비정상 수익률']\n",
    "        .sum()\n",
    "        .reset_index()\n",
    "        .rename(columns={'비정상 수익률': 'CAR'})\n",
    "    )\n",
    "\n",
    "    car_values = car_by_event['CAR'].values\n",
    "\n",
    "    # CAAR 및 t-검정\n",
    "    caar = car_values.mean()\n",
    "    std = car_values.std(ddof=1)\n",
    "    n = len(car_values)\n",
    "    t_stat, p_val = ttest_1samp(car_values, 0)\n",
    "\n",
    "    caar_results.append({\n",
    "        '구간': f\"[{start}, {end}]\",\n",
    "        'CAAR': caar,\n",
    "        '표준편차': std,\n",
    "        'N': n,\n",
    "        't값': t_stat,\n",
    "        'p값': p_val,\n",
    "        '유의(5%)': abs(t_stat) > 1.96,\n",
    "        '유의(1%)': abs(t_stat) > 2.58\n",
    "    })\n",
    "\n",
    "# 결과 DataFrame\n",
    "caar_df = pd.DataFrame(caar_results)"
   ]
  },
  {
   "cell_type": "code",
   "execution_count": 295,
   "id": "6b22e03a",
   "metadata": {},
   "outputs": [
    {
     "data": {
      "text/html": [
       "<div>\n",
       "<style scoped>\n",
       "    .dataframe tbody tr th:only-of-type {\n",
       "        vertical-align: middle;\n",
       "    }\n",
       "\n",
       "    .dataframe tbody tr th {\n",
       "        vertical-align: top;\n",
       "    }\n",
       "\n",
       "    .dataframe thead th {\n",
       "        text-align: right;\n",
       "    }\n",
       "</style>\n",
       "<table border=\"1\" class=\"dataframe\">\n",
       "  <thead>\n",
       "    <tr style=\"text-align: right;\">\n",
       "      <th></th>\n",
       "      <th>구간</th>\n",
       "      <th>CAAR</th>\n",
       "      <th>표준편차</th>\n",
       "      <th>N</th>\n",
       "      <th>t값</th>\n",
       "      <th>p값</th>\n",
       "      <th>유의(5%)</th>\n",
       "      <th>유의(1%)</th>\n",
       "    </tr>\n",
       "  </thead>\n",
       "  <tbody>\n",
       "    <tr>\n",
       "      <th>0</th>\n",
       "      <td>[-1, 0]</td>\n",
       "      <td>-0.014720</td>\n",
       "      <td>0.200623</td>\n",
       "      <td>322</td>\n",
       "      <td>-1.316628</td>\n",
       "      <td>0.188903</td>\n",
       "      <td>False</td>\n",
       "      <td>False</td>\n",
       "    </tr>\n",
       "    <tr>\n",
       "      <th>1</th>\n",
       "      <td>[-1, 1]</td>\n",
       "      <td>-0.037598</td>\n",
       "      <td>0.245078</td>\n",
       "      <td>322</td>\n",
       "      <td>-2.752883</td>\n",
       "      <td>0.006243</td>\n",
       "      <td>True</td>\n",
       "      <td>True</td>\n",
       "    </tr>\n",
       "    <tr>\n",
       "      <th>2</th>\n",
       "      <td>[0, 1]</td>\n",
       "      <td>-0.037339</td>\n",
       "      <td>0.210148</td>\n",
       "      <td>322</td>\n",
       "      <td>-3.188354</td>\n",
       "      <td>0.001572</td>\n",
       "      <td>True</td>\n",
       "      <td>True</td>\n",
       "    </tr>\n",
       "    <tr>\n",
       "      <th>3</th>\n",
       "      <td>[1, 2]</td>\n",
       "      <td>-0.049172</td>\n",
       "      <td>0.205883</td>\n",
       "      <td>263</td>\n",
       "      <td>-3.873216</td>\n",
       "      <td>0.000136</td>\n",
       "      <td>True</td>\n",
       "      <td>True</td>\n",
       "    </tr>\n",
       "    <tr>\n",
       "      <th>4</th>\n",
       "      <td>[1, 3]</td>\n",
       "      <td>-0.061573</td>\n",
       "      <td>0.264275</td>\n",
       "      <td>263</td>\n",
       "      <td>-3.778453</td>\n",
       "      <td>0.000195</td>\n",
       "      <td>True</td>\n",
       "      <td>True</td>\n",
       "    </tr>\n",
       "  </tbody>\n",
       "</table>\n",
       "</div>"
      ],
      "text/plain": [
       "        구간      CAAR      표준편차    N        t값        p값  유의(5%)  유의(1%)\n",
       "0  [-1, 0] -0.014720  0.200623  322 -1.316628  0.188903   False   False\n",
       "1  [-1, 1] -0.037598  0.245078  322 -2.752883  0.006243    True    True\n",
       "2   [0, 1] -0.037339  0.210148  322 -3.188354  0.001572    True    True\n",
       "3   [1, 2] -0.049172  0.205883  263 -3.873216  0.000136    True    True\n",
       "4   [1, 3] -0.061573  0.264275  263 -3.778453  0.000195    True    True"
      ]
     },
     "execution_count": 295,
     "metadata": {},
     "output_type": "execute_result"
    }
   ],
   "source": [
    "caar_df"
   ]
  },
  {
   "cell_type": "markdown",
   "id": "2123e68a",
   "metadata": {},
   "source": [
    "### 3. 데이터 정리"
   ]
  },
  {
   "cell_type": "code",
   "execution_count": 308,
   "id": "cc7d0ea7",
   "metadata": {},
   "outputs": [
    {
     "name": "stdout",
     "output_type": "stream",
     "text": [
      "    소속사 연예인 이름      사건 날짜       AR1       AR2     그룹  \\\n",
      "0  HYBE     지민 2022-04-25  0.027321  0.018462  방탄소년단   \n",
      "1  HYBE     정국 2024-01-06 -0.017447  0.018590  방탄소년단   \n",
      "2  HYBE     제이 2023-01-10 -0.001733 -0.012679   엔하이픈   \n",
      "3  HYBE    김채원 2023-09-05 -0.003702 -0.011398   르세라핌   \n",
      "4  HYBE    김채원 2022-10-19 -0.025109  0.010665   르세라핌   \n",
      "\n",
      "                                               사건 내용   라벨 1     라벨 2     라벨 3  \\\n",
      "0  2022년 4월 25일, 언론사 비즈한국의 취재결과 건강보험료 체납으로 보유하고 있...  세금 문제     팬 대응      NaN   \n",
      "1  2024년 1월 6일, 정국이 입대 후 신병 교육을 받는 동안 발생했다. 탈취범은 ...  범죄 혐의       기타      NaN   \n",
      "2  2023년 1월 10일, 멤버 성훈과 함께 진행한 위버스 라이브 도중 요즘 한국사 ...  발언 문제  사회적 감수성  무의식적 태도   \n",
      "3  2023년 9월 5일 방송통신심의위원회 방송소위원회에서 “경찰에서 무혐의 결론이 났...    무혐의      NaN      NaN   \n",
      "4  2022년 10월 19일 김채원 과 허윤진 이 차량 이동 중 접촉 사고 를 당했다....     기타      NaN      NaN   \n",
      "\n",
      "  사건 날짜(매핑된 주가 날짜)  CAR(1,2)  \n",
      "0       2022-04-25  0.045783  \n",
      "1       2024-01-08  0.001144  \n",
      "2       2023-01-10 -0.014412  \n",
      "3       2023-09-05 -0.015100  \n",
      "4       2022-10-19 -0.014444  \n"
     ]
    }
   ],
   "source": [
    "# AR1, AR2 추출\n",
    "ar1_df = abnormal_10_10[abnormal_10_10['range(행 개수 기준)'] == 1][\n",
    "    ['소속사', '연예인 이름', '사건 날짜', '비정상 수익률']\n",
    "].rename(columns={'비정상 수익률': 'AR1'})\n",
    "\n",
    "ar2_df = abnormal_10_10[abnormal_10_10['range(행 개수 기준)'] == 2][\n",
    "    ['소속사', '연예인 이름', '사건 날짜', '비정상 수익률']\n",
    "].rename(columns={'비정상 수익률': 'AR2'})\n",
    "\n",
    "# AR1, AR2 병합\n",
    "merged = pd.merge(ar1_df, ar2_df, on=['소속사', '연예인 이름', '사건 날짜'], how='inner')\n",
    "\n",
    "# 메타 정보 준비 (매핑된 날짜 포함)\n",
    "meta_info = abnormal_10_10[\n",
    "    ['소속사', '연예인 이름', '사건 날짜', '그룹', '사건 내용', '라벨 1', '라벨 2', '라벨 3', '사건 날짜(매핑된 주가 날짜)']\n",
    "].drop_duplicates()\n",
    "\n",
    "# 메타 정보 병합\n",
    "merged = pd.merge(merged, meta_info, on=['소속사', '연예인 이름', '사건 날짜'], how='left')\n",
    "\n",
    "# CAR 계산\n",
    "merged['CAR(1,2)'] = merged['AR1'] + merged['AR2']\n",
    "\n",
    "# 결과 확인\n",
    "print(merged.head())"
   ]
  },
  {
   "cell_type": "code",
   "execution_count": 309,
   "id": "6e648cfb",
   "metadata": {},
   "outputs": [
    {
     "data": {
      "text/plain": [
       "Index(['소속사', '연예인 이름', '사건 날짜', 'AR1', 'AR2', '그룹', '사건 내용', '라벨 1', '라벨 2',\n",
       "       '라벨 3', '사건 날짜(매핑된 주가 날짜)', 'CAR(1,2)'],\n",
       "      dtype='object')"
      ]
     },
     "execution_count": 309,
     "metadata": {},
     "output_type": "execute_result"
    }
   ],
   "source": [
    "merged.columns"
   ]
  },
  {
   "cell_type": "code",
   "execution_count": 310,
   "id": "d874191b",
   "metadata": {},
   "outputs": [
    {
     "data": {
      "text/plain": [
       "326"
      ]
     },
     "execution_count": 310,
     "metadata": {},
     "output_type": "execute_result"
    }
   ],
   "source": [
    "len(merged)"
   ]
  },
  {
   "cell_type": "code",
   "execution_count": 311,
   "id": "4889d7fd",
   "metadata": {},
   "outputs": [],
   "source": [
    "merged.to_csv(\"AR_CAR+라벨.csv\", index=False, encoding='utf-8-sig')"
   ]
  },
  {
   "cell_type": "code",
   "execution_count": null,
   "id": "066bcdbb",
   "metadata": {},
   "outputs": [],
   "source": []
  }
 ],
 "metadata": {
  "kernelspec": {
   "display_name": "Python 3",
   "language": "python",
   "name": "python3"
  },
  "language_info": {
   "codemirror_mode": {
    "name": "ipython",
    "version": 3
   },
   "file_extension": ".py",
   "mimetype": "text/x-python",
   "name": "python",
   "nbconvert_exporter": "python",
   "pygments_lexer": "ipython3",
   "version": "3.12.2"
  }
 },
 "nbformat": 4,
 "nbformat_minor": 5
}
