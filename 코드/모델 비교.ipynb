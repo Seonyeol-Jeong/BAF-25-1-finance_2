{
 "cells": [
  {
   "cell_type": "markdown",
   "id": "f3538e1a",
   "metadata": {},
   "source": [
    "### 데이터 처리\n",
    "원핫인코딩"
   ]
  },
  {
   "cell_type": "code",
   "execution_count": null,
   "id": "0f25093f",
   "metadata": {},
   "outputs": [
    {
     "name": "stdout",
     "output_type": "stream",
     "text": [
      "✅ 저장 완료: df_라벨원핫포함_최종버전.csv\n"
     ]
    }
   ],
   "source": [
    "import pandas as pd\n",
    "\n",
    "# 기존 데이터 로드\n",
    "df = pd.read_csv(\"./전처리/AR_CAR+라벨+시가총액+관심도+상승여부.csv\")\n",
    "\n",
    "# 라벨 1~3에서 모든 고유 라벨 항목 추출\n",
    "unique_label_1 = df['라벨 1'].dropna().unique().tolist()\n",
    "unique_label_2 = df['라벨 2'].dropna().unique().tolist()\n",
    "unique_label_3 = df['라벨 3'].dropna().unique().tolist()\n",
    "\n",
    "# 전체 유니크 라벨 목록 정리\n",
    "all_labels = list(set(unique_label_1 + unique_label_2 + unique_label_3))\n",
    "\n",
    "# 각 라벨에 대해 1/0 인코딩 열 생성\n",
    "for label in all_labels:\n",
    "    df[label] = df[['라벨 1', '라벨 2', '라벨 3']].apply(lambda row: int(label in row.values), axis=1)\n",
    "\n",
    "# 저장할 파일 이름\n",
    "output_filename = \"df_라벨원핫포함_최종버전.csv\"\n",
    "\n",
    "# CSV로 저장 (인코딩은 Excel 호환 위해 cp949 또는 utf-8-sig 권장)\n",
    "df.to_csv(output_filename, index=False, encoding='utf-8-sig')\n",
    "\n",
    "print(f\"✅ 저장 완료: {output_filename}\")\n"
   ]
  },
  {
   "cell_type": "code",
   "execution_count": 5,
   "id": "e239c7e6",
   "metadata": {},
   "outputs": [
    {
     "data": {
      "text/plain": [
       "343"
      ]
     },
     "execution_count": 5,
     "metadata": {},
     "output_type": "execute_result"
    }
   ],
   "source": [
    "len(df)"
   ]
  },
  {
   "cell_type": "code",
   "execution_count": 4,
   "id": "f5755f4c",
   "metadata": {},
   "outputs": [
    {
     "data": {
      "text/plain": [
       "소속사                  0\n",
       "그룹                  98\n",
       "연예인 이름               0\n",
       "사건 내용                0\n",
       "사건 날짜                0\n",
       "매핑된 주가 날짜            0\n",
       "CAR                  0\n",
       "t통계량                 0\n",
       "p값                   0\n",
       "시가총액                 0\n",
       "관심도                  0\n",
       "stock_trend_n10      0\n",
       "전일 대비 거래량 변화율        0\n",
       "clean_text           0\n",
       "라벨 1                88\n",
       "라벨 2               203\n",
       "라벨 3               294\n",
       "사생활                  0\n",
       "종교/이념                0\n",
       "병역 문제                0\n",
       "무혐의                  0\n",
       "무의식적 태도              0\n",
       "범죄 혐의                0\n",
       "팬 대응                 0\n",
       "사회적 감수성              0\n",
       "기타                   0\n",
       "발언 문제                0\n",
       "세금 문제                0\n",
       "혐의정보 유포              0\n",
       "성 관련                 0\n",
       "dtype: int64"
      ]
     },
     "execution_count": 4,
     "metadata": {},
     "output_type": "execute_result"
    }
   ],
   "source": [
    "df.isna().sum()"
   ]
  },
  {
   "cell_type": "markdown",
   "id": "5ca9cb9e",
   "metadata": {},
   "source": [
    "모든 라벨 열에 대해 nan값인 행 드랍"
   ]
  },
  {
   "cell_type": "code",
   "execution_count": 8,
   "id": "0a77881c",
   "metadata": {},
   "outputs": [
    {
     "name": "stdout",
     "output_type": "stream",
     "text": [
      "✅ 저장 완료: df_라벨all결측제거.csv\n"
     ]
    }
   ],
   "source": [
    "import pandas as pd\n",
    "\n",
    "# 데이터 불러오기\n",
    "df = pd.read_csv(\"df_사건별_정당성_검정결과+상승여부+거래량변화율+라벨링.csv\")\n",
    "\n",
    "# 라벨 열 목록\n",
    "label_columns = ['라벨 1', '라벨 2', '라벨 3']\n",
    "\n",
    "# 라벨 열이 모두 NaN인 행만 제거\n",
    "df_cleaned = df[~df[label_columns].isnull().all(axis=1)]\n",
    "\n",
    "# 결과 저장\n",
    "df_cleaned.to_csv(\"df_라벨all결측제거.csv\", index=False, encoding=\"utf-8-sig\")\n",
    "print(\"✅ 저장 완료: df_라벨all결측제거.csv\")\n"
   ]
  },
  {
   "cell_type": "code",
   "execution_count": 9,
   "id": "da13da7a",
   "metadata": {},
   "outputs": [
    {
     "data": {
      "text/plain": [
       "255"
      ]
     },
     "execution_count": 9,
     "metadata": {},
     "output_type": "execute_result"
    }
   ],
   "source": [
    "len(df_cleaned)"
   ]
  },
  {
   "cell_type": "code",
   "execution_count": 10,
   "id": "6de8abf1",
   "metadata": {},
   "outputs": [
    {
     "data": {
      "text/plain": [
       "88"
      ]
     },
     "execution_count": 10,
     "metadata": {},
     "output_type": "execute_result"
    }
   ],
   "source": [
    "len(df) - len(df_cleaned)"
   ]
  },
  {
   "cell_type": "code",
   "execution_count": 13,
   "id": "5c7d8e02",
   "metadata": {},
   "outputs": [
    {
     "name": "stdout",
     "output_type": "stream",
     "text": [
      "✅ 저장 완료: df_라벨all결측제거_원핫인코딩.csv\n"
     ]
    }
   ],
   "source": [
    "import pandas as pd\n",
    "\n",
    "# 기존 데이터 로드\n",
    "df = pd.read_csv(\"df_라벨all결측제거.csv\")\n",
    "\n",
    "# 라벨 1~3에서 모든 고유 라벨 항목 추출\n",
    "unique_label_1 = df['라벨 1'].dropna().unique().tolist()\n",
    "unique_label_2 = df['라벨 2'].dropna().unique().tolist()\n",
    "unique_label_3 = df['라벨 3'].dropna().unique().tolist()\n",
    "\n",
    "# 전체 유니크 라벨 목록 정리\n",
    "all_labels = list(set(unique_label_1 + unique_label_2 + unique_label_3))\n",
    "\n",
    "# 각 라벨에 대해 1/0 인코딩 열 생성\n",
    "for label in all_labels:\n",
    "    df[label] = df[['라벨 1', '라벨 2', '라벨 3']].apply(lambda row: int(label in row.values), axis=1)\n",
    "\n",
    "# 저장할 파일 이름\n",
    "output_filename = \"df_라벨all결측제거_원핫인코딩.csv\"\n",
    "\n",
    "# CSV로 저장 (인코딩은 Excel 호환 위해 cp949 또는 utf-8-sig 권장)\n",
    "df.to_csv(output_filename, index=False, encoding='utf-8-sig')\n",
    "\n",
    "print(f\"✅ 저장 완료: {output_filename}\")\n"
   ]
  },
  {
   "cell_type": "code",
   "execution_count": 14,
   "id": "ea37bf3a",
   "metadata": {},
   "outputs": [
    {
     "data": {
      "text/plain": [
       "소속사                  0\n",
       "그룹                  64\n",
       "연예인 이름               0\n",
       "사건 내용                0\n",
       "사건 날짜                0\n",
       "매핑된 주가 날짜            0\n",
       "CAR                  0\n",
       "t통계량                 0\n",
       "p값                   0\n",
       "시가총액                 0\n",
       "관심도                  0\n",
       "stock_trend_n10      0\n",
       "전일 대비 거래량 변화율        0\n",
       "clean_text           0\n",
       "라벨 1                 0\n",
       "라벨 2               115\n",
       "라벨 3               206\n",
       "사생활                  0\n",
       "종교/이념                0\n",
       "병역 문제                0\n",
       "무혐의                  0\n",
       "무의식적 태도              0\n",
       "범죄 혐의                0\n",
       "팬 대응                 0\n",
       "사회적 감수성              0\n",
       "기타                   0\n",
       "발언 문제                0\n",
       "세금 문제                0\n",
       "혐의정보 유포              0\n",
       "성 관련                 0\n",
       "dtype: int64"
      ]
     },
     "execution_count": 14,
     "metadata": {},
     "output_type": "execute_result"
    }
   ],
   "source": [
    "df.isna().sum()"
   ]
  },
  {
   "cell_type": "code",
   "execution_count": 24,
   "id": "a7d992cc",
   "metadata": {},
   "outputs": [
    {
     "data": {
      "text/plain": [
       "255"
      ]
     },
     "execution_count": 24,
     "metadata": {},
     "output_type": "execute_result"
    }
   ],
   "source": [
    "len(df)"
   ]
  },
  {
   "cell_type": "code",
   "execution_count": null,
   "id": "665cdcbd",
   "metadata": {},
   "outputs": [],
   "source": [
    "### ar window로 거른 데이터터"
   ]
  },
  {
   "cell_type": "code",
   "execution_count": 22,
   "id": "ee7c7b46",
   "metadata": {},
   "outputs": [
    {
     "name": "stdout",
     "output_type": "stream",
     "text": [
      "✅ 병합 완료: '지은데이터.csv'로 저장됨\n"
     ]
    }
   ],
   "source": [
    "import pandas as pd\n",
    "\n",
    "# 1. 파일 경로 설정 (필요시 직접 경로 지정)\n",
    "label_file = \"df_라벨all결측제거_원핫인코딩.csv\"\n",
    "event_file = \"C:/Users/chica/OneDrive/바탕 화면/BAF-25-1-finance_2/데이터/이벤트 스터디 결과/사건별_AR1_AR2_CAR12.csv\"\n",
    "\n",
    "# 2. 데이터 불러오기\n",
    "df_label = pd.read_csv(label_file)\n",
    "df_event = pd.read_csv(event_file)\n",
    "\n",
    "# 3. 사건 내용 기준 공통된 행만 필터링\n",
    "common_keys = set(df_label['사건 내용']).intersection(set(df_event['사건 내용']))\n",
    "df_label_filtered = df_label[df_label['사건 내용'].isin(common_keys)]\n",
    "df_event_filtered = df_event[df_event['사건 내용'].isin(common_keys)]\n",
    "\n",
    "# 4. 병합에 필요한 열만 선택\n",
    "label_columns = [\n",
    "    '사생활', '종교/이념', '병역 문제', '무혐의', '무의식적 태도', '범죄 혐의',\n",
    "    '팬 대응', '사회적 감수성', '기타', '발언 문제', '세금 문제', '혐의정보 유포', '성 관련',\n",
    "    '시가총액', '관심도', 'stock_trend_n10', '전일 대비 거래량 변화율'\n",
    "]\n",
    "df_label_subset = df_label_filtered[['사건 내용'] + label_columns]\n",
    "\n",
    "# 5. 병합 수행\n",
    "df_merged = pd.merge(df_event_filtered, df_label_subset, on='사건 내용', how='inner')\n",
    "\n",
    "# 6. 결과 저장\n",
    "output_file = \"지은데이터.csv\"\n",
    "df_merged.to_csv(output_file, index=False)\n",
    "print(f\"✅ 병합 완료: '{output_file}'로 저장됨\")"
   ]
  },
  {
   "cell_type": "code",
   "execution_count": 23,
   "id": "6957175a",
   "metadata": {},
   "outputs": [
    {
     "data": {
      "text/plain": [
       "226"
      ]
     },
     "execution_count": 23,
     "metadata": {},
     "output_type": "execute_result"
    }
   ],
   "source": [
    "len(df_merged)"
   ]
  },
  {
   "cell_type": "markdown",
   "id": "1af06c98",
   "metadata": {},
   "source": [
    "### 1. Lasso"
   ]
  },
  {
   "cell_type": "code",
   "execution_count": 27,
   "id": "1bdb099e",
   "metadata": {},
   "outputs": [
    {
     "name": "stdout",
     "output_type": "stream",
     "text": [
      "📊 Lasso Regression Evaluation\n",
      " - RMSE: 0.1737\n",
      " - MAE : 0.0864\n",
      " - R^2 : -0.0005\n",
      " - 최적 Alpha: 0.02621\n",
      "\n",
      "🔍 주요 변수 계수:\n",
      "           Feature  Coefficient\n",
      "0             시가총액          0.0\n",
      "1              관심도         -0.0\n",
      "2  stock_trend_n10          0.0\n",
      "3    전일 대비 거래량 변화율          0.0\n",
      "4               기타          0.0\n",
      "5            범죄 혐의         -0.0\n",
      "6              무혐의         -0.0\n",
      "7             팬 대응          0.0\n",
      "8              사생활         -0.0\n",
      "9          혐의정보 유포          0.0\n"
     ]
    }
   ],
   "source": [
    "from sklearn.linear_model import LassoCV\n",
    "from sklearn.model_selection import train_test_split\n",
    "from sklearn.preprocessing import StandardScaler\n",
    "from sklearn.metrics import mean_squared_error, mean_absolute_error, r2_score\n",
    "import pandas as pd\n",
    "import numpy as np\n",
    "\n",
    "# 저장된 데이터 불러오기\n",
    "df = pd.read_csv(\"지은데이터.csv\")\n",
    "\n",
    "# 사용 변수 설정\n",
    "basic_features = ['시가총액', '관심도', 'stock_trend_n10', '전일 대비 거래량 변화율']\n",
    "label_features = [\n",
    "    '기타', '범죄 혐의', '무혐의', '팬 대응', '사생활', '혐의정보 유포',\n",
    "    '성 관련', '사회적 감수성', '발언 문제', '종교/이념', '병역 문제',\n",
    "    '무의식적 태도', '세금 문제'\n",
    "]\n",
    "feature_cols = basic_features + label_features\n",
    "\n",
    "# 결측값 제거\n",
    "df_model = df.dropna(subset=feature_cols + ['CAR(1,2)'])\n",
    "\n",
    "# 입력(X)과 타겟(y) 분리\n",
    "X = df_model[feature_cols]\n",
    "y = df_model['CAR(1,2)']\n",
    "\n",
    "# Train/Test 분할 (80/20)\n",
    "X_train, X_test, y_train, y_test = train_test_split(X, y, test_size=0.2, random_state=42)\n",
    "\n",
    "# 표준화\n",
    "scaler = StandardScaler()\n",
    "X_train_scaled = scaler.fit_transform(X_train)\n",
    "X_test_scaled = scaler.transform(X_test)\n",
    "\n",
    "# Lasso 회귀 학습 (교차검증 포함)\n",
    "lasso_cv = LassoCV(cv=5, random_state=42).fit(X_train_scaled, y_train)\n",
    "\n",
    "# 예측 및 평가\n",
    "y_pred = lasso_cv.predict(X_test_scaled)\n",
    "rmse = np.sqrt(mean_squared_error(y_test, y_pred))\n",
    "mae = mean_absolute_error(y_test, y_pred)\n",
    "r2 = r2_score(y_test, y_pred)\n",
    "\n",
    "# 결과 출력\n",
    "print(\"📊 Lasso Regression Evaluation\")\n",
    "print(f\" - RMSE: {rmse:.4f}\")\n",
    "print(f\" - MAE : {mae:.4f}\")\n",
    "print(f\" - R^2 : {r2:.4f}\")\n",
    "print(f\" - 최적 Alpha: {lasso_cv.alpha_:.5f}\")\n",
    "\n",
    "# 계수 확인\n",
    "coef_df = pd.DataFrame({\n",
    "    \"Feature\": feature_cols,\n",
    "    \"Coefficient\": lasso_cv.coef_\n",
    "}).sort_values(by=\"Coefficient\", key=abs, ascending=False)\n",
    "\n",
    "print(\"\\n🔍 주요 변수 계수:\")\n",
    "print(coef_df.head(10))\n"
   ]
  },
  {
   "cell_type": "markdown",
   "id": "66439ac3",
   "metadata": {},
   "source": [
    "### 2. Ridge"
   ]
  },
  {
   "cell_type": "code",
   "execution_count": 29,
   "id": "4109c51a",
   "metadata": {},
   "outputs": [
    {
     "name": "stdout",
     "output_type": "stream",
     "text": [
      "📊 Ridge Regression Evaluation\n",
      " - RMSE: 0.1445\n",
      " - MAE : 0.0830\n",
      " - R^2 : 0.0243\n",
      " - 최적 Alpha: 351.11917\n"
     ]
    }
   ],
   "source": [
    "import pandas as pd\n",
    "import numpy as np\n",
    "from sklearn.model_selection import train_test_split\n",
    "from sklearn.preprocessing import StandardScaler\n",
    "from sklearn.linear_model import RidgeCV\n",
    "from sklearn.metrics import mean_squared_error, mean_absolute_error, r2_score\n",
    "\n",
    "# 1. 데이터 로딩\n",
    "df = pd.read_csv(\"지은데이터.csv\")\n",
    "\n",
    "# 2. 변수 선택\n",
    "basic_features = ['시가총액', '관심도', 'stock_trend_n10', '전일 대비 거래량 변화율']\n",
    "label_features = [\n",
    "    '기타', '범죄 혐의', '무혐의', '팬 대응', '사생활', '혐의정보 유포',\n",
    "    '성 관련', '사회적 감수성', '발언 문제', '종교/이념', '병역 문제',\n",
    "    '무의식적 태도', '세금 문제'\n",
    "]\n",
    "feature_cols = basic_features + label_features\n",
    "\n",
    "# 결측치 제거\n",
    "df_model = df.dropna(subset=feature_cols + ['CAR(1,2)'])\n",
    "\n",
    "X = df_model[feature_cols]\n",
    "y = df_model['CAR(1,2)']\n",
    "\n",
    "# 3. Train/Test 분할 (6:4 비율)\n",
    "X_train, X_test, y_train, y_test = train_test_split(X, y, test_size=0.4, random_state=42)\n",
    "\n",
    "# 4. 표준화\n",
    "scaler = StandardScaler()\n",
    "X_train_scaled = scaler.fit_transform(X_train)\n",
    "X_test_scaled = scaler.transform(X_test)\n",
    "\n",
    "# 5. Ridge 회귀 모델 학습 (교차검증 포함)\n",
    "alphas = np.logspace(-4, 4, 100)  # 탐색할 alpha 값들\n",
    "ridge_cv = RidgeCV(alphas=alphas, cv=5).fit(X_train_scaled, y_train)\n",
    "\n",
    "# 6. 예측 및 평가\n",
    "y_pred = ridge_cv.predict(X_test_scaled)\n",
    "rmse = np.sqrt(mean_squared_error(y_test, y_pred))\n",
    "mae = mean_absolute_error(y_test, y_pred)\n",
    "r2 = r2_score(y_test, y_pred)\n",
    "\n",
    "print(\"📊 Ridge Regression Evaluation\")\n",
    "print(f\" - RMSE: {rmse:.4f}\")\n",
    "print(f\" - MAE : {mae:.4f}\")\n",
    "print(f\" - R^2 : {r2:.4f}\")\n",
    "print(f\" - 최적 Alpha: {ridge_cv.alpha_:.5f}\")\n",
    "\n",
    "# # 7. 계수 출력 (상위 10개)\n",
    "# coef_df = pd.DataFrame({\n",
    "#     \"Feature\": feature_cols,\n",
    "#     \"Coefficient\": ridge_cv.coef_\n",
    "# }).sort_values(by=\"Coefficient\", key=abs, ascending=False)\n",
    "\n",
    "# print(\"\\n🔍 주요 변수 계수:\")\n",
    "# print(coef_df.head(10))\n"
   ]
  },
  {
   "cell_type": "markdown",
   "id": "40a63e9a",
   "metadata": {},
   "source": [
    "### 3. XGboost"
   ]
  },
  {
   "cell_type": "code",
   "execution_count": 16,
   "id": "bbb1096b",
   "metadata": {},
   "outputs": [
    {
     "name": "stdout",
     "output_type": "stream",
     "text": [
      "Collecting xgboost\n",
      "  Downloading xgboost-3.0.1-py3-none-win_amd64.whl.metadata (2.1 kB)\n",
      "Requirement already satisfied: numpy in c:\\users\\chica\\appdata\\local\\programs\\python\\python312\\lib\\site-packages (from xgboost) (2.0.0)\n",
      "Requirement already satisfied: scipy in c:\\users\\chica\\appdata\\local\\programs\\python\\python312\\lib\\site-packages (from xgboost) (1.14.1)\n",
      "Downloading xgboost-3.0.1-py3-none-win_amd64.whl (150.0 MB)\n",
      "   ---------------------------------------- 0.0/150.0 MB ? eta -:--:--\n",
      "    --------------------------------------- 2.1/150.0 MB 9.8 MB/s eta 0:00:16\n",
      "   - -------------------------------------- 4.5/150.0 MB 10.8 MB/s eta 0:00:14\n",
      "   - -------------------------------------- 7.3/150.0 MB 11.9 MB/s eta 0:00:12\n",
      "   -- ------------------------------------- 7.6/150.0 MB 12.1 MB/s eta 0:00:12\n",
      "   -- ------------------------------------- 8.4/150.0 MB 8.0 MB/s eta 0:00:18\n",
      "   -- ------------------------------------- 11.0/150.0 MB 8.7 MB/s eta 0:00:16\n",
      "   --- ------------------------------------ 13.1/150.0 MB 9.0 MB/s eta 0:00:16\n",
      "   ---- ----------------------------------- 15.5/150.0 MB 9.3 MB/s eta 0:00:15\n",
      "   ---- ----------------------------------- 17.3/150.0 MB 9.5 MB/s eta 0:00:14\n",
      "   ---- ----------------------------------- 17.3/150.0 MB 9.5 MB/s eta 0:00:14\n",
      "   ----- ---------------------------------- 19.4/150.0 MB 8.4 MB/s eta 0:00:16\n",
      "   ----- ---------------------------------- 21.5/150.0 MB 8.7 MB/s eta 0:00:15\n",
      "   ----- ---------------------------------- 22.3/150.0 MB 8.7 MB/s eta 0:00:15\n",
      "   ------ --------------------------------- 23.9/150.0 MB 8.2 MB/s eta 0:00:16\n",
      "   ------- -------------------------------- 26.7/150.0 MB 8.6 MB/s eta 0:00:15\n",
      "   ------- -------------------------------- 27.3/150.0 MB 8.6 MB/s eta 0:00:15\n",
      "   ------- -------------------------------- 28.6/150.0 MB 8.0 MB/s eta 0:00:16\n",
      "   -------- ------------------------------- 31.2/150.0 MB 8.2 MB/s eta 0:00:15\n",
      "   -------- ------------------------------- 32.2/150.0 MB 8.4 MB/s eta 0:00:15\n",
      "   -------- ------------------------------- 32.5/150.0 MB 7.8 MB/s eta 0:00:16\n",
      "   --------- ------------------------------ 34.6/150.0 MB 7.8 MB/s eta 0:00:15\n",
      "   --------- ------------------------------ 36.2/150.0 MB 7.8 MB/s eta 0:00:15\n",
      "   ---------- ----------------------------- 38.3/150.0 MB 7.9 MB/s eta 0:00:15\n",
      "   ---------- ----------------------------- 40.4/150.0 MB 8.0 MB/s eta 0:00:14\n",
      "   ----------- ---------------------------- 41.9/150.0 MB 8.0 MB/s eta 0:00:14\n",
      "   ----------- ---------------------------- 44.3/150.0 MB 8.1 MB/s eta 0:00:14\n",
      "   ------------ --------------------------- 46.4/150.0 MB 8.2 MB/s eta 0:00:13\n",
      "   ------------- -------------------------- 48.8/150.0 MB 8.3 MB/s eta 0:00:13\n",
      "   ------------- -------------------------- 50.6/150.0 MB 8.3 MB/s eta 0:00:12\n",
      "   ------------- -------------------------- 52.4/150.0 MB 8.3 MB/s eta 0:00:12\n",
      "   -------------- ------------------------- 54.5/150.0 MB 8.4 MB/s eta 0:00:12\n",
      "   -------------- ------------------------- 55.8/150.0 MB 8.4 MB/s eta 0:00:12\n",
      "   --------------- ------------------------ 57.7/150.0 MB 8.3 MB/s eta 0:00:12\n",
      "   --------------- ------------------------ 59.2/150.0 MB 8.3 MB/s eta 0:00:11\n",
      "   ---------------- ----------------------- 61.3/150.0 MB 8.4 MB/s eta 0:00:11\n",
      "   ---------------- ----------------------- 63.4/150.0 MB 8.4 MB/s eta 0:00:11\n",
      "   ----------------- ---------------------- 65.3/150.0 MB 8.4 MB/s eta 0:00:11\n",
      "   ----------------- ---------------------- 67.1/150.0 MB 8.4 MB/s eta 0:00:10\n",
      "   ------------------ --------------------- 69.2/150.0 MB 8.5 MB/s eta 0:00:10\n",
      "   ------------------ --------------------- 71.0/150.0 MB 8.5 MB/s eta 0:00:10\n",
      "   ------------------- -------------------- 73.9/150.0 MB 8.6 MB/s eta 0:00:09\n",
      "   ------------------- -------------------- 74.7/150.0 MB 8.6 MB/s eta 0:00:09\n",
      "   -------------------- ------------------- 75.5/150.0 MB 8.4 MB/s eta 0:00:09\n",
      "   -------------------- ------------------- 77.6/150.0 MB 8.4 MB/s eta 0:00:09\n",
      "   --------------------- ------------------ 78.9/150.0 MB 8.4 MB/s eta 0:00:09\n",
      "   --------------------- ------------------ 80.5/150.0 MB 8.3 MB/s eta 0:00:09\n",
      "   --------------------- ------------------ 82.3/150.0 MB 8.3 MB/s eta 0:00:09\n",
      "   ---------------------- ----------------- 84.4/150.0 MB 8.4 MB/s eta 0:00:08\n",
      "   ----------------------- ---------------- 86.2/150.0 MB 8.4 MB/s eta 0:00:08\n",
      "   ----------------------- ---------------- 88.1/150.0 MB 8.4 MB/s eta 0:00:08\n",
      "   ------------------------ --------------- 90.2/150.0 MB 8.4 MB/s eta 0:00:08\n",
      "   ------------------------ --------------- 92.0/150.0 MB 8.4 MB/s eta 0:00:07\n",
      "   ------------------------- -------------- 94.1/150.0 MB 8.5 MB/s eta 0:00:07\n",
      "   ------------------------- -------------- 96.5/150.0 MB 8.5 MB/s eta 0:00:07\n",
      "   -------------------------- ------------- 98.0/150.0 MB 8.5 MB/s eta 0:00:07\n",
      "   -------------------------- ------------- 99.9/150.0 MB 8.5 MB/s eta 0:00:06\n",
      "   --------------------------- ------------ 102.2/150.0 MB 8.5 MB/s eta 0:00:06\n",
      "   --------------------------- ------------ 104.1/150.0 MB 8.5 MB/s eta 0:00:06\n",
      "   ---------------------------- ----------- 105.9/150.0 MB 8.5 MB/s eta 0:00:06\n",
      "   ---------------------------- ----------- 107.7/150.0 MB 8.5 MB/s eta 0:00:05\n",
      "   ----------------------------- ---------- 109.8/150.0 MB 8.6 MB/s eta 0:00:05\n",
      "   ----------------------------- ---------- 111.9/150.0 MB 8.6 MB/s eta 0:00:05\n",
      "   ----------------------------- ---------- 111.9/150.0 MB 8.6 MB/s eta 0:00:05\n",
      "   ------------------------------ --------- 113.2/150.0 MB 8.4 MB/s eta 0:00:05\n",
      "   ------------------------------ --------- 115.6/150.0 MB 8.5 MB/s eta 0:00:05\n",
      "   ------------------------------- -------- 117.7/150.0 MB 8.5 MB/s eta 0:00:04\n",
      "   -------------------------------- ------- 120.1/150.0 MB 8.5 MB/s eta 0:00:04\n",
      "   -------------------------------- ------- 120.6/150.0 MB 8.5 MB/s eta 0:00:04\n",
      "   -------------------------------- ------- 121.6/150.0 MB 8.4 MB/s eta 0:00:04\n",
      "   -------------------------------- ------- 123.5/150.0 MB 8.4 MB/s eta 0:00:04\n",
      "   --------------------------------- ------ 125.3/150.0 MB 8.4 MB/s eta 0:00:03\n",
      "   ---------------------------------- ----- 127.7/150.0 MB 8.4 MB/s eta 0:00:03\n",
      "   ---------------------------------- ----- 129.5/150.0 MB 8.5 MB/s eta 0:00:03\n",
      "   ---------------------------------- ----- 129.5/150.0 MB 8.5 MB/s eta 0:00:03\n",
      "   ----------------------------------- ---- 131.6/150.0 MB 8.3 MB/s eta 0:00:03\n",
      "   ----------------------------------- ---- 133.4/150.0 MB 8.4 MB/s eta 0:00:02\n",
      "   ------------------------------------ --- 135.5/150.0 MB 8.4 MB/s eta 0:00:02\n",
      "   ------------------------------------ --- 137.4/150.0 MB 8.4 MB/s eta 0:00:02\n",
      "   ------------------------------------- -- 139.5/150.0 MB 8.4 MB/s eta 0:00:02\n",
      "   ------------------------------------- -- 141.0/150.0 MB 8.4 MB/s eta 0:00:02\n",
      "   -------------------------------------- - 142.6/150.0 MB 8.4 MB/s eta 0:00:01\n",
      "   -------------------------------------- - 144.4/150.0 MB 8.4 MB/s eta 0:00:01\n",
      "   ---------------------------------------  146.5/150.0 MB 8.4 MB/s eta 0:00:01\n",
      "   ---------------------------------------  148.4/150.0 MB 8.4 MB/s eta 0:00:01\n",
      "   ---------------------------------------  148.4/150.0 MB 8.4 MB/s eta 0:00:01\n",
      "   ---------------------------------------  149.9/150.0 MB 8.3 MB/s eta 0:00:01\n",
      "   ---------------------------------------  149.9/150.0 MB 8.3 MB/s eta 0:00:01\n",
      "   ---------------------------------------  149.9/150.0 MB 8.3 MB/s eta 0:00:01\n",
      "   ---------------------------------------- 150.0/150.0 MB 8.1 MB/s eta 0:00:00\n",
      "Installing collected packages: xgboost\n",
      "Successfully installed xgboost-3.0.1\n",
      "Note: you may need to restart the kernel to use updated packages.\n"
     ]
    },
    {
     "name": "stderr",
     "output_type": "stream",
     "text": [
      "\n",
      "[notice] A new release of pip is available: 24.2 -> 25.1.1\n",
      "[notice] To update, run: python.exe -m pip install --upgrade pip\n"
     ]
    }
   ],
   "source": [
    "pip install xgboost"
   ]
  },
  {
   "cell_type": "code",
   "execution_count": 3,
   "id": "da1c8212",
   "metadata": {},
   "outputs": [
    {
     "name": "stdout",
     "output_type": "stream",
     "text": [
      "📊 XGBoost Regression Evaluation\n",
      " - RMSE: 0.0454\n",
      " - MAE : 0.0308\n",
      " - R^2 : 0.9315\n"
     ]
    },
    {
     "name": "stderr",
     "output_type": "stream",
     "text": [
      "C:\\Users\\chica\\AppData\\Local\\Temp\\ipykernel_13052\\318448365.py:72: UserWarning: Glyph 128269 (\\N{LEFT-POINTING MAGNIFYING GLASS}) missing from font(s) Malgun Gothic.\n",
      "  plt.tight_layout()\n",
      "C:\\Users\\chica\\AppData\\Roaming\\Python\\Python312\\site-packages\\IPython\\core\\pylabtools.py:170: UserWarning: Glyph 128269 (\\N{LEFT-POINTING MAGNIFYING GLASS}) missing from font(s) Malgun Gothic.\n",
      "  fig.canvas.print_figure(bytes_io, **kw)\n"
     ]
    },
    {
     "data": {
      "image/png": "[encoded data removed]",
      "text/plain": [
       "<Figure size 640x480 with 1 Axes>"
      ]
     },
     "metadata": {},
     "output_type": "display_data"
    }
   ],
   "source": [
    "import pandas as pd\n",
    "import numpy as np\n",
    "from sklearn.model_selection import train_test_split\n",
    "from sklearn.preprocessing import StandardScaler\n",
    "from sklearn.metrics import mean_squared_error, mean_absolute_error, r2_score\n",
    "import xgboost as xgb\n",
    "import matplotlib.pyplot as plt\n",
    "\n",
    "import matplotlib.pyplot as plt\n",
    "import matplotlib.font_manager as fm\n",
    "\n",
    "# 한글 폰트 설정 (예: Windows에서는 'Malgun Gothic', Mac에서는 'AppleGothic')\n",
    "plt.rcParams['font.family'] = 'Malgun Gothic'\n",
    "\n",
    "# 마이너스 기호 깨짐 방지\n",
    "plt.rcParams['axes.unicode_minus'] = False\n",
    "\n",
    "\n",
    "# 1. 데이터 로딩\n",
    "df = pd.read_csv(\"지은데이터.csv\")\n",
    "\n",
    "# 2. 변수 선택\n",
    "basic_features = [#'시가총액', \n",
    "                  '관심도', 'stock_trend_n10', \n",
    "                  #'전일 대비 거래량 변화율'\n",
    "                  ]\n",
    "label_features = [\n",
    "    '기타', '범죄 혐의', '무혐의', '팬 대응', '사생활', '혐의정보 유포',\n",
    "    '성 관련', '사회적 감수성', '발언 문제', '종교/이념', '병역 문제',\n",
    "    '무의식적 태도', '세금 문제'\n",
    "]\n",
    "feature_cols = basic_features + label_features\n",
    "\n",
    "# 결측치 제거\n",
    "df_model = df.dropna(subset=feature_cols + ['CAR(1,2)'])\n",
    "\n",
    "X = df_model[feature_cols]\n",
    "y = df_model['CAR(1,2)']\n",
    "\n",
    "# 3. Train/Test 분할\n",
    "X_train, X_test, y_train, y_test = train_test_split(X, y, test_size=0.2, random_state=42)\n",
    "\n",
    "# # 4. 스케일링 (XGBoost는 스케일링 없어도 되지만 여기선 동일한 조건으로 유지)\n",
    "# scaler = StandardScaler()\n",
    "# X_train_scaled = scaler.fit_transform(X_train)\n",
    "# X_test_scaled = scaler.transform(X_test)\n",
    "\n",
    "# 5. XGBoost 회귀 모델 정의 및 학습\n",
    "xgb_reg = xgb.XGBRegressor(\n",
    "    n_estimators=100,\n",
    "    learning_rate=0.1,\n",
    "    max_depth=3,\n",
    "    subsample=0.8,\n",
    "    colsample_bytree=0.8,\n",
    "    random_state=42\n",
    ")\n",
    "xgb_reg.fit(X_train, y_train)\n",
    "\n",
    "# 6. 예측 및 평가\n",
    "y_pred = xgb_reg.predict(X_test)\n",
    "rmse = np.sqrt(mean_squared_error(y_test, y_pred))\n",
    "mae = mean_absolute_error(y_test, y_pred)\n",
    "r2 = r2_score(y_test, y_pred)\n",
    "\n",
    "print(\"📊 XGBoost Regression Evaluation\")\n",
    "print(f\" - RMSE: {rmse:.4f}\")\n",
    "print(f\" - MAE : {mae:.4f}\")\n",
    "print(f\" - R^2 : {r2:.4f}\")\n",
    "# 7. 중요 변수 시각화 (상위 10개)\n",
    "xgb.plot_importance(xgb_reg, max_num_features=10, height=0.4)\n",
    "plt.title(\"🔍 Feature Importance (Top 10)\")\n",
    "plt.tight_layout()\n",
    "plt.show()"
   ]
  }
 ],
 "metadata": {
  "kernelspec": {
   "display_name": "Python 3",
   "language": "python",
   "name": "python3"
  },
  "language_info": {
   "codemirror_mode": {
    "name": "ipython",
    "version": 3
   },
   "file_extension": ".py",
   "mimetype": "text/x-python",
   "name": "python",
   "nbconvert_exporter": "python",
   "pygments_lexer": "ipython3",
   "version": "3.12.2"
  }
 },
 "nbformat": 4,
 "nbformat_minor": 5
}
