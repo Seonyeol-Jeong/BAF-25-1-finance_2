{
 "cells": [
  {
   "cell_type": "markdown",
   "id": "2a767ddc",
   "metadata": {},
   "source": [
    "## HYBE로 테스트"
   ]
  },
  {
   "cell_type": "code",
   "execution_count": 107,
   "id": "b3591216",
   "metadata": {},
   "outputs": [
    {
     "data": {
      "text/html": [
       "<div>\n",
       "<style scoped>\n",
       "    .dataframe tbody tr th:only-of-type {\n",
       "        vertical-align: middle;\n",
       "    }\n",
       "\n",
       "    .dataframe tbody tr th {\n",
       "        vertical-align: top;\n",
       "    }\n",
       "\n",
       "    .dataframe thead th {\n",
       "        text-align: right;\n",
       "    }\n",
       "</style>\n",
       "<table border=\"1\" class=\"dataframe\">\n",
       "  <thead>\n",
       "    <tr style=\"text-align: right;\">\n",
       "      <th></th>\n",
       "      <th>날짜</th>\n",
       "      <th>종가</th>\n",
       "      <th>시가</th>\n",
       "      <th>고가</th>\n",
       "      <th>저가</th>\n",
       "      <th>거래량</th>\n",
       "      <th>변동 %</th>\n",
       "    </tr>\n",
       "  </thead>\n",
       "  <tbody>\n",
       "    <tr>\n",
       "      <th>0</th>\n",
       "      <td>2020- 10- 16</td>\n",
       "      <td>198,495</td>\n",
       "      <td>250,470</td>\n",
       "      <td>250,470</td>\n",
       "      <td>197,010</td>\n",
       "      <td>4.44M</td>\n",
       "      <td>-22.29%</td>\n",
       "    </tr>\n",
       "    <tr>\n",
       "      <th>1</th>\n",
       "      <td>2020- 10- 19</td>\n",
       "      <td>187,110</td>\n",
       "      <td>196,515</td>\n",
       "      <td>200,475</td>\n",
       "      <td>185,130</td>\n",
       "      <td>1.97M</td>\n",
       "      <td>-5.74%</td>\n",
       "    </tr>\n",
       "    <tr>\n",
       "      <th>2</th>\n",
       "      <td>2020- 10- 20</td>\n",
       "      <td>180,675</td>\n",
       "      <td>188,100</td>\n",
       "      <td>191,565</td>\n",
       "      <td>174,240</td>\n",
       "      <td>1.77M</td>\n",
       "      <td>-3.44%</td>\n",
       "    </tr>\n",
       "    <tr>\n",
       "      <th>3</th>\n",
       "      <td>2020- 10- 21</td>\n",
       "      <td>177,210</td>\n",
       "      <td>178,695</td>\n",
       "      <td>183,645</td>\n",
       "      <td>175,230</td>\n",
       "      <td>1.62M</td>\n",
       "      <td>-1.92%</td>\n",
       "    </tr>\n",
       "    <tr>\n",
       "      <th>4</th>\n",
       "      <td>2020- 10- 22</td>\n",
       "      <td>178,200</td>\n",
       "      <td>174,735</td>\n",
       "      <td>183,150</td>\n",
       "      <td>173,745</td>\n",
       "      <td>1.17M</td>\n",
       "      <td>0.56%</td>\n",
       "    </tr>\n",
       "    <tr>\n",
       "      <th>...</th>\n",
       "      <td>...</td>\n",
       "      <td>...</td>\n",
       "      <td>...</td>\n",
       "      <td>...</td>\n",
       "      <td>...</td>\n",
       "      <td>...</td>\n",
       "      <td>...</td>\n",
       "    </tr>\n",
       "    <tr>\n",
       "      <th>1261</th>\n",
       "      <td>2025- 04- 23</td>\n",
       "      <td>230,500</td>\n",
       "      <td>232,000</td>\n",
       "      <td>232,500</td>\n",
       "      <td>228,500</td>\n",
       "      <td>112.88K</td>\n",
       "      <td>0.00%</td>\n",
       "    </tr>\n",
       "    <tr>\n",
       "      <th>1262</th>\n",
       "      <td>2025- 04- 24</td>\n",
       "      <td>228,000</td>\n",
       "      <td>229,500</td>\n",
       "      <td>231,500</td>\n",
       "      <td>227,000</td>\n",
       "      <td>74.37K</td>\n",
       "      <td>-1.08%</td>\n",
       "    </tr>\n",
       "    <tr>\n",
       "      <th>1263</th>\n",
       "      <td>2025- 04- 25</td>\n",
       "      <td>232,500</td>\n",
       "      <td>228,500</td>\n",
       "      <td>234,500</td>\n",
       "      <td>226,500</td>\n",
       "      <td>172.04K</td>\n",
       "      <td>1.97%</td>\n",
       "    </tr>\n",
       "    <tr>\n",
       "      <th>1264</th>\n",
       "      <td>2025- 04- 28</td>\n",
       "      <td>248,500</td>\n",
       "      <td>233,500</td>\n",
       "      <td>248,500</td>\n",
       "      <td>230,000</td>\n",
       "      <td>318.67K</td>\n",
       "      <td>6.88%</td>\n",
       "    </tr>\n",
       "    <tr>\n",
       "      <th>1265</th>\n",
       "      <td>2025- 04- 29</td>\n",
       "      <td>253,000</td>\n",
       "      <td>250,000</td>\n",
       "      <td>253,500</td>\n",
       "      <td>243,500</td>\n",
       "      <td>288.64K</td>\n",
       "      <td>1.81%</td>\n",
       "    </tr>\n",
       "  </tbody>\n",
       "</table>\n",
       "<p>1266 rows × 7 columns</p>\n",
       "</div>"
      ],
      "text/plain": [
       "                날짜       종가       시가       고가       저가      거래량     변동 %\n",
       "0     2020- 10- 16  198,495  250,470  250,470  197,010    4.44M  -22.29%\n",
       "1     2020- 10- 19  187,110  196,515  200,475  185,130    1.97M   -5.74%\n",
       "2     2020- 10- 20  180,675  188,100  191,565  174,240    1.77M   -3.44%\n",
       "3     2020- 10- 21  177,210  178,695  183,645  175,230    1.62M   -1.92%\n",
       "4     2020- 10- 22  178,200  174,735  183,150  173,745    1.17M    0.56%\n",
       "...            ...      ...      ...      ...      ...      ...      ...\n",
       "1261  2025- 04- 23  230,500  232,000  232,500  228,500  112.88K    0.00%\n",
       "1262  2025- 04- 24  228,000  229,500  231,500  227,000   74.37K   -1.08%\n",
       "1263  2025- 04- 25  232,500  228,500  234,500  226,500  172.04K    1.97%\n",
       "1264  2025- 04- 28  248,500  233,500  248,500  230,000  318.67K    6.88%\n",
       "1265  2025- 04- 29  253,000  250,000  253,500  243,500  288.64K    1.81%\n",
       "\n",
       "[1266 rows x 7 columns]"
      ]
     },
     "execution_count": 107,
     "metadata": {},
     "output_type": "execute_result"
    }
   ],
   "source": [
    "import pandas as pd\n",
    "df = pd.read_csv(\"../데이터/주가/HYBE 과거 데이터.csv\")\n",
    "df"
   ]
  },
  {
   "cell_type": "code",
   "execution_count": 108,
   "id": "3aa39697",
   "metadata": {},
   "outputs": [
    {
     "name": "stdout",
     "output_type": "stream",
     "text": [
      "<class 'pandas.core.frame.DataFrame'>\n",
      "RangeIndex: 1266 entries, 0 to 1265\n",
      "Data columns (total 7 columns):\n",
      " #   Column  Non-Null Count  Dtype \n",
      "---  ------  --------------  ----- \n",
      " 0   날짜      1266 non-null   object\n",
      " 1   종가      1266 non-null   object\n",
      " 2   시가      1266 non-null   object\n",
      " 3   고가      1266 non-null   object\n",
      " 4   저가      1266 non-null   object\n",
      " 5   거래량     1116 non-null   object\n",
      " 6   변동 %    1266 non-null   object\n",
      "dtypes: object(7)\n",
      "memory usage: 69.4+ KB\n"
     ]
    }
   ],
   "source": [
    "df.info()"
   ]
  },
  {
   "cell_type": "markdown",
   "id": "1fe304d7",
   "metadata": {},
   "source": [
    "전부 object라서 \n",
    "\n",
    "`날짜`는 datetime으로, `가격`/`거래량`은 int로, `변동`은 float으로 변환\n"
   ]
  },
  {
   "cell_type": "markdown",
   "id": "fdf16e2d",
   "metadata": {},
   "source": [
    "### 1. `날짜`"
   ]
  },
  {
   "cell_type": "code",
   "execution_count": 109,
   "id": "811b2861",
   "metadata": {},
   "outputs": [],
   "source": [
    "df_copy = df.copy()"
   ]
  },
  {
   "cell_type": "code",
   "execution_count": 110,
   "id": "09b359f2",
   "metadata": {},
   "outputs": [],
   "source": [
    "df_copy['날짜'] = df_copy['날짜'].str.replace(' ', '')\n",
    "df_copy['날짜'] = pd.to_datetime(df_copy['날짜'])"
   ]
  },
  {
   "cell_type": "code",
   "execution_count": 111,
   "id": "7130d42e",
   "metadata": {},
   "outputs": [
    {
     "name": "stdout",
     "output_type": "stream",
     "text": [
      "<class 'pandas.core.frame.DataFrame'>\n",
      "RangeIndex: 1266 entries, 0 to 1265\n",
      "Data columns (total 7 columns):\n",
      " #   Column  Non-Null Count  Dtype         \n",
      "---  ------  --------------  -----         \n",
      " 0   날짜      1266 non-null   datetime64[ns]\n",
      " 1   종가      1266 non-null   object        \n",
      " 2   시가      1266 non-null   object        \n",
      " 3   고가      1266 non-null   object        \n",
      " 4   저가      1266 non-null   object        \n",
      " 5   거래량     1116 non-null   object        \n",
      " 6   변동 %    1266 non-null   object        \n",
      "dtypes: datetime64[ns](1), object(6)\n",
      "memory usage: 69.4+ KB\n"
     ]
    }
   ],
   "source": [
    "df_copy.info()"
   ]
  },
  {
   "cell_type": "markdown",
   "id": "acdf6299",
   "metadata": {},
   "source": [
    "### 2. `종가`, `시가`, `고가`, `저가`"
   ]
  },
  {
   "cell_type": "code",
   "execution_count": 112,
   "id": "149b35f6",
   "metadata": {},
   "outputs": [],
   "source": [
    "columns = ['종가', '시가', '고가', '저가']\n",
    "for i in columns:\n",
    "    df_copy[i] = df_copy[i].str.replace(',','')\n",
    "    df_copy[i] = df_copy[i].astype(int)"
   ]
  },
  {
   "cell_type": "code",
   "execution_count": 113,
   "id": "67e0fda4",
   "metadata": {},
   "outputs": [
    {
     "name": "stdout",
     "output_type": "stream",
     "text": [
      "<class 'pandas.core.frame.DataFrame'>\n",
      "RangeIndex: 1266 entries, 0 to 1265\n",
      "Data columns (total 7 columns):\n",
      " #   Column  Non-Null Count  Dtype         \n",
      "---  ------  --------------  -----         \n",
      " 0   날짜      1266 non-null   datetime64[ns]\n",
      " 1   종가      1266 non-null   int64         \n",
      " 2   시가      1266 non-null   int64         \n",
      " 3   고가      1266 non-null   int64         \n",
      " 4   저가      1266 non-null   int64         \n",
      " 5   거래량     1116 non-null   object        \n",
      " 6   변동 %    1266 non-null   object        \n",
      "dtypes: datetime64[ns](1), int64(4), object(2)\n",
      "memory usage: 69.4+ KB\n"
     ]
    }
   ],
   "source": [
    "df_copy.info()"
   ]
  },
  {
   "cell_type": "markdown",
   "id": "815aeaed",
   "metadata": {},
   "source": [
    "### 3. `거래량`"
   ]
  },
  {
   "cell_type": "code",
   "execution_count": 114,
   "id": "677f55cd",
   "metadata": {},
   "outputs": [
    {
     "data": {
      "text/html": [
       "<div>\n",
       "<style scoped>\n",
       "    .dataframe tbody tr th:only-of-type {\n",
       "        vertical-align: middle;\n",
       "    }\n",
       "\n",
       "    .dataframe tbody tr th {\n",
       "        vertical-align: top;\n",
       "    }\n",
       "\n",
       "    .dataframe thead th {\n",
       "        text-align: right;\n",
       "    }\n",
       "</style>\n",
       "<table border=\"1\" class=\"dataframe\">\n",
       "  <thead>\n",
       "    <tr style=\"text-align: right;\">\n",
       "      <th></th>\n",
       "      <th>날짜</th>\n",
       "      <th>종가</th>\n",
       "      <th>시가</th>\n",
       "      <th>고가</th>\n",
       "      <th>저가</th>\n",
       "      <th>거래량</th>\n",
       "      <th>변동 %</th>\n",
       "    </tr>\n",
       "  </thead>\n",
       "  <tbody>\n",
       "    <tr>\n",
       "      <th>6</th>\n",
       "      <td>2020- 10- 25</td>\n",
       "      <td>172,500</td>\n",
       "      <td>172,500</td>\n",
       "      <td>172,500</td>\n",
       "      <td>172,500</td>\n",
       "      <td>NaN</td>\n",
       "      <td>1.01%</td>\n",
       "    </tr>\n",
       "    <tr>\n",
       "      <th>12</th>\n",
       "      <td>2020- 11- 01</td>\n",
       "      <td>142,000</td>\n",
       "      <td>142,000</td>\n",
       "      <td>142,000</td>\n",
       "      <td>142,000</td>\n",
       "      <td>NaN</td>\n",
       "      <td>1.01%</td>\n",
       "    </tr>\n",
       "    <tr>\n",
       "      <th>18</th>\n",
       "      <td>2020- 11- 08</td>\n",
       "      <td>162,000</td>\n",
       "      <td>162,000</td>\n",
       "      <td>162,000</td>\n",
       "      <td>162,000</td>\n",
       "      <td>NaN</td>\n",
       "      <td>1.01%</td>\n",
       "    </tr>\n",
       "    <tr>\n",
       "      <th>24</th>\n",
       "      <td>2020- 11- 15</td>\n",
       "      <td>160,000</td>\n",
       "      <td>160,000</td>\n",
       "      <td>160,000</td>\n",
       "      <td>160,000</td>\n",
       "      <td>NaN</td>\n",
       "      <td>1.01%</td>\n",
       "    </tr>\n",
       "    <tr>\n",
       "      <th>30</th>\n",
       "      <td>2020- 11- 22</td>\n",
       "      <td>184,500</td>\n",
       "      <td>184,500</td>\n",
       "      <td>184,500</td>\n",
       "      <td>184,500</td>\n",
       "      <td>NaN</td>\n",
       "      <td>1.01%</td>\n",
       "    </tr>\n",
       "    <tr>\n",
       "      <th>...</th>\n",
       "      <td>...</td>\n",
       "      <td>...</td>\n",
       "      <td>...</td>\n",
       "      <td>...</td>\n",
       "      <td>...</td>\n",
       "      <td>...</td>\n",
       "      <td>...</td>\n",
       "    </tr>\n",
       "    <tr>\n",
       "      <th>965</th>\n",
       "      <td>2024- 02- 12</td>\n",
       "      <td>200,000</td>\n",
       "      <td>200,000</td>\n",
       "      <td>200,000</td>\n",
       "      <td>200,000</td>\n",
       "      <td>NaN</td>\n",
       "      <td>0.00%</td>\n",
       "    </tr>\n",
       "    <tr>\n",
       "      <th>970</th>\n",
       "      <td>2024- 02- 18</td>\n",
       "      <td>208,500</td>\n",
       "      <td>208,500</td>\n",
       "      <td>208,500</td>\n",
       "      <td>208,500</td>\n",
       "      <td>NaN</td>\n",
       "      <td>0.00%</td>\n",
       "    </tr>\n",
       "    <tr>\n",
       "      <th>976</th>\n",
       "      <td>2024- 02- 25</td>\n",
       "      <td>215,500</td>\n",
       "      <td>215,500</td>\n",
       "      <td>215,500</td>\n",
       "      <td>215,500</td>\n",
       "      <td>NaN</td>\n",
       "      <td>0.00%</td>\n",
       "    </tr>\n",
       "    <tr>\n",
       "      <th>981</th>\n",
       "      <td>2024- 03- 03</td>\n",
       "      <td>199,100</td>\n",
       "      <td>199,100</td>\n",
       "      <td>199,100</td>\n",
       "      <td>199,100</td>\n",
       "      <td>NaN</td>\n",
       "      <td>0.00%</td>\n",
       "    </tr>\n",
       "    <tr>\n",
       "      <th>987</th>\n",
       "      <td>2024- 03- 10</td>\n",
       "      <td>194,600</td>\n",
       "      <td>194,600</td>\n",
       "      <td>194,600</td>\n",
       "      <td>194,600</td>\n",
       "      <td>NaN</td>\n",
       "      <td>0.00%</td>\n",
       "    </tr>\n",
       "  </tbody>\n",
       "</table>\n",
       "<p>150 rows × 7 columns</p>\n",
       "</div>"
      ],
      "text/plain": [
       "               날짜       종가       시가       고가       저가  거래량   변동 %\n",
       "6    2020- 10- 25  172,500  172,500  172,500  172,500  NaN  1.01%\n",
       "12   2020- 11- 01  142,000  142,000  142,000  142,000  NaN  1.01%\n",
       "18   2020- 11- 08  162,000  162,000  162,000  162,000  NaN  1.01%\n",
       "24   2020- 11- 15  160,000  160,000  160,000  160,000  NaN  1.01%\n",
       "30   2020- 11- 22  184,500  184,500  184,500  184,500  NaN  1.01%\n",
       "..            ...      ...      ...      ...      ...  ...    ...\n",
       "965  2024- 02- 12  200,000  200,000  200,000  200,000  NaN  0.00%\n",
       "970  2024- 02- 18  208,500  208,500  208,500  208,500  NaN  0.00%\n",
       "976  2024- 02- 25  215,500  215,500  215,500  215,500  NaN  0.00%\n",
       "981  2024- 03- 03  199,100  199,100  199,100  199,100  NaN  0.00%\n",
       "987  2024- 03- 10  194,600  194,600  194,600  194,600  NaN  0.00%\n",
       "\n",
       "[150 rows x 7 columns]"
      ]
     },
     "execution_count": 114,
     "metadata": {},
     "output_type": "execute_result"
    }
   ],
   "source": [
    "df[df['거래량'].isna()]"
   ]
  },
  {
   "cell_type": "code",
   "execution_count": 115,
   "id": "03387a43",
   "metadata": {},
   "outputs": [
    {
     "data": {
      "text/plain": [
       "{'.', '0', '1', '2', '3', '4', '5', '6', '7', '8', '9', 'K', 'M'}"
      ]
     },
     "execution_count": 115,
     "metadata": {},
     "output_type": "execute_result"
    }
   ],
   "source": [
    "tmp = set(''.join(df['거래량'].dropna().astype(str)))\n",
    "tmp"
   ]
  },
  {
   "cell_type": "code",
   "execution_count": 116,
   "id": "8564fca5",
   "metadata": {},
   "outputs": [],
   "source": [
    "def convert_volume(x):\n",
    "    if pd.isna(x):\n",
    "        return None\n",
    "    x = str(x).replace('.','')\n",
    "    if 'M' in x:\n",
    "        return float(x.replace('M',''))*1000000\n",
    "    elif 'K' in x:\n",
    "        return float(x.replace('K',''))*1000\n",
    "    else:\n",
    "        return float(x)\n",
    "\n",
    "df_copy['거래량'] = df_copy['거래량'].dropna().apply(convert_volume).astype(int)"
   ]
  },
  {
   "cell_type": "code",
   "execution_count": 117,
   "id": "ee746a75",
   "metadata": {},
   "outputs": [
    {
     "name": "stdout",
     "output_type": "stream",
     "text": [
      "<class 'pandas.core.frame.DataFrame'>\n",
      "RangeIndex: 1266 entries, 0 to 1265\n",
      "Data columns (total 7 columns):\n",
      " #   Column  Non-Null Count  Dtype         \n",
      "---  ------  --------------  -----         \n",
      " 0   날짜      1266 non-null   datetime64[ns]\n",
      " 1   종가      1266 non-null   int64         \n",
      " 2   시가      1266 non-null   int64         \n",
      " 3   고가      1266 non-null   int64         \n",
      " 4   저가      1266 non-null   int64         \n",
      " 5   거래량     1116 non-null   float64       \n",
      " 6   변동 %    1266 non-null   object        \n",
      "dtypes: datetime64[ns](1), float64(1), int64(4), object(1)\n",
      "memory usage: 69.4+ KB\n"
     ]
    }
   ],
   "source": [
    "df_copy.info()"
   ]
  },
  {
   "cell_type": "markdown",
   "id": "0b2ef0dd",
   "metadata": {},
   "source": [
    "### 4. `변동 %`"
   ]
  },
  {
   "cell_type": "code",
   "execution_count": 118,
   "id": "8c44fde4",
   "metadata": {},
   "outputs": [],
   "source": [
    "df_copy['변동 %'] = df_copy['변동 %'].str.replace('%', '').astype(float)"
   ]
  },
  {
   "cell_type": "code",
   "execution_count": 119,
   "id": "bd5f07ee",
   "metadata": {},
   "outputs": [
    {
     "name": "stdout",
     "output_type": "stream",
     "text": [
      "<class 'pandas.core.frame.DataFrame'>\n",
      "RangeIndex: 1266 entries, 0 to 1265\n",
      "Data columns (total 7 columns):\n",
      " #   Column  Non-Null Count  Dtype         \n",
      "---  ------  --------------  -----         \n",
      " 0   날짜      1266 non-null   datetime64[ns]\n",
      " 1   종가      1266 non-null   int64         \n",
      " 2   시가      1266 non-null   int64         \n",
      " 3   고가      1266 non-null   int64         \n",
      " 4   저가      1266 non-null   int64         \n",
      " 5   거래량     1116 non-null   float64       \n",
      " 6   변동 %    1266 non-null   float64       \n",
      "dtypes: datetime64[ns](1), float64(2), int64(4)\n",
      "memory usage: 69.4 KB\n"
     ]
    }
   ],
   "source": [
    "df_copy.info()"
   ]
  },
  {
   "cell_type": "code",
   "execution_count": 120,
   "id": "dc482e48",
   "metadata": {},
   "outputs": [],
   "source": [
    "df_copy.to_csv(\"../데이터/주가/cleaned/HYBE 과거 데이터_전처리.csv\", index=False, encoding=\"utf-8-sig\")"
   ]
  },
  {
   "cell_type": "code",
   "execution_count": 121,
   "id": "af19d16e",
   "metadata": {},
   "outputs": [
    {
     "data": {
      "text/plain": [
       "0      2020-10-16\n",
       "1      2020-10-19\n",
       "2      2020-10-20\n",
       "3      2020-10-21\n",
       "4      2020-10-22\n",
       "          ...    \n",
       "1261   2025-04-23\n",
       "1262   2025-04-24\n",
       "1263   2025-04-25\n",
       "1264   2025-04-28\n",
       "1265   2025-04-29\n",
       "Name: 날짜, Length: 1266, dtype: datetime64[ns]"
      ]
     },
     "execution_count": 121,
     "metadata": {},
     "output_type": "execute_result"
    }
   ],
   "source": [
    "df_copy['날짜']"
   ]
  },
  {
   "cell_type": "markdown",
   "id": "7b5d37ef",
   "metadata": {},
   "source": [
    "## 나머지 주가데이터 모두 적용"
   ]
  },
  {
   "cell_type": "code",
   "execution_count": 104,
   "id": "01ae9a4c",
   "metadata": {},
   "outputs": [],
   "source": [
    "import pandas as pd\n",
    "\n",
    "def preprocess_stock_df(df):\n",
    "    df = df.copy()\n",
    "\n",
    "    # 1. 날짜\n",
    "    df['날짜'] = df['날짜'].str.replace(' ', '')\n",
    "    df['날짜'] = pd.to_datetime(df['날짜'])\n",
    "\n",
    "    # 2. 가격\n",
    "    columns = ['종가', '시가', '고가', '저가']\n",
    "    for col in columns:\n",
    "        df[col] = df[col].astype(str).str.replace(',', '')\n",
    "        df[col] = df[col].astype(float).astype(int)\n",
    "\n",
    "    # 3. 거래량\n",
    "    def convert_volume(x):\n",
    "        if pd.isna(x):\n",
    "            return None\n",
    "        x = str(x).replace('.', '')\n",
    "        if 'M' in x:\n",
    "            return float(x.replace('M','')) * 1000000\n",
    "        elif 'K' in x:\n",
    "            return float(x.replace('K','')) * 1000\n",
    "        elif 'B' in x:\n",
    "            return float(x.replace('B', '')) * 1000000000\n",
    "        else:\n",
    "            return float(x)\n",
    "\n",
    "    df['거래량'] = df['거래량'].apply(convert_volume)\n",
    "\n",
    "    # 4. 변동 %\n",
    "    df['변동 %'] = df['변동 %'].str.replace('%', '', regex=False).astype(float)\n",
    "    # regex=False: 정규식 아님, 단순 문자 대체\n",
    "    return df"
   ]
  },
  {
   "cell_type": "code",
   "execution_count": 106,
   "id": "04406bc7",
   "metadata": {},
   "outputs": [],
   "source": [
    "import os\n",
    "\n",
    "input_dir = \"../데이터/주가\"\n",
    "output_dir = \"../데이터/주가/cleaned\"\n",
    "\n",
    "for file_name in os.listdir(input_dir):\n",
    "    if file_name.endswith(\"과거 데이터.csv\"):\n",
    "        input_path = os.path.join(input_dir, file_name)\n",
    "\n",
    "        # 파일명에 _전처리 붙이기\n",
    "        base_name, ext = os.path.splitext(file_name)\n",
    "        new_file_name = base_name + \"_전처리\" + ext\n",
    "        output_path = os.path.join(output_dir, new_file_name)\n",
    "\n",
    "        df = pd.read_csv(input_path)\n",
    "        df_cleaned = preprocess_stock_df(df)\n",
    "\n",
    "        df_cleaned.to_csv(output_path, index=False, encoding=\"utf-8-sig\")\n"
   ]
  }
 ],
 "metadata": {
  "kernelspec": {
   "display_name": "Python 3",
   "language": "python",
   "name": "python3"
  },
  "language_info": {
   "codemirror_mode": {
    "name": "ipython",
    "version": 3
   },
   "file_extension": ".py",
   "mimetype": "text/x-python",
   "name": "python",
   "nbconvert_exporter": "python",
   "pygments_lexer": "ipython3",
   "version": "3.12.2"
  }
 },
 "nbformat": 4,
 "nbformat_minor": 5
}
